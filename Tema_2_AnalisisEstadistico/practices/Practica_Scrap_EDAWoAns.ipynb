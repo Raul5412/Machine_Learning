{
 "cells": [
  {
   "cell_type": "markdown",
   "metadata": {},
   "source": [
    "[![Open In Colab](https://colab.research.google.com/assets/colab-badge.svg)](https://colab.research.google.com/github/MauricioRR-Tec/AprendizajeAutomatico/blob/master/Tema_2_AnalisisEstadistico/notebook/exercises/Practica_Scrap_EDAWoAns.ipynb)"
   ]
  },
  {
   "cell_type": "markdown",
   "metadata": {},
   "source": [
    "  - Monica Lara Pineda A01655306\n",
    "- Manuel Ortiz Hernández A01655515\n",
    "- Omar Alejandro Robledo Rodríguez A01338010\n",
    "- Diego Ramírez Levy A0136777\n",
    "- Raúl González Cardona A01654995"
   ]
  },
  {
   "cell_type": "markdown",
   "metadata": {},
   "source": [
    "<h1><center>Práctica de Módulo 2</center><h1>\n"
   ]
  },
  {
   "cell_type": "markdown",
   "metadata": {},
   "source": [
    "## ¿Qué es web scrapping?\n",
    "\n",
    "Es una técnica para recuperar grandes cantidades de datos de Internet.\n",
    "\n",
    "-----\n",
    "\n",
    "Existen diferentes técnicas como Scrappy, BeautifulSoup, etc. La librería más común es BeautifulSoup. \n",
    "\n",
    "Extrae la página Html de cualquier sitio web. Los datos almacenados por web Scrapping son un formato no estructurado. Convertimos los datos no estructurados en estructurados para el análisis y la exploración de datos.\n",
    "\n",
    "------\n",
    "\n",
    "### Bibliotecas utilizadas para Web Scraping\n",
    "\n",
    "Como sabemos, Python se usa para varias aplicaciones y existen diferentes bibliotecas para diferentes propósitos. En nuestra demostración adicional, usaremos las siguientes bibliotecas:\n",
    "\n",
    "   * BeautifulSoup: Beautiful Soup es un paquete de Python para analizar documentos HTML y XML. Crea árboles de análisis que son útiles para extraer los datos fácilmente.\n",
    "   * Pandas: Pandas es una biblioteca que se utiliza para la manipulación y el análisis de datos. Se utiliza para extraer los datos y almacenarlos en el formato deseado.\n",
    "   * Utilice matplotlib y seaborn para la visualización de datos"
   ]
  },
  {
   "cell_type": "markdown",
   "metadata": {},
   "source": [
    "------\n",
    "### ¿Cómo funciona el Web Scraping?\n",
    "\n",
    "Cuando ejecuta el código para web scraping, se envía una solicitud a la URL que ha mencionado. Como respuesta a la solicitud, el servidor envía los datos y le permite leer la página HTML o XML. Luego, el código analiza la página HTML o XML, encuentra los datos y los extrae.\n",
    "\n",
    "Para extraer datos utilizando web scraping con Python, debe seguir estos pasos básicos:\n",
    "\n",
    "   * Busque la URL que desea raspar\n",
    "   * Inspecciona la página\n",
    "   * Encuentra los datos que quieres extraer\n",
    "   * Escribe el codigo\n",
    "   * Ejecute el código y extraiga los datos\n",
    "   * Almacene los datos en el formato requerido\n",
    "\n",
    "------"
   ]
  },
  {
   "cell_type": "markdown",
   "metadata": {},
   "source": [
    "-------\n",
    "\n",
    "### Datos del sitio web de Flipkart\n",
    "\n",
    "Para comprobar cuál debería ser el precio óptimo de nuestro producto, estos precios pueden variar mucho. Entonces, vamos a mostrar cómo podemos obtener información relacionada con un producto en particular (computadora portátil).\n",
    "\n",
    "Primero, importemos todas las bibliotecas necesarias:"
   ]
  },
  {
   "cell_type": "code",
   "execution_count": 314,
   "metadata": {},
   "outputs": [],
   "source": [
    "import requests\n",
    "import pandas as pd\n",
    "from bs4 import BeautifulSoup\n",
    "import csv\n",
    "import matplotlib.pyplot as plt\n",
    "import seaborn as sns"
   ]
  },
  {
   "cell_type": "markdown",
   "metadata": {},
   "source": [
    "Los datos que extraemos son datos no estructurados. Por eso, crearemos listas vacías para almacenarlas de forma estructurada"
   ]
  },
  {
   "cell_type": "code",
   "execution_count": 4,
   "metadata": {},
   "outputs": [],
   "source": [
    "name=[]\n",
    "prices=[]\n",
    "ratings=[]\n",
    "df = pd.DataFrame()"
   ]
  },
  {
   "cell_type": "markdown",
   "metadata": {},
   "source": [
    "## Paso 1: busque la URL\n",
    "\n",
    "Para este ejemplo, vamos a **raspar** (Scrap) el sitio web de **Flipkart** para extraer el nombre, el precio y la calificación de las computadoras portátiles. La URL de esta página es:\n",
    "\n",
    "[Flipkart](https://www.flipkart.com/search?q=laptops&otracker=search&otracker1=search&marketplace=FLIPKART&as-show=on&as=off&as-pos=1&as-type=HISTORY.)"
   ]
  },
  {
   "cell_type": "code",
   "execution_count": 5,
   "metadata": {},
   "outputs": [],
   "source": [
    "# Dirección de la página web\n",
    "url = \"https://www.flipkart.com/search?q=laptops&otracker=search&otracker1=search&marketplace=FLIPKART&as-show=on&as=off&as-pos=1&as-type=HISTORY.\""
   ]
  },
  {
   "cell_type": "code",
   "execution_count": 6,
   "metadata": {},
   "outputs": [],
   "source": [
    "# Ejecutar GET-Request\n",
    "response = requests.get(url)"
   ]
  },
  {
   "cell_type": "code",
   "execution_count": 7,
   "metadata": {},
   "outputs": [],
   "source": [
    "# Analizar sintácticamente el archivo HTML de BeautifulSoup del texto fuente\n",
    "soup = BeautifulSoup(response.text, 'html.parser')"
   ]
  },
  {
   "cell_type": "markdown",
   "metadata": {},
   "source": [
    "### Paso 2: inspección de la página\n",
    "\n",
    "Los datos suelen estar anidados en etiquetas. Entonces, inspeccionamos la página para ver, bajo qué etiqueta están anidados los datos que queremos raspar. Para inspeccionar la página, simplemente haga clic derecho en el elemento y haga clic en \"Inspeccionar\" (o F12)."
   ]
  },
  {
   "cell_type": "markdown",
   "metadata": {},
   "source": [
    "![img](https://miro.medium.com/max/571/0*TF2VBxPanqhxb-hY.png)"
   ]
  },
  {
   "cell_type": "markdown",
   "metadata": {},
   "source": [
    "### Paso 3: busque los datos que desea extraer\n",
    "\n",
    "Extraigamos el nombre, precio y calificación que están anidados en la etiqueta \"div\" respectivamente.\n",
    "\n",
    "Por lo general, nos confundiremos sobre qué etiqueta necesitamos copiar para esta computadora portátil. Podemos usar https://webformatter.com/ para filtrar la etiqueta por el nombre, el precio y la calificación, y podemos copiar fácilmente con esta herramienta.\n",
    "\n",
    "Ahora que hemos escrito el código para abrir la URL, es hora de extraer los datos del sitio web. Como se mencionó anteriormente, los datos que queremos extraer están anidados en etiquetas <div>. Entonces, encontraremos las etiquetas div con esos respectivos nombres de clase, extraeremos y almacenaremos los datos en una variable. Consulte el código a continuación:"
   ]
  },
  {
   "cell_type": "code",
   "execution_count": 8,
   "metadata": {},
   "outputs": [],
   "source": [
    "main_box = soup.find_all(\"div\", {\"class\":\"_13oc-S\"})"
   ]
  },
  {
   "cell_type": "code",
   "execution_count": 9,
   "metadata": {},
   "outputs": [
    {
     "data": {
      "text/plain": [
       "24"
      ]
     },
     "execution_count": 9,
     "metadata": {},
     "output_type": "execute_result"
    }
   ],
   "source": [
    "len(main_box)"
   ]
  },
  {
   "cell_type": "code",
   "execution_count": 10,
   "metadata": {},
   "outputs": [],
   "source": [
    "box = main_box[0]"
   ]
  },
  {
   "cell_type": "code",
   "execution_count": 11,
   "metadata": {},
   "outputs": [
    {
     "data": {
      "text/plain": [
       "<div class=\"_13oc-S\"><div data-id=\"COMFTC4YBSK8WZQC\" style=\"width:100%\"><div class=\"_2kHMtA\"><div class=\"_2tfzpE\"><span>Ad</span></div><a class=\"_1fQZEK\" href=\"/dell-xps-core-i5-10th-gen-8-gb-512-gb-ssd-windows-10-home-9300-thin-light-laptop/p/itm7de8623c77dff?pid=COMFTC4YBSK8WZQC&amp;lid=LSTCOMFTC4YBSK8WZQCYL4O3P&amp;marketplace=FLIPKART&amp;q=laptops&amp;store=6bo%2Fb5g&amp;srno=s_1_1&amp;otracker=search&amp;otracker1=search&amp;fm=organic&amp;iid=en_M1xrFux3%2BDy3kCKhZZmJX79koMHvA%2BEWfhgzqYXl80wrSOgQNREGbdgDHUrtEiXMCqm2arMdVhYnMMXr4AQI%2Fg%3D%3D&amp;ppt=None&amp;ppn=None&amp;ssid=575fa5smow0000001631666320473&amp;qH=c06ea84a1e3dc3c6\" rel=\"noopener noreferrer\" target=\"_blank\"><div class=\"MIXNux\"><div class=\"_2QcLo-\"><div><div class=\"CXW8mj\" style=\"height:200px;width:200px\"><img alt=\"DELL XPS Core i5 10th Gen - (8 GB/512 GB SSD/Windows 10 Home) XPS 9300 Thin and Light Laptop\" class=\"_396cs4 _3exPp9\" src=\"https://rukminim1.flixcart.com/image/312/312/kf2v3ww0/computer/h/t/m/dell-original-imafvm5ymhkzvdqu.jpeg?q=70\"/></div></div></div><div class=\"_3wLduG\"><div class=\"_3PzNI-\"><span class=\"f3A4_V\"><label class=\"_2iDkf8\"><input class=\"_30VH1S\" readonly=\"\" type=\"checkbox\"/><div class=\"_24_Dny\"></div></label></span><label class=\"_6Up2sF\"><span>Add to Compare</span></label></div></div><div class=\"_2hVSre _3nq8ih\"><div class=\"_36FSn5\"><svg class=\"_1l0elc\" height=\"16\" viewbox=\"0 0 20 16\" width=\"16\" xmlns=\"http://www.w3.org/2000/svg\"><path class=\"eX72wL\" d=\"M8.695 16.682C4.06 12.382 1 9.536 1 6.065 1 3.219 3.178 1 5.95 1c1.566 0 3.069.746 4.05 1.915C10.981 1.745 12.484 1 14.05 1 16.822 1 19 3.22 19 6.065c0 3.471-3.06 6.316-7.695 10.617L10 17.897l-1.305-1.215z\" fill=\"#2874F0\" fill-rule=\"evenodd\" opacity=\".9\" stroke=\"#FFF\"></path></svg></div></div></div><div class=\"_3pLy-c row\"><div class=\"col col-7-12\"><div class=\"_4rR01T\">DELL XPS Core i5 10th Gen - (8 GB/512 GB SSD/Windows 10 Home) XPS 9300 Thin and Light Laptop</div><div class=\"fMghEO\"><ul class=\"_1xgFaf\"><li class=\"rgWa7D\">Intel Core i5 Processor (10th Gen)</li><li class=\"rgWa7D\">8 GB LPDDR4X RAM</li><li class=\"rgWa7D\">64 bit Windows 10 Operating System</li><li class=\"rgWa7D\">512 GB SSD</li><li class=\"rgWa7D\">33.78 cm (13.3 inch) Display</li><li class=\"rgWa7D\">Microsoft Office 365</li><li class=\"rgWa7D\">1 Year Limited Hardware Warranty, In Home Service After Remote Diagnosis - Retail</li></ul></div></div><div class=\"col col-5-12 nlI3QM\"><div class=\"_3tbKJL\"><div class=\"_25b18c\"><div class=\"_30jeq3 _1_WHN1\">₹1,19,990</div><div class=\"_3I9_wc _27UcVY\">₹<!-- -->1,54,446</div><div class=\"_3Ay6Sb\"><span>22% off</span></div></div></div><div class=\"_13J9qT\"><img height=\"21\" src=\"//static-assets-web.flixcart.com/www/linchpin/fk-cp-zion/img/fa_62673a.png\"/></div><div class=\"_2ZdXDB\"><div class=\"_3xFhiH\"><div class=\"_2Tpdn3 _18hQoS\" style=\"color:#000000;font-size:12px;font-style:normal;font-weight:400\">No Cost EMI from ₹19,999/month</div></div></div></div></div></a></div></div></div>"
      ]
     },
     "execution_count": 11,
     "metadata": {},
     "output_type": "execute_result"
    }
   ],
   "source": [
    "box"
   ]
  },
  {
   "cell_type": "code",
   "execution_count": 12,
   "metadata": {},
   "outputs": [],
   "source": [
    "# Limpiar los rating cuando su valor es nulo\n",
    "def clean_rating(box, class_type):\n",
    "    is_null = box.find(attrs={'class': class_type})\n",
    "    return is_null.text.strip() if (is_null is not None) else \"0.0\""
   ]
  },
  {
   "cell_type": "code",
   "execution_count": 13,
   "metadata": {},
   "outputs": [],
   "source": [
    "# Extraer todos los nombres, precios y ratings del archivo HTML\n",
    "title = box.find('div', attrs={'class':\"_4rR01T\"}).text.strip()\n",
    "price = box.find('div', attrs={'class':\"_30jeq3 _1_WHN1\"}).text.strip()\n",
    "rating = clean_rating(box,\"_3LWZlK\")"
   ]
  },
  {
   "cell_type": "code",
   "execution_count": 14,
   "metadata": {},
   "outputs": [
    {
     "name": "stdout",
     "output_type": "stream",
     "text": [
      "DELL XPS Core i5 10th Gen - (8 GB/512 GB SSD/Windows 10 Home) XPS 9300 Thin and Light Laptop ₹1,19,990 0.0\n"
     ]
    }
   ],
   "source": [
    "print(title,price,rating)"
   ]
  },
  {
   "cell_type": "code",
   "execution_count": 15,
   "metadata": {},
   "outputs": [],
   "source": [
    "name_html = soup.find_all('div', attrs={'class':\"_4rR01T\"})\n",
    "price_html = soup.find_all('div', attrs={'class':\"_30jeq3 _1_WHN1\"})\n",
    "rating_html = soup.find_all('div', attrs={'class':\"_3LWZlK\"})\n",
    "\n",
    "for name_obj in name_html:\n",
    "    name.append(name_obj.text)\n",
    "for price_obj in price_html:\n",
    "    prices.append(price_obj.text)\n",
    "for rating_obj in rating_html:\n",
    "    ratings.append(rating_obj.text)"
   ]
  },
  {
   "cell_type": "code",
   "execution_count": 16,
   "metadata": {},
   "outputs": [],
   "source": [
    "data_list=[]\n",
    "for box in main_box:\n",
    "    temp_dict={}\n",
    "    #completa\n",
    "    temp_dict['name'] = box.find('div', attrs={'class':\"_4rR01T\"}).text.strip()\n",
    "    temp_dict['rating'] = rating = clean_rating(box,\"_3LWZlK\")\n",
    "    temp_dict['price'] = box.find('div', attrs={'class':\"_30jeq3 _1_WHN1\"}).text.strip()\n",
    "    data_list.append(temp_dict)"
   ]
  },
  {
   "cell_type": "code",
   "execution_count": 17,
   "metadata": {},
   "outputs": [
    {
     "name": "stdout",
     "output_type": "stream",
     "text": [
      "{'name': 'DELL XPS Core i5 10th Gen - (8 GB/512 GB SSD/Windows 10 Home) XPS 9300 Thin and Light Laptop', 'rating': '0.0', 'price': '₹1,19,990'}\n"
     ]
    }
   ],
   "source": [
    "print(data_list[0])"
   ]
  },
  {
   "cell_type": "markdown",
   "metadata": {},
   "source": [
    "### Paso 4: Crear un dataframe y guardar los datos en csv\n",
    "\n",
    "Después de extraer los datos, es posible que desee almacenarlos en un formato. Este formato varía según sus necesidades. Para este ejemplo, almacenaremos los datos extraídos en formato CSV (valores separados por comas). Para hacer esto, agregaré las siguientes líneas a mi código:"
   ]
  },
  {
   "cell_type": "code",
   "execution_count": 18,
   "metadata": {},
   "outputs": [],
   "source": [
    "#To show products that only have price and rating\n",
    "headers = [\"Product Name\", \"Prices\", \"Ratings\"]\n",
    "\n",
    "with open('./zitate.csv', 'w') as csv_file:\n",
    "    csv_writer = csv.writer(csv_file, dialect='excel')\n",
    "    csv_writer.writerow(headers)\n",
    "    csv_writer.writerows(zip(name, prices, ratings))"
   ]
  },
  {
   "cell_type": "code",
   "execution_count": 19,
   "metadata": {},
   "outputs": [],
   "source": [
    "#To show all products even if they dont have price or rating\n",
    "dataset = {'Product Name':name, 'Price':prices, 'Rating':ratings}\n",
    "df = pd.DataFrame.from_dict(dataset, orient='index')\n",
    "df.transpose()\n",
    "df.to_csv('products.csv', index=True, encoding='utf-8')"
   ]
  },
  {
   "cell_type": "code",
   "execution_count": 138,
   "metadata": {},
   "outputs": [],
   "source": [
    "laptops = pd.DataFrame(data_list)\n",
    "laptops['price'] = laptops['price'].apply(lambda x: x.lstrip('₹'))"
   ]
  },
  {
   "cell_type": "code",
   "execution_count": 139,
   "metadata": {},
   "outputs": [
    {
     "data": {
      "text/html": [
       "<div>\n",
       "<style scoped>\n",
       "    .dataframe tbody tr th:only-of-type {\n",
       "        vertical-align: middle;\n",
       "    }\n",
       "\n",
       "    .dataframe tbody tr th {\n",
       "        vertical-align: top;\n",
       "    }\n",
       "\n",
       "    .dataframe thead th {\n",
       "        text-align: right;\n",
       "    }\n",
       "</style>\n",
       "<table border=\"1\" class=\"dataframe\">\n",
       "  <thead>\n",
       "    <tr style=\"text-align: right;\">\n",
       "      <th></th>\n",
       "      <th>name</th>\n",
       "      <th>rating</th>\n",
       "      <th>price</th>\n",
       "    </tr>\n",
       "  </thead>\n",
       "  <tbody>\n",
       "    <tr>\n",
       "      <th>0</th>\n",
       "      <td>DELL XPS Core i5 10th Gen - (8 GB/512 GB SSD/W...</td>\n",
       "      <td>0.0</td>\n",
       "      <td>1,19,990</td>\n",
       "    </tr>\n",
       "    <tr>\n",
       "      <th>1</th>\n",
       "      <td>ASUS VivoBook 15 Core i3 10th Gen - (4 GB/1 TB...</td>\n",
       "      <td>3.8</td>\n",
       "      <td>34,990</td>\n",
       "    </tr>\n",
       "    <tr>\n",
       "      <th>2</th>\n",
       "      <td>HP 14s Core i3 11th Gen - (8 GB/256 GB SSD/Win...</td>\n",
       "      <td>4.4</td>\n",
       "      <td>41,990</td>\n",
       "    </tr>\n",
       "    <tr>\n",
       "      <th>3</th>\n",
       "      <td>HP Pavilion Ryzen 5 Hexa Core 5600H - (8 GB/51...</td>\n",
       "      <td>4.5</td>\n",
       "      <td>64,056</td>\n",
       "    </tr>\n",
       "    <tr>\n",
       "      <th>4</th>\n",
       "      <td>acer Aspire 7 Ryzen 5 Hexa Core 5500U - (8 GB/...</td>\n",
       "      <td>4.5</td>\n",
       "      <td>56,990</td>\n",
       "    </tr>\n",
       "    <tr>\n",
       "      <th>5</th>\n",
       "      <td>acer Aspire 7 Core i5 10th Gen - (8 GB/512 GB ...</td>\n",
       "      <td>4.4</td>\n",
       "      <td>56,990</td>\n",
       "    </tr>\n",
       "    <tr>\n",
       "      <th>6</th>\n",
       "      <td>Lenovo IdeaPad Slim 3i (2021) Core i3 11th Gen...</td>\n",
       "      <td>4.4</td>\n",
       "      <td>45,990</td>\n",
       "    </tr>\n",
       "    <tr>\n",
       "      <th>7</th>\n",
       "      <td>ALIENWARE Core i9 10th Gen - (32 GB/1 TB SSD/W...</td>\n",
       "      <td>4.6</td>\n",
       "      <td>3,19,990</td>\n",
       "    </tr>\n",
       "    <tr>\n",
       "      <th>8</th>\n",
       "      <td>Lenovo APU Dual Core A9 A99425 - (4 GB/1 TB HD...</td>\n",
       "      <td>4.6</td>\n",
       "      <td>28,000</td>\n",
       "    </tr>\n",
       "    <tr>\n",
       "      <th>9</th>\n",
       "      <td>HP 15-ec1105AX Ryzen 5 Hexa Core 4600H - (8 GB...</td>\n",
       "      <td>4.5</td>\n",
       "      <td>59,990</td>\n",
       "    </tr>\n",
       "    <tr>\n",
       "      <th>10</th>\n",
       "      <td>Lenovo IdeaPad 3 Core i3 10th Gen - (8 GB/1 TB...</td>\n",
       "      <td>4.3</td>\n",
       "      <td>39,990</td>\n",
       "    </tr>\n",
       "    <tr>\n",
       "      <th>11</th>\n",
       "      <td>DELL Inspiron 7000 Core i5 10th Gen - (8 GB/51...</td>\n",
       "      <td>0.0</td>\n",
       "      <td>69,990</td>\n",
       "    </tr>\n",
       "    <tr>\n",
       "      <th>12</th>\n",
       "      <td>HP Ryzen 5 Quad Core 3500U - (8 GB/1 TB HDD/25...</td>\n",
       "      <td>4.4</td>\n",
       "      <td>47,990</td>\n",
       "    </tr>\n",
       "    <tr>\n",
       "      <th>13</th>\n",
       "      <td>HP 15s Ryzen 3 Dual Core 3250U - (8 GB/1 TB HD...</td>\n",
       "      <td>4.2</td>\n",
       "      <td>38,499</td>\n",
       "    </tr>\n",
       "    <tr>\n",
       "      <th>14</th>\n",
       "      <td>DELL Vostro Core i3 10th Gen - (4 GB/256 GB SS...</td>\n",
       "      <td>4.2</td>\n",
       "      <td>36,057</td>\n",
       "    </tr>\n",
       "    <tr>\n",
       "      <th>15</th>\n",
       "      <td>DELL Vostro Core i3 10th Gen - (8 GB/1 TB HDD/...</td>\n",
       "      <td>4</td>\n",
       "      <td>37,379</td>\n",
       "    </tr>\n",
       "    <tr>\n",
       "      <th>16</th>\n",
       "      <td>ASUS VivoBook Flip Ryzen 5 Hexa Core - (8 GB/5...</td>\n",
       "      <td>4.4</td>\n",
       "      <td>59,990</td>\n",
       "    </tr>\n",
       "    <tr>\n",
       "      <th>17</th>\n",
       "      <td>HP 15s Core i3 11th Gen - (8 GB/512 GB SSD/Win...</td>\n",
       "      <td>4.5</td>\n",
       "      <td>45,514</td>\n",
       "    </tr>\n",
       "    <tr>\n",
       "      <th>18</th>\n",
       "      <td>MSI GF65 Thin Hexa Core i5 10th Gen - (16 GB/5...</td>\n",
       "      <td>4.6</td>\n",
       "      <td>74,990</td>\n",
       "    </tr>\n",
       "    <tr>\n",
       "      <th>19</th>\n",
       "      <td>DELL Inspiron Ryzen 5 Quad Core 3450U - (8 GB/...</td>\n",
       "      <td>4.2</td>\n",
       "      <td>42,890</td>\n",
       "    </tr>\n",
       "    <tr>\n",
       "      <th>20</th>\n",
       "      <td>DELL Inspiron Core i5 11th Gen - (8 GB/512 GB ...</td>\n",
       "      <td>4.7</td>\n",
       "      <td>69,990</td>\n",
       "    </tr>\n",
       "    <tr>\n",
       "      <th>21</th>\n",
       "      <td>Lenovo IdeaPad 3 Core i3 11th Gen - (8 GB/512 ...</td>\n",
       "      <td>4.3</td>\n",
       "      <td>44,490</td>\n",
       "    </tr>\n",
       "    <tr>\n",
       "      <th>22</th>\n",
       "      <td>ASUS TUF Gaming F15 Core i5 10th Gen - (8 GB/5...</td>\n",
       "      <td>4.5</td>\n",
       "      <td>61,990</td>\n",
       "    </tr>\n",
       "    <tr>\n",
       "      <th>23</th>\n",
       "      <td>acer Predator Core i7 11th Gen - (16 GB/1 TB S...</td>\n",
       "      <td>4</td>\n",
       "      <td>1,29,990</td>\n",
       "    </tr>\n",
       "  </tbody>\n",
       "</table>\n",
       "</div>"
      ],
      "text/plain": [
       "                                                 name rating     price\n",
       "0   DELL XPS Core i5 10th Gen - (8 GB/512 GB SSD/W...    0.0  1,19,990\n",
       "1   ASUS VivoBook 15 Core i3 10th Gen - (4 GB/1 TB...    3.8    34,990\n",
       "2   HP 14s Core i3 11th Gen - (8 GB/256 GB SSD/Win...    4.4    41,990\n",
       "3   HP Pavilion Ryzen 5 Hexa Core 5600H - (8 GB/51...    4.5    64,056\n",
       "4   acer Aspire 7 Ryzen 5 Hexa Core 5500U - (8 GB/...    4.5    56,990\n",
       "5   acer Aspire 7 Core i5 10th Gen - (8 GB/512 GB ...    4.4    56,990\n",
       "6   Lenovo IdeaPad Slim 3i (2021) Core i3 11th Gen...    4.4    45,990\n",
       "7   ALIENWARE Core i9 10th Gen - (32 GB/1 TB SSD/W...    4.6  3,19,990\n",
       "8   Lenovo APU Dual Core A9 A99425 - (4 GB/1 TB HD...    4.6    28,000\n",
       "9   HP 15-ec1105AX Ryzen 5 Hexa Core 4600H - (8 GB...    4.5    59,990\n",
       "10  Lenovo IdeaPad 3 Core i3 10th Gen - (8 GB/1 TB...    4.3    39,990\n",
       "11  DELL Inspiron 7000 Core i5 10th Gen - (8 GB/51...    0.0    69,990\n",
       "12  HP Ryzen 5 Quad Core 3500U - (8 GB/1 TB HDD/25...    4.4    47,990\n",
       "13  HP 15s Ryzen 3 Dual Core 3250U - (8 GB/1 TB HD...    4.2    38,499\n",
       "14  DELL Vostro Core i3 10th Gen - (4 GB/256 GB SS...    4.2    36,057\n",
       "15  DELL Vostro Core i3 10th Gen - (8 GB/1 TB HDD/...      4    37,379\n",
       "16  ASUS VivoBook Flip Ryzen 5 Hexa Core - (8 GB/5...    4.4    59,990\n",
       "17  HP 15s Core i3 11th Gen - (8 GB/512 GB SSD/Win...    4.5    45,514\n",
       "18  MSI GF65 Thin Hexa Core i5 10th Gen - (16 GB/5...    4.6    74,990\n",
       "19  DELL Inspiron Ryzen 5 Quad Core 3450U - (8 GB/...    4.2    42,890\n",
       "20  DELL Inspiron Core i5 11th Gen - (8 GB/512 GB ...    4.7    69,990\n",
       "21  Lenovo IdeaPad 3 Core i3 11th Gen - (8 GB/512 ...    4.3    44,490\n",
       "22  ASUS TUF Gaming F15 Core i5 10th Gen - (8 GB/5...    4.5    61,990\n",
       "23  acer Predator Core i7 11th Gen - (16 GB/1 TB S...      4  1,29,990"
      ]
     },
     "execution_count": 139,
     "metadata": {},
     "output_type": "execute_result"
    }
   ],
   "source": [
    "laptops"
   ]
  },
  {
   "cell_type": "code",
   "execution_count": 22,
   "metadata": {},
   "outputs": [],
   "source": [
    "laptops.to_csv(\"datos_compus.csv\", index=False, encoding='utf-8')"
   ]
  },
  {
   "cell_type": "markdown",
   "metadata": {},
   "source": [
    "### Paso 5: Un poco de EDA y visualización de este archivo"
   ]
  },
  {
   "cell_type": "code",
   "execution_count": 231,
   "metadata": {},
   "outputs": [
    {
     "data": {
      "text/html": [
       "<div>\n",
       "<style scoped>\n",
       "    .dataframe tbody tr th:only-of-type {\n",
       "        vertical-align: middle;\n",
       "    }\n",
       "\n",
       "    .dataframe tbody tr th {\n",
       "        vertical-align: top;\n",
       "    }\n",
       "\n",
       "    .dataframe thead th {\n",
       "        text-align: right;\n",
       "    }\n",
       "</style>\n",
       "<table border=\"1\" class=\"dataframe\">\n",
       "  <thead>\n",
       "    <tr style=\"text-align: right;\">\n",
       "      <th></th>\n",
       "      <th>name</th>\n",
       "      <th>rating</th>\n",
       "      <th>price</th>\n",
       "    </tr>\n",
       "  </thead>\n",
       "  <tbody>\n",
       "    <tr>\n",
       "      <th>0</th>\n",
       "      <td>DELL XPS Core i5 10th Gen - (8 GB/512 GB SSD/W...</td>\n",
       "      <td>0.0</td>\n",
       "      <td>119990</td>\n",
       "    </tr>\n",
       "    <tr>\n",
       "      <th>1</th>\n",
       "      <td>ASUS VivoBook 15 Core i3 10th Gen - (4 GB/1 TB...</td>\n",
       "      <td>3.8</td>\n",
       "      <td>34990</td>\n",
       "    </tr>\n",
       "    <tr>\n",
       "      <th>2</th>\n",
       "      <td>HP 14s Core i3 11th Gen - (8 GB/256 GB SSD/Win...</td>\n",
       "      <td>4.4</td>\n",
       "      <td>41990</td>\n",
       "    </tr>\n",
       "    <tr>\n",
       "      <th>3</th>\n",
       "      <td>HP Pavilion Ryzen 5 Hexa Core 5600H - (8 GB/51...</td>\n",
       "      <td>4.5</td>\n",
       "      <td>64056</td>\n",
       "    </tr>\n",
       "    <tr>\n",
       "      <th>4</th>\n",
       "      <td>acer Aspire 7 Ryzen 5 Hexa Core 5500U - (8 GB/...</td>\n",
       "      <td>4.5</td>\n",
       "      <td>56990</td>\n",
       "    </tr>\n",
       "    <tr>\n",
       "      <th>5</th>\n",
       "      <td>acer Aspire 7 Core i5 10th Gen - (8 GB/512 GB ...</td>\n",
       "      <td>4.4</td>\n",
       "      <td>56990</td>\n",
       "    </tr>\n",
       "    <tr>\n",
       "      <th>6</th>\n",
       "      <td>Lenovo IdeaPad Slim 3i (2021) Core i3 11th Gen...</td>\n",
       "      <td>4.4</td>\n",
       "      <td>45990</td>\n",
       "    </tr>\n",
       "    <tr>\n",
       "      <th>7</th>\n",
       "      <td>ALIENWARE Core i9 10th Gen - (32 GB/1 TB SSD/W...</td>\n",
       "      <td>4.6</td>\n",
       "      <td>319990</td>\n",
       "    </tr>\n",
       "    <tr>\n",
       "      <th>8</th>\n",
       "      <td>Lenovo APU Dual Core A9 A99425 - (4 GB/1 TB HD...</td>\n",
       "      <td>4.6</td>\n",
       "      <td>28000</td>\n",
       "    </tr>\n",
       "    <tr>\n",
       "      <th>9</th>\n",
       "      <td>HP 15-ec1105AX Ryzen 5 Hexa Core 4600H - (8 GB...</td>\n",
       "      <td>4.5</td>\n",
       "      <td>59990</td>\n",
       "    </tr>\n",
       "    <tr>\n",
       "      <th>10</th>\n",
       "      <td>Lenovo IdeaPad 3 Core i3 10th Gen - (8 GB/1 TB...</td>\n",
       "      <td>4.3</td>\n",
       "      <td>39990</td>\n",
       "    </tr>\n",
       "    <tr>\n",
       "      <th>11</th>\n",
       "      <td>DELL Inspiron 7000 Core i5 10th Gen - (8 GB/51...</td>\n",
       "      <td>0.0</td>\n",
       "      <td>69990</td>\n",
       "    </tr>\n",
       "    <tr>\n",
       "      <th>12</th>\n",
       "      <td>HP Ryzen 5 Quad Core 3500U - (8 GB/1 TB HDD/25...</td>\n",
       "      <td>4.4</td>\n",
       "      <td>47990</td>\n",
       "    </tr>\n",
       "    <tr>\n",
       "      <th>13</th>\n",
       "      <td>HP 15s Ryzen 3 Dual Core 3250U - (8 GB/1 TB HD...</td>\n",
       "      <td>4.2</td>\n",
       "      <td>38499</td>\n",
       "    </tr>\n",
       "    <tr>\n",
       "      <th>14</th>\n",
       "      <td>DELL Vostro Core i3 10th Gen - (4 GB/256 GB SS...</td>\n",
       "      <td>4.2</td>\n",
       "      <td>36057</td>\n",
       "    </tr>\n",
       "    <tr>\n",
       "      <th>15</th>\n",
       "      <td>DELL Vostro Core i3 10th Gen - (8 GB/1 TB HDD/...</td>\n",
       "      <td>4.0</td>\n",
       "      <td>37379</td>\n",
       "    </tr>\n",
       "    <tr>\n",
       "      <th>16</th>\n",
       "      <td>ASUS VivoBook Flip Ryzen 5 Hexa Core - (8 GB/5...</td>\n",
       "      <td>4.4</td>\n",
       "      <td>59990</td>\n",
       "    </tr>\n",
       "    <tr>\n",
       "      <th>17</th>\n",
       "      <td>HP 15s Core i3 11th Gen - (8 GB/512 GB SSD/Win...</td>\n",
       "      <td>4.5</td>\n",
       "      <td>45514</td>\n",
       "    </tr>\n",
       "    <tr>\n",
       "      <th>18</th>\n",
       "      <td>MSI GF65 Thin Hexa Core i5 10th Gen - (16 GB/5...</td>\n",
       "      <td>4.6</td>\n",
       "      <td>74990</td>\n",
       "    </tr>\n",
       "    <tr>\n",
       "      <th>19</th>\n",
       "      <td>DELL Inspiron Ryzen 5 Quad Core 3450U - (8 GB/...</td>\n",
       "      <td>4.2</td>\n",
       "      <td>42890</td>\n",
       "    </tr>\n",
       "    <tr>\n",
       "      <th>20</th>\n",
       "      <td>DELL Inspiron Core i5 11th Gen - (8 GB/512 GB ...</td>\n",
       "      <td>4.7</td>\n",
       "      <td>69990</td>\n",
       "    </tr>\n",
       "    <tr>\n",
       "      <th>21</th>\n",
       "      <td>Lenovo IdeaPad 3 Core i3 11th Gen - (8 GB/512 ...</td>\n",
       "      <td>4.3</td>\n",
       "      <td>44490</td>\n",
       "    </tr>\n",
       "    <tr>\n",
       "      <th>22</th>\n",
       "      <td>ASUS TUF Gaming F15 Core i5 10th Gen - (8 GB/5...</td>\n",
       "      <td>4.5</td>\n",
       "      <td>61990</td>\n",
       "    </tr>\n",
       "    <tr>\n",
       "      <th>23</th>\n",
       "      <td>acer Predator Core i7 11th Gen - (16 GB/1 TB S...</td>\n",
       "      <td>4.0</td>\n",
       "      <td>129990</td>\n",
       "    </tr>\n",
       "  </tbody>\n",
       "</table>\n",
       "</div>"
      ],
      "text/plain": [
       "                                                 name  rating   price\n",
       "0   DELL XPS Core i5 10th Gen - (8 GB/512 GB SSD/W...     0.0  119990\n",
       "1   ASUS VivoBook 15 Core i3 10th Gen - (4 GB/1 TB...     3.8   34990\n",
       "2   HP 14s Core i3 11th Gen - (8 GB/256 GB SSD/Win...     4.4   41990\n",
       "3   HP Pavilion Ryzen 5 Hexa Core 5600H - (8 GB/51...     4.5   64056\n",
       "4   acer Aspire 7 Ryzen 5 Hexa Core 5500U - (8 GB/...     4.5   56990\n",
       "5   acer Aspire 7 Core i5 10th Gen - (8 GB/512 GB ...     4.4   56990\n",
       "6   Lenovo IdeaPad Slim 3i (2021) Core i3 11th Gen...     4.4   45990\n",
       "7   ALIENWARE Core i9 10th Gen - (32 GB/1 TB SSD/W...     4.6  319990\n",
       "8   Lenovo APU Dual Core A9 A99425 - (4 GB/1 TB HD...     4.6   28000\n",
       "9   HP 15-ec1105AX Ryzen 5 Hexa Core 4600H - (8 GB...     4.5   59990\n",
       "10  Lenovo IdeaPad 3 Core i3 10th Gen - (8 GB/1 TB...     4.3   39990\n",
       "11  DELL Inspiron 7000 Core i5 10th Gen - (8 GB/51...     0.0   69990\n",
       "12  HP Ryzen 5 Quad Core 3500U - (8 GB/1 TB HDD/25...     4.4   47990\n",
       "13  HP 15s Ryzen 3 Dual Core 3250U - (8 GB/1 TB HD...     4.2   38499\n",
       "14  DELL Vostro Core i3 10th Gen - (4 GB/256 GB SS...     4.2   36057\n",
       "15  DELL Vostro Core i3 10th Gen - (8 GB/1 TB HDD/...     4.0   37379\n",
       "16  ASUS VivoBook Flip Ryzen 5 Hexa Core - (8 GB/5...     4.4   59990\n",
       "17  HP 15s Core i3 11th Gen - (8 GB/512 GB SSD/Win...     4.5   45514\n",
       "18  MSI GF65 Thin Hexa Core i5 10th Gen - (16 GB/5...     4.6   74990\n",
       "19  DELL Inspiron Ryzen 5 Quad Core 3450U - (8 GB/...     4.2   42890\n",
       "20  DELL Inspiron Core i5 11th Gen - (8 GB/512 GB ...     4.7   69990\n",
       "21  Lenovo IdeaPad 3 Core i3 11th Gen - (8 GB/512 ...     4.3   44490\n",
       "22  ASUS TUF Gaming F15 Core i5 10th Gen - (8 GB/5...     4.5   61990\n",
       "23  acer Predator Core i7 11th Gen - (16 GB/1 TB S...     4.0  129990"
      ]
     },
     "execution_count": 231,
     "metadata": {},
     "output_type": "execute_result"
    }
   ],
   "source": [
    "df = pd.read_csv(\"datos_compus.csv\", sep=None, thousands=',', engine='python')\n",
    "df['price'] = df['price'].apply(lambda x: int(x.lstrip('₹').replace(',', '')))\n",
    "df"
   ]
  },
  {
   "cell_type": "code",
   "execution_count": 232,
   "metadata": {},
   "outputs": [
    {
     "data": {
      "text/plain": [
       "(24, 3)"
      ]
     },
     "execution_count": 232,
     "metadata": {},
     "output_type": "execute_result"
    }
   ],
   "source": [
    "df.shape"
   ]
  },
  {
   "cell_type": "code",
   "execution_count": 233,
   "metadata": {},
   "outputs": [
    {
     "data": {
      "text/plain": [
       "name       object\n",
       "rating    float64\n",
       "price       int64\n",
       "dtype: object"
      ]
     },
     "execution_count": 233,
     "metadata": {},
     "output_type": "execute_result"
    }
   ],
   "source": [
    "df.dtypes"
   ]
  },
  {
   "cell_type": "markdown",
   "metadata": {},
   "source": [
    "Quiero dividir el título debido a todas las especificaciones y nombres de portátiles en una fila.\n",
    "\n",
    "Lo dividiremos en diferentes columnas por separado usando la opción split ()"
   ]
  },
  {
   "cell_type": "code",
   "execution_count": 234,
   "metadata": {},
   "outputs": [
    {
     "data": {
      "text/html": [
       "<div>\n",
       "<style scoped>\n",
       "    .dataframe tbody tr th:only-of-type {\n",
       "        vertical-align: middle;\n",
       "    }\n",
       "\n",
       "    .dataframe tbody tr th {\n",
       "        vertical-align: top;\n",
       "    }\n",
       "\n",
       "    .dataframe thead th {\n",
       "        text-align: right;\n",
       "    }\n",
       "</style>\n",
       "<table border=\"1\" class=\"dataframe\">\n",
       "  <thead>\n",
       "    <tr style=\"text-align: right;\">\n",
       "      <th></th>\n",
       "      <th>rating</th>\n",
       "      <th>price</th>\n",
       "      <th>model</th>\n",
       "      <th>spec</th>\n",
       "    </tr>\n",
       "  </thead>\n",
       "  <tbody>\n",
       "    <tr>\n",
       "      <th>0</th>\n",
       "      <td>0.0</td>\n",
       "      <td>119990</td>\n",
       "      <td>DELL XPS Core i5 10th Gen</td>\n",
       "      <td>(8 GB/512 GB SSD/Windows 10 Home) XPS 9300 Th...</td>\n",
       "    </tr>\n",
       "    <tr>\n",
       "      <th>1</th>\n",
       "      <td>3.8</td>\n",
       "      <td>34990</td>\n",
       "      <td>ASUS VivoBook 15 Core i3 10th Gen</td>\n",
       "      <td>(4 GB/1 TB HDD/Windows 10 Home) X515JA-BR381T...</td>\n",
       "    </tr>\n",
       "    <tr>\n",
       "      <th>2</th>\n",
       "      <td>4.4</td>\n",
       "      <td>41990</td>\n",
       "      <td>HP 14s Core i3 11th Gen</td>\n",
       "      <td>(8 GB/256 GB SSD/Windows 10 Home) 14s- DY2501...</td>\n",
       "    </tr>\n",
       "    <tr>\n",
       "      <th>3</th>\n",
       "      <td>4.5</td>\n",
       "      <td>64056</td>\n",
       "      <td>HP Pavilion Ryzen 5 Hexa Core 5600H</td>\n",
       "      <td>(8 GB/512 GB SSD/Windows 10 Home/4 GB Graphic...</td>\n",
       "    </tr>\n",
       "    <tr>\n",
       "      <th>4</th>\n",
       "      <td>4.5</td>\n",
       "      <td>56990</td>\n",
       "      <td>acer Aspire 7 Ryzen 5 Hexa Core 5500U</td>\n",
       "      <td>(8 GB/512 GB SSD/Windows 10 Home/4 GB Graphic...</td>\n",
       "    </tr>\n",
       "  </tbody>\n",
       "</table>\n",
       "</div>"
      ],
      "text/plain": [
       "   rating   price                                   model  \\\n",
       "0     0.0  119990              DELL XPS Core i5 10th Gen    \n",
       "1     3.8   34990      ASUS VivoBook 15 Core i3 10th Gen    \n",
       "2     4.4   41990                HP 14s Core i3 11th Gen    \n",
       "3     4.5   64056    HP Pavilion Ryzen 5 Hexa Core 5600H    \n",
       "4     4.5   56990  acer Aspire 7 Ryzen 5 Hexa Core 5500U    \n",
       "\n",
       "                                                spec  \n",
       "0   (8 GB/512 GB SSD/Windows 10 Home) XPS 9300 Th...  \n",
       "1   (4 GB/1 TB HDD/Windows 10 Home) X515JA-BR381T...  \n",
       "2   (8 GB/256 GB SSD/Windows 10 Home) 14s- DY2501...  \n",
       "3   (8 GB/512 GB SSD/Windows 10 Home/4 GB Graphic...  \n",
       "4   (8 GB/512 GB SSD/Windows 10 Home/4 GB Graphic...  "
      ]
     },
     "execution_count": 234,
     "metadata": {},
     "output_type": "execute_result"
    }
   ],
   "source": [
    "df[['model','spec']] = df['name'].str.split('-', n=1, expand=True)\n",
    "del df['name']\n",
    "df.head()"
   ]
  },
  {
   "cell_type": "markdown",
   "metadata": {},
   "source": [
    "Usamos esta opción dividida (split \"-\") para separar del título y crear una columna separada como modelo y especificación y eliminar el título"
   ]
  },
  {
   "cell_type": "code",
   "execution_count": 235,
   "metadata": {},
   "outputs": [
    {
     "data": {
      "text/html": [
       "<div>\n",
       "<style scoped>\n",
       "    .dataframe tbody tr th:only-of-type {\n",
       "        vertical-align: middle;\n",
       "    }\n",
       "\n",
       "    .dataframe tbody tr th {\n",
       "        vertical-align: top;\n",
       "    }\n",
       "\n",
       "    .dataframe thead th {\n",
       "        text-align: right;\n",
       "    }\n",
       "</style>\n",
       "<table border=\"1\" class=\"dataframe\">\n",
       "  <thead>\n",
       "    <tr style=\"text-align: right;\">\n",
       "      <th></th>\n",
       "      <th>rating</th>\n",
       "      <th>price</th>\n",
       "      <th>model</th>\n",
       "      <th>RAM</th>\n",
       "      <th>HDD</th>\n",
       "    </tr>\n",
       "  </thead>\n",
       "  <tbody>\n",
       "    <tr>\n",
       "      <th>0</th>\n",
       "      <td>0.0</td>\n",
       "      <td>119990</td>\n",
       "      <td>DELL XPS Core i5 10th Gen</td>\n",
       "      <td></td>\n",
       "      <td>8 GB/512 GB SSD/Windows 10 Home) XPS 9300 Thin...</td>\n",
       "    </tr>\n",
       "    <tr>\n",
       "      <th>1</th>\n",
       "      <td>3.8</td>\n",
       "      <td>34990</td>\n",
       "      <td>ASUS VivoBook 15 Core i3 10th Gen</td>\n",
       "      <td></td>\n",
       "      <td>4 GB/1 TB HDD/Windows 10 Home) X515JA-BR381T T...</td>\n",
       "    </tr>\n",
       "    <tr>\n",
       "      <th>2</th>\n",
       "      <td>4.4</td>\n",
       "      <td>41990</td>\n",
       "      <td>HP 14s Core i3 11th Gen</td>\n",
       "      <td></td>\n",
       "      <td>8 GB/256 GB SSD/Windows 10 Home) 14s- DY2501TU...</td>\n",
       "    </tr>\n",
       "    <tr>\n",
       "      <th>3</th>\n",
       "      <td>4.5</td>\n",
       "      <td>64056</td>\n",
       "      <td>HP Pavilion Ryzen 5 Hexa Core 5600H</td>\n",
       "      <td></td>\n",
       "      <td>8 GB/512 GB SSD/Windows 10 Home/4 GB Graphics/...</td>\n",
       "    </tr>\n",
       "    <tr>\n",
       "      <th>4</th>\n",
       "      <td>4.5</td>\n",
       "      <td>56990</td>\n",
       "      <td>acer Aspire 7 Ryzen 5 Hexa Core 5500U</td>\n",
       "      <td></td>\n",
       "      <td>8 GB/512 GB SSD/Windows 10 Home/4 GB Graphics/...</td>\n",
       "    </tr>\n",
       "  </tbody>\n",
       "</table>\n",
       "</div>"
      ],
      "text/plain": [
       "   rating   price                                   model RAM  \\\n",
       "0     0.0  119990              DELL XPS Core i5 10th Gen        \n",
       "1     3.8   34990      ASUS VivoBook 15 Core i3 10th Gen        \n",
       "2     4.4   41990                HP 14s Core i3 11th Gen        \n",
       "3     4.5   64056    HP Pavilion Ryzen 5 Hexa Core 5600H        \n",
       "4     4.5   56990  acer Aspire 7 Ryzen 5 Hexa Core 5500U        \n",
       "\n",
       "                                                 HDD  \n",
       "0  8 GB/512 GB SSD/Windows 10 Home) XPS 9300 Thin...  \n",
       "1  4 GB/1 TB HDD/Windows 10 Home) X515JA-BR381T T...  \n",
       "2  8 GB/256 GB SSD/Windows 10 Home) 14s- DY2501TU...  \n",
       "3  8 GB/512 GB SSD/Windows 10 Home/4 GB Graphics/...  \n",
       "4  8 GB/512 GB SSD/Windows 10 Home/4 GB Graphics/...  "
      ]
     },
     "execution_count": 235,
     "metadata": {},
     "output_type": "execute_result"
    }
   ],
   "source": [
    "df[['RAM', 'HDD']] = df['spec'].str.split('(', n=1, expand=True)\n",
    "del df['spec']\n",
    "df.head()"
   ]
  },
  {
   "cell_type": "code",
   "execution_count": 236,
   "metadata": {},
   "outputs": [
    {
     "data": {
      "text/html": [
       "<div>\n",
       "<style scoped>\n",
       "    .dataframe tbody tr th:only-of-type {\n",
       "        vertical-align: middle;\n",
       "    }\n",
       "\n",
       "    .dataframe tbody tr th {\n",
       "        vertical-align: top;\n",
       "    }\n",
       "\n",
       "    .dataframe thead th {\n",
       "        text-align: right;\n",
       "    }\n",
       "</style>\n",
       "<table border=\"1\" class=\"dataframe\">\n",
       "  <thead>\n",
       "    <tr style=\"text-align: right;\">\n",
       "      <th></th>\n",
       "      <th>rating</th>\n",
       "      <th>price</th>\n",
       "      <th>model</th>\n",
       "      <th>RAM</th>\n",
       "      <th>Hard disk</th>\n",
       "    </tr>\n",
       "  </thead>\n",
       "  <tbody>\n",
       "    <tr>\n",
       "      <th>0</th>\n",
       "      <td>0.0</td>\n",
       "      <td>119990</td>\n",
       "      <td>DELL XPS Core i5 10th Gen</td>\n",
       "      <td>8 GB</td>\n",
       "      <td>512 GB SSD/Windows 10 Home) XPS 9300 Thin and ...</td>\n",
       "    </tr>\n",
       "    <tr>\n",
       "      <th>1</th>\n",
       "      <td>3.8</td>\n",
       "      <td>34990</td>\n",
       "      <td>ASUS VivoBook 15 Core i3 10th Gen</td>\n",
       "      <td>4 GB</td>\n",
       "      <td>1 TB HDD/Windows 10 Home) X515JA-BR381T Thin a...</td>\n",
       "    </tr>\n",
       "    <tr>\n",
       "      <th>2</th>\n",
       "      <td>4.4</td>\n",
       "      <td>41990</td>\n",
       "      <td>HP 14s Core i3 11th Gen</td>\n",
       "      <td>8 GB</td>\n",
       "      <td>256 GB SSD/Windows 10 Home) 14s- DY2501TU Thin...</td>\n",
       "    </tr>\n",
       "    <tr>\n",
       "      <th>3</th>\n",
       "      <td>4.5</td>\n",
       "      <td>64056</td>\n",
       "      <td>HP Pavilion Ryzen 5 Hexa Core 5600H</td>\n",
       "      <td>8 GB</td>\n",
       "      <td>512 GB SSD/Windows 10 Home/4 GB Graphics/NVIDI...</td>\n",
       "    </tr>\n",
       "    <tr>\n",
       "      <th>4</th>\n",
       "      <td>4.5</td>\n",
       "      <td>56990</td>\n",
       "      <td>acer Aspire 7 Ryzen 5 Hexa Core 5500U</td>\n",
       "      <td>8 GB</td>\n",
       "      <td>512 GB SSD/Windows 10 Home/4 GB Graphics/NVIDI...</td>\n",
       "    </tr>\n",
       "  </tbody>\n",
       "</table>\n",
       "</div>"
      ],
      "text/plain": [
       "   rating   price                                   model   RAM  \\\n",
       "0     0.0  119990              DELL XPS Core i5 10th Gen   8 GB   \n",
       "1     3.8   34990      ASUS VivoBook 15 Core i3 10th Gen   4 GB   \n",
       "2     4.4   41990                HP 14s Core i3 11th Gen   8 GB   \n",
       "3     4.5   64056    HP Pavilion Ryzen 5 Hexa Core 5600H   8 GB   \n",
       "4     4.5   56990  acer Aspire 7 Ryzen 5 Hexa Core 5500U   8 GB   \n",
       "\n",
       "                                           Hard disk  \n",
       "0  512 GB SSD/Windows 10 Home) XPS 9300 Thin and ...  \n",
       "1  1 TB HDD/Windows 10 Home) X515JA-BR381T Thin a...  \n",
       "2  256 GB SSD/Windows 10 Home) 14s- DY2501TU Thin...  \n",
       "3  512 GB SSD/Windows 10 Home/4 GB Graphics/NVIDI...  \n",
       "4  512 GB SSD/Windows 10 Home/4 GB Graphics/NVIDI...  "
      ]
     },
     "execution_count": 236,
     "metadata": {},
     "output_type": "execute_result"
    }
   ],
   "source": [
    "df[['RAM', 'Hard disk']] = df['HDD'].str.split('/', n=1, expand=True)\n",
    "del df['HDD']\n",
    "df.head()"
   ]
  },
  {
   "cell_type": "markdown",
   "metadata": {},
   "source": [
    "Continuemos hasta conseguir lo siguiente..."
   ]
  },
  {
   "cell_type": "code",
   "execution_count": 237,
   "metadata": {},
   "outputs": [
    {
     "data": {
      "text/html": [
       "<div>\n",
       "<style scoped>\n",
       "    .dataframe tbody tr th:only-of-type {\n",
       "        vertical-align: middle;\n",
       "    }\n",
       "\n",
       "    .dataframe tbody tr th {\n",
       "        vertical-align: top;\n",
       "    }\n",
       "\n",
       "    .dataframe thead th {\n",
       "        text-align: right;\n",
       "    }\n",
       "</style>\n",
       "<table border=\"1\" class=\"dataframe\">\n",
       "  <thead>\n",
       "    <tr style=\"text-align: right;\">\n",
       "      <th></th>\n",
       "      <th>rating</th>\n",
       "      <th>price</th>\n",
       "      <th>model</th>\n",
       "      <th>RAM</th>\n",
       "      <th>Storage</th>\n",
       "      <th>OS</th>\n",
       "    </tr>\n",
       "  </thead>\n",
       "  <tbody>\n",
       "    <tr>\n",
       "      <th>0</th>\n",
       "      <td>0.0</td>\n",
       "      <td>119990</td>\n",
       "      <td>DELL XPS Core i5 10th Gen</td>\n",
       "      <td>8 GB</td>\n",
       "      <td>512 GB SSD</td>\n",
       "      <td>Windows 10 Home) XPS 9300 Thin and Light Laptop</td>\n",
       "    </tr>\n",
       "    <tr>\n",
       "      <th>1</th>\n",
       "      <td>3.8</td>\n",
       "      <td>34990</td>\n",
       "      <td>ASUS VivoBook 15 Core i3 10th Gen</td>\n",
       "      <td>4 GB</td>\n",
       "      <td>1 TB HDD</td>\n",
       "      <td>Windows 10 Home) X515JA-BR381T Thin and Light ...</td>\n",
       "    </tr>\n",
       "    <tr>\n",
       "      <th>2</th>\n",
       "      <td>4.4</td>\n",
       "      <td>41990</td>\n",
       "      <td>HP 14s Core i3 11th Gen</td>\n",
       "      <td>8 GB</td>\n",
       "      <td>256 GB SSD</td>\n",
       "      <td>Windows 10 Home) 14s- DY2501TU Thin and Light ...</td>\n",
       "    </tr>\n",
       "    <tr>\n",
       "      <th>3</th>\n",
       "      <td>4.5</td>\n",
       "      <td>64056</td>\n",
       "      <td>HP Pavilion Ryzen 5 Hexa Core 5600H</td>\n",
       "      <td>8 GB</td>\n",
       "      <td>512 GB SSD</td>\n",
       "      <td>Windows 10 Home/4 GB Graphics/NVIDIA GeForce G...</td>\n",
       "    </tr>\n",
       "    <tr>\n",
       "      <th>4</th>\n",
       "      <td>4.5</td>\n",
       "      <td>56990</td>\n",
       "      <td>acer Aspire 7 Ryzen 5 Hexa Core 5500U</td>\n",
       "      <td>8 GB</td>\n",
       "      <td>512 GB SSD</td>\n",
       "      <td>Windows 10 Home/4 GB Graphics/NVIDIA GeForce ...</td>\n",
       "    </tr>\n",
       "  </tbody>\n",
       "</table>\n",
       "</div>"
      ],
      "text/plain": [
       "   rating   price                                   model   RAM     Storage  \\\n",
       "0     0.0  119990              DELL XPS Core i5 10th Gen   8 GB  512 GB SSD   \n",
       "1     3.8   34990      ASUS VivoBook 15 Core i3 10th Gen   4 GB    1 TB HDD   \n",
       "2     4.4   41990                HP 14s Core i3 11th Gen   8 GB  256 GB SSD   \n",
       "3     4.5   64056    HP Pavilion Ryzen 5 Hexa Core 5600H   8 GB  512 GB SSD   \n",
       "4     4.5   56990  acer Aspire 7 Ryzen 5 Hexa Core 5500U   8 GB  512 GB SSD   \n",
       "\n",
       "                                                  OS  \n",
       "0    Windows 10 Home) XPS 9300 Thin and Light Laptop  \n",
       "1  Windows 10 Home) X515JA-BR381T Thin and Light ...  \n",
       "2  Windows 10 Home) 14s- DY2501TU Thin and Light ...  \n",
       "3  Windows 10 Home/4 GB Graphics/NVIDIA GeForce G...  \n",
       "4   Windows 10 Home/4 GB Graphics/NVIDIA GeForce ...  "
      ]
     },
     "execution_count": 237,
     "metadata": {},
     "output_type": "execute_result"
    }
   ],
   "source": [
    "df[['Storage', 'OS']] = df['Hard disk'].str.split('/', n=1, expand=True)\n",
    "del df['Hard disk']\n",
    "df.head()"
   ]
  },
  {
   "cell_type": "code",
   "execution_count": 238,
   "metadata": {},
   "outputs": [
    {
     "data": {
      "text/html": [
       "<div>\n",
       "<style scoped>\n",
       "    .dataframe tbody tr th:only-of-type {\n",
       "        vertical-align: middle;\n",
       "    }\n",
       "\n",
       "    .dataframe tbody tr th {\n",
       "        vertical-align: top;\n",
       "    }\n",
       "\n",
       "    .dataframe thead th {\n",
       "        text-align: right;\n",
       "    }\n",
       "</style>\n",
       "<table border=\"1\" class=\"dataframe\">\n",
       "  <thead>\n",
       "    <tr style=\"text-align: right;\">\n",
       "      <th></th>\n",
       "      <th>rating</th>\n",
       "      <th>price</th>\n",
       "      <th>model</th>\n",
       "      <th>RAM</th>\n",
       "      <th>Storage</th>\n",
       "      <th>System</th>\n",
       "      <th>Other_info</th>\n",
       "    </tr>\n",
       "  </thead>\n",
       "  <tbody>\n",
       "    <tr>\n",
       "      <th>0</th>\n",
       "      <td>0.0</td>\n",
       "      <td>119990</td>\n",
       "      <td>DELL XPS Core i5 10th Gen</td>\n",
       "      <td>8 GB</td>\n",
       "      <td>512 GB SSD</td>\n",
       "      <td>Windows 10 Home) XPS 9300 Thin and Light Laptop</td>\n",
       "      <td>None</td>\n",
       "    </tr>\n",
       "    <tr>\n",
       "      <th>1</th>\n",
       "      <td>3.8</td>\n",
       "      <td>34990</td>\n",
       "      <td>ASUS VivoBook 15 Core i3 10th Gen</td>\n",
       "      <td>4 GB</td>\n",
       "      <td>1 TB HDD</td>\n",
       "      <td>Windows 10 Home) X515JA-BR381T Thin and Light ...</td>\n",
       "      <td>None</td>\n",
       "    </tr>\n",
       "    <tr>\n",
       "      <th>2</th>\n",
       "      <td>4.4</td>\n",
       "      <td>41990</td>\n",
       "      <td>HP 14s Core i3 11th Gen</td>\n",
       "      <td>8 GB</td>\n",
       "      <td>256 GB SSD</td>\n",
       "      <td>Windows 10 Home) 14s- DY2501TU Thin and Light ...</td>\n",
       "      <td>None</td>\n",
       "    </tr>\n",
       "    <tr>\n",
       "      <th>3</th>\n",
       "      <td>4.5</td>\n",
       "      <td>64056</td>\n",
       "      <td>HP Pavilion Ryzen 5 Hexa Core 5600H</td>\n",
       "      <td>8 GB</td>\n",
       "      <td>512 GB SSD</td>\n",
       "      <td>Windows 10 Home</td>\n",
       "      <td>4 GB Graphics/NVIDIA GeForce GT...</td>\n",
       "    </tr>\n",
       "    <tr>\n",
       "      <th>4</th>\n",
       "      <td>4.5</td>\n",
       "      <td>56990</td>\n",
       "      <td>acer Aspire 7 Ryzen 5 Hexa Core 5500U</td>\n",
       "      <td>8 GB</td>\n",
       "      <td>512 GB SSD</td>\n",
       "      <td>Windows 10 Home</td>\n",
       "      <td>4 GB Graphics/NVIDIA GeForce ...</td>\n",
       "    </tr>\n",
       "  </tbody>\n",
       "</table>\n",
       "</div>"
      ],
      "text/plain": [
       "   rating   price                                   model   RAM     Storage  \\\n",
       "0     0.0  119990              DELL XPS Core i5 10th Gen   8 GB  512 GB SSD   \n",
       "1     3.8   34990      ASUS VivoBook 15 Core i3 10th Gen   4 GB    1 TB HDD   \n",
       "2     4.4   41990                HP 14s Core i3 11th Gen   8 GB  256 GB SSD   \n",
       "3     4.5   64056    HP Pavilion Ryzen 5 Hexa Core 5600H   8 GB  512 GB SSD   \n",
       "4     4.5   56990  acer Aspire 7 Ryzen 5 Hexa Core 5500U   8 GB  512 GB SSD   \n",
       "\n",
       "                                              System  \\\n",
       "0    Windows 10 Home) XPS 9300 Thin and Light Laptop   \n",
       "1  Windows 10 Home) X515JA-BR381T Thin and Light ...   \n",
       "2  Windows 10 Home) 14s- DY2501TU Thin and Light ...   \n",
       "3                                    Windows 10 Home   \n",
       "4                                    Windows 10 Home   \n",
       "\n",
       "                           Other_info  \n",
       "0                                None  \n",
       "1                                None  \n",
       "2                                None  \n",
       "3  4 GB Graphics/NVIDIA GeForce GT...  \n",
       "4    4 GB Graphics/NVIDIA GeForce ...  "
      ]
     },
     "execution_count": 238,
     "metadata": {},
     "output_type": "execute_result"
    }
   ],
   "source": [
    "df[['System', 'Other_info']] = df['OS'].str.split('/', n=1, expand=True)\n",
    "del df['OS']\n",
    "df.head()"
   ]
  },
  {
   "cell_type": "markdown",
   "metadata": {},
   "source": [
    "### Paso 6: Identificación de valores perdidos \n",
    "\n",
    "\n",
    "Los métodos isnull () y notnull () son las formas más comunes de identificar valores perdidos.\n",
    "\n",
    "Mientras maneja los datos faltantes, primero debe identificar las filas y columnas que contienen los valores faltantes, contar el número de valores faltantes y luego decidir cómo desea tratarlos.\n",
    "\n",
    "Es importante que trate los valores faltantes en cada columna por separado, en lugar de implementar una única solución (por ejemplo, reemplazar los NaN por la media de una columna) para todas las columnas.\n",
    "\n",
    "isnull () devuelve un valor booleano (Verdadero / Falso) que luego se puede usar para encontrar las filas o columnas que contienen valores perdidos."
   ]
  },
  {
   "cell_type": "code",
   "execution_count": 239,
   "metadata": {},
   "outputs": [
    {
     "data": {
      "text/html": [
       "<div>\n",
       "<style scoped>\n",
       "    .dataframe tbody tr th:only-of-type {\n",
       "        vertical-align: middle;\n",
       "    }\n",
       "\n",
       "    .dataframe tbody tr th {\n",
       "        vertical-align: top;\n",
       "    }\n",
       "\n",
       "    .dataframe thead th {\n",
       "        text-align: right;\n",
       "    }\n",
       "</style>\n",
       "<table border=\"1\" class=\"dataframe\">\n",
       "  <thead>\n",
       "    <tr style=\"text-align: right;\">\n",
       "      <th></th>\n",
       "      <th>rating</th>\n",
       "      <th>price</th>\n",
       "      <th>model</th>\n",
       "      <th>RAM</th>\n",
       "      <th>Storage</th>\n",
       "      <th>System</th>\n",
       "      <th>Other_info</th>\n",
       "    </tr>\n",
       "  </thead>\n",
       "  <tbody>\n",
       "    <tr>\n",
       "      <th>0</th>\n",
       "      <td>False</td>\n",
       "      <td>False</td>\n",
       "      <td>False</td>\n",
       "      <td>False</td>\n",
       "      <td>False</td>\n",
       "      <td>False</td>\n",
       "      <td>True</td>\n",
       "    </tr>\n",
       "    <tr>\n",
       "      <th>1</th>\n",
       "      <td>False</td>\n",
       "      <td>False</td>\n",
       "      <td>False</td>\n",
       "      <td>False</td>\n",
       "      <td>False</td>\n",
       "      <td>False</td>\n",
       "      <td>True</td>\n",
       "    </tr>\n",
       "    <tr>\n",
       "      <th>2</th>\n",
       "      <td>False</td>\n",
       "      <td>False</td>\n",
       "      <td>False</td>\n",
       "      <td>False</td>\n",
       "      <td>False</td>\n",
       "      <td>False</td>\n",
       "      <td>True</td>\n",
       "    </tr>\n",
       "    <tr>\n",
       "      <th>3</th>\n",
       "      <td>False</td>\n",
       "      <td>False</td>\n",
       "      <td>False</td>\n",
       "      <td>False</td>\n",
       "      <td>False</td>\n",
       "      <td>False</td>\n",
       "      <td>False</td>\n",
       "    </tr>\n",
       "    <tr>\n",
       "      <th>4</th>\n",
       "      <td>False</td>\n",
       "      <td>False</td>\n",
       "      <td>False</td>\n",
       "      <td>False</td>\n",
       "      <td>False</td>\n",
       "      <td>False</td>\n",
       "      <td>False</td>\n",
       "    </tr>\n",
       "    <tr>\n",
       "      <th>5</th>\n",
       "      <td>False</td>\n",
       "      <td>False</td>\n",
       "      <td>False</td>\n",
       "      <td>False</td>\n",
       "      <td>False</td>\n",
       "      <td>False</td>\n",
       "      <td>False</td>\n",
       "    </tr>\n",
       "    <tr>\n",
       "      <th>6</th>\n",
       "      <td>False</td>\n",
       "      <td>False</td>\n",
       "      <td>False</td>\n",
       "      <td>False</td>\n",
       "      <td>False</td>\n",
       "      <td>False</td>\n",
       "      <td>True</td>\n",
       "    </tr>\n",
       "    <tr>\n",
       "      <th>7</th>\n",
       "      <td>False</td>\n",
       "      <td>False</td>\n",
       "      <td>False</td>\n",
       "      <td>False</td>\n",
       "      <td>False</td>\n",
       "      <td>False</td>\n",
       "      <td>False</td>\n",
       "    </tr>\n",
       "    <tr>\n",
       "      <th>8</th>\n",
       "      <td>False</td>\n",
       "      <td>False</td>\n",
       "      <td>False</td>\n",
       "      <td>False</td>\n",
       "      <td>False</td>\n",
       "      <td>False</td>\n",
       "      <td>True</td>\n",
       "    </tr>\n",
       "    <tr>\n",
       "      <th>9</th>\n",
       "      <td>False</td>\n",
       "      <td>False</td>\n",
       "      <td>False</td>\n",
       "      <td>False</td>\n",
       "      <td>False</td>\n",
       "      <td>False</td>\n",
       "      <td>False</td>\n",
       "    </tr>\n",
       "    <tr>\n",
       "      <th>10</th>\n",
       "      <td>False</td>\n",
       "      <td>False</td>\n",
       "      <td>False</td>\n",
       "      <td>False</td>\n",
       "      <td>False</td>\n",
       "      <td>False</td>\n",
       "      <td>True</td>\n",
       "    </tr>\n",
       "    <tr>\n",
       "      <th>11</th>\n",
       "      <td>False</td>\n",
       "      <td>False</td>\n",
       "      <td>False</td>\n",
       "      <td>False</td>\n",
       "      <td>False</td>\n",
       "      <td>False</td>\n",
       "      <td>False</td>\n",
       "    </tr>\n",
       "    <tr>\n",
       "      <th>12</th>\n",
       "      <td>False</td>\n",
       "      <td>False</td>\n",
       "      <td>False</td>\n",
       "      <td>False</td>\n",
       "      <td>False</td>\n",
       "      <td>False</td>\n",
       "      <td>False</td>\n",
       "    </tr>\n",
       "    <tr>\n",
       "      <th>13</th>\n",
       "      <td>False</td>\n",
       "      <td>False</td>\n",
       "      <td>False</td>\n",
       "      <td>False</td>\n",
       "      <td>False</td>\n",
       "      <td>False</td>\n",
       "      <td>True</td>\n",
       "    </tr>\n",
       "    <tr>\n",
       "      <th>14</th>\n",
       "      <td>False</td>\n",
       "      <td>False</td>\n",
       "      <td>False</td>\n",
       "      <td>False</td>\n",
       "      <td>False</td>\n",
       "      <td>False</td>\n",
       "      <td>True</td>\n",
       "    </tr>\n",
       "    <tr>\n",
       "      <th>15</th>\n",
       "      <td>False</td>\n",
       "      <td>False</td>\n",
       "      <td>False</td>\n",
       "      <td>False</td>\n",
       "      <td>False</td>\n",
       "      <td>False</td>\n",
       "      <td>True</td>\n",
       "    </tr>\n",
       "    <tr>\n",
       "      <th>16</th>\n",
       "      <td>False</td>\n",
       "      <td>False</td>\n",
       "      <td>False</td>\n",
       "      <td>False</td>\n",
       "      <td>False</td>\n",
       "      <td>False</td>\n",
       "      <td>True</td>\n",
       "    </tr>\n",
       "    <tr>\n",
       "      <th>17</th>\n",
       "      <td>False</td>\n",
       "      <td>False</td>\n",
       "      <td>False</td>\n",
       "      <td>False</td>\n",
       "      <td>False</td>\n",
       "      <td>False</td>\n",
       "      <td>True</td>\n",
       "    </tr>\n",
       "    <tr>\n",
       "      <th>18</th>\n",
       "      <td>False</td>\n",
       "      <td>False</td>\n",
       "      <td>False</td>\n",
       "      <td>False</td>\n",
       "      <td>False</td>\n",
       "      <td>False</td>\n",
       "      <td>False</td>\n",
       "    </tr>\n",
       "    <tr>\n",
       "      <th>19</th>\n",
       "      <td>False</td>\n",
       "      <td>False</td>\n",
       "      <td>False</td>\n",
       "      <td>False</td>\n",
       "      <td>False</td>\n",
       "      <td>False</td>\n",
       "      <td>True</td>\n",
       "    </tr>\n",
       "    <tr>\n",
       "      <th>20</th>\n",
       "      <td>False</td>\n",
       "      <td>False</td>\n",
       "      <td>False</td>\n",
       "      <td>False</td>\n",
       "      <td>False</td>\n",
       "      <td>False</td>\n",
       "      <td>True</td>\n",
       "    </tr>\n",
       "    <tr>\n",
       "      <th>21</th>\n",
       "      <td>False</td>\n",
       "      <td>False</td>\n",
       "      <td>False</td>\n",
       "      <td>False</td>\n",
       "      <td>False</td>\n",
       "      <td>False</td>\n",
       "      <td>True</td>\n",
       "    </tr>\n",
       "    <tr>\n",
       "      <th>22</th>\n",
       "      <td>False</td>\n",
       "      <td>False</td>\n",
       "      <td>False</td>\n",
       "      <td>False</td>\n",
       "      <td>False</td>\n",
       "      <td>False</td>\n",
       "      <td>False</td>\n",
       "    </tr>\n",
       "    <tr>\n",
       "      <th>23</th>\n",
       "      <td>False</td>\n",
       "      <td>False</td>\n",
       "      <td>False</td>\n",
       "      <td>False</td>\n",
       "      <td>False</td>\n",
       "      <td>False</td>\n",
       "      <td>False</td>\n",
       "    </tr>\n",
       "  </tbody>\n",
       "</table>\n",
       "</div>"
      ],
      "text/plain": [
       "    rating  price  model    RAM  Storage  System  Other_info\n",
       "0    False  False  False  False    False   False        True\n",
       "1    False  False  False  False    False   False        True\n",
       "2    False  False  False  False    False   False        True\n",
       "3    False  False  False  False    False   False       False\n",
       "4    False  False  False  False    False   False       False\n",
       "5    False  False  False  False    False   False       False\n",
       "6    False  False  False  False    False   False        True\n",
       "7    False  False  False  False    False   False       False\n",
       "8    False  False  False  False    False   False        True\n",
       "9    False  False  False  False    False   False       False\n",
       "10   False  False  False  False    False   False        True\n",
       "11   False  False  False  False    False   False       False\n",
       "12   False  False  False  False    False   False       False\n",
       "13   False  False  False  False    False   False        True\n",
       "14   False  False  False  False    False   False        True\n",
       "15   False  False  False  False    False   False        True\n",
       "16   False  False  False  False    False   False        True\n",
       "17   False  False  False  False    False   False        True\n",
       "18   False  False  False  False    False   False       False\n",
       "19   False  False  False  False    False   False        True\n",
       "20   False  False  False  False    False   False        True\n",
       "21   False  False  False  False    False   False        True\n",
       "22   False  False  False  False    False   False       False\n",
       "23   False  False  False  False    False   False       False"
      ]
     },
     "execution_count": 239,
     "metadata": {},
     "output_type": "execute_result"
    }
   ],
   "source": [
    "df.isnull()"
   ]
  },
  {
   "cell_type": "markdown",
   "metadata": {},
   "source": [
    "### Identificación de valores perdidos en columnas\n",
    "\n",
    "Primero calculemos el número total de valores faltantes en el marco de datos. Puede calcular el número de valores perdidos en cada columna mediante df.isnull().Sum()"
   ]
  },
  {
   "cell_type": "code",
   "execution_count": 240,
   "metadata": {},
   "outputs": [
    {
     "data": {
      "text/plain": [
       "rating         0\n",
       "price          0\n",
       "model          0\n",
       "RAM            0\n",
       "Storage        0\n",
       "System         0\n",
       "Other_info    14\n",
       "dtype: int64"
      ]
     },
     "execution_count": 240,
     "metadata": {},
     "output_type": "execute_result"
    }
   ],
   "source": [
    "df.isnull().sum()"
   ]
  },
  {
   "cell_type": "code",
   "execution_count": 248,
   "metadata": {},
   "outputs": [
    {
     "data": {
      "text/plain": [
       "23"
      ]
     },
     "execution_count": 248,
     "metadata": {},
     "output_type": "execute_result"
    }
   ],
   "source": [
    "df['model'].value_counts().count()"
   ]
  },
  {
   "cell_type": "code",
   "execution_count": 250,
   "metadata": {},
   "outputs": [],
   "source": [
    "df['Other_info'].fillna('Not Avaliable Info', inplace=True)"
   ]
  },
  {
   "cell_type": "code",
   "execution_count": 226,
   "metadata": {},
   "outputs": [
    {
     "data": {
      "text/plain": [
       "DELL Vostro Core i3 10th Gen                       2\n",
       "DELL XPS Core i5 10th Gen                          1\n",
       "HP Ryzen 5 Quad Core 3500U                         1\n",
       "ASUS TUF Gaming F15 Core i5 10th Gen               1\n",
       "Lenovo IdeaPad 3 Core i3 11th Gen                  1\n",
       "DELL Inspiron Core i5 11th Gen                     1\n",
       "DELL Inspiron Ryzen 5 Quad Core 3450U              1\n",
       "MSI GF65 Thin Hexa Core i5 10th Gen                1\n",
       "HP 15s Core i3 11th Gen                            1\n",
       "ASUS VivoBook Flip Ryzen 5 Hexa Core               1\n",
       "HP 15s Ryzen 3 Dual Core 3250U                     1\n",
       "DELL Inspiron 7000 Core i5 10th Gen                1\n",
       "ASUS VivoBook 15 Core i3 10th Gen                  1\n",
       "Lenovo IdeaPad 3 Core i3 10th Gen                  1\n",
       "HP 15                                              1\n",
       "Lenovo APU Dual Core A9 A99425                     1\n",
       "ALIENWARE Core i9 10th Gen                         1\n",
       "Lenovo IdeaPad Slim 3i (2021) Core i3 11th Gen     1\n",
       "acer Aspire 7 Core i5 10th Gen                     1\n",
       "acer Aspire 7 Ryzen 5 Hexa Core 5500U              1\n",
       "HP Pavilion Ryzen 5 Hexa Core 5600H                1\n",
       "HP 14s Core i3 11th Gen                            1\n",
       "acer Predator Core i7 11th Gen                     1\n",
       "Name: model, dtype: int64"
      ]
     },
     "execution_count": 226,
     "metadata": {},
     "output_type": "execute_result"
    }
   ],
   "source": [
    "df['model'].value_counts()"
   ]
  },
  {
   "cell_type": "code",
   "execution_count": 227,
   "metadata": {},
   "outputs": [
    {
     "data": {
      "text/html": [
       "<div>\n",
       "<style scoped>\n",
       "    .dataframe tbody tr th:only-of-type {\n",
       "        vertical-align: middle;\n",
       "    }\n",
       "\n",
       "    .dataframe tbody tr th {\n",
       "        vertical-align: top;\n",
       "    }\n",
       "\n",
       "    .dataframe thead th {\n",
       "        text-align: right;\n",
       "    }\n",
       "</style>\n",
       "<table border=\"1\" class=\"dataframe\">\n",
       "  <thead>\n",
       "    <tr style=\"text-align: right;\">\n",
       "      <th></th>\n",
       "      <th>rating</th>\n",
       "      <th>price</th>\n",
       "    </tr>\n",
       "  </thead>\n",
       "  <tbody>\n",
       "    <tr>\n",
       "      <th>count</th>\n",
       "      <td>24.000000</td>\n",
       "      <td>24.000000</td>\n",
       "    </tr>\n",
       "    <tr>\n",
       "      <th>mean</th>\n",
       "      <td>4.000000</td>\n",
       "      <td>67863.541667</td>\n",
       "    </tr>\n",
       "    <tr>\n",
       "      <th>std</th>\n",
       "      <td>1.250391</td>\n",
       "      <td>59004.860567</td>\n",
       "    </tr>\n",
       "    <tr>\n",
       "      <th>min</th>\n",
       "      <td>0.000000</td>\n",
       "      <td>28000.000000</td>\n",
       "    </tr>\n",
       "    <tr>\n",
       "      <th>25%</th>\n",
       "      <td>4.200000</td>\n",
       "      <td>41490.000000</td>\n",
       "    </tr>\n",
       "    <tr>\n",
       "      <th>50%</th>\n",
       "      <td>4.400000</td>\n",
       "      <td>52490.000000</td>\n",
       "    </tr>\n",
       "    <tr>\n",
       "      <th>75%</th>\n",
       "      <td>4.500000</td>\n",
       "      <td>65539.500000</td>\n",
       "    </tr>\n",
       "    <tr>\n",
       "      <th>max</th>\n",
       "      <td>4.700000</td>\n",
       "      <td>319990.000000</td>\n",
       "    </tr>\n",
       "  </tbody>\n",
       "</table>\n",
       "</div>"
      ],
      "text/plain": [
       "          rating          price\n",
       "count  24.000000      24.000000\n",
       "mean    4.000000   67863.541667\n",
       "std     1.250391   59004.860567\n",
       "min     0.000000   28000.000000\n",
       "25%     4.200000   41490.000000\n",
       "50%     4.400000   52490.000000\n",
       "75%     4.500000   65539.500000\n",
       "max     4.700000  319990.000000"
      ]
     },
     "execution_count": 227,
     "metadata": {},
     "output_type": "execute_result"
    }
   ],
   "source": [
    "df[['rating', 'price']].describe(include=\"all\")"
   ]
  },
  {
   "cell_type": "code",
   "execution_count": 228,
   "metadata": {},
   "outputs": [
    {
     "data": {
      "text/plain": [
       "rating        float64\n",
       "price           int64\n",
       "model          object\n",
       "RAM            object\n",
       "Storage        object\n",
       "System         object\n",
       "Other_info     object\n",
       "dtype: object"
      ]
     },
     "execution_count": 228,
     "metadata": {},
     "output_type": "execute_result"
    }
   ],
   "source": [
    "df.dtypes"
   ]
  },
  {
   "cell_type": "markdown",
   "metadata": {},
   "source": [
    "Ahora necesitamos filtrar las mejores computadoras portátiles con buenas especificaciones, precio y calificación de la lista"
   ]
  },
  {
   "cell_type": "markdown",
   "metadata": {},
   "source": [
    "Muestra los siguientes resultados:\n",
    " * Laptops en rating <= 4\n",
    " * Laptops con rating >= 3.5 y un precio entre 30 y 40 mil $"
   ]
  },
  {
   "cell_type": "code",
   "execution_count": 251,
   "metadata": {},
   "outputs": [
    {
     "data": {
      "text/html": [
       "<div>\n",
       "<style scoped>\n",
       "    .dataframe tbody tr th:only-of-type {\n",
       "        vertical-align: middle;\n",
       "    }\n",
       "\n",
       "    .dataframe tbody tr th {\n",
       "        vertical-align: top;\n",
       "    }\n",
       "\n",
       "    .dataframe thead th {\n",
       "        text-align: right;\n",
       "    }\n",
       "</style>\n",
       "<table border=\"1\" class=\"dataframe\">\n",
       "  <thead>\n",
       "    <tr style=\"text-align: right;\">\n",
       "      <th></th>\n",
       "      <th>rating</th>\n",
       "      <th>price</th>\n",
       "      <th>model</th>\n",
       "      <th>RAM</th>\n",
       "      <th>Storage</th>\n",
       "      <th>System</th>\n",
       "      <th>Other_info</th>\n",
       "    </tr>\n",
       "  </thead>\n",
       "  <tbody>\n",
       "    <tr>\n",
       "      <th>0</th>\n",
       "      <td>0.0</td>\n",
       "      <td>119990</td>\n",
       "      <td>DELL XPS Core i5 10th Gen</td>\n",
       "      <td>8 GB</td>\n",
       "      <td>512 GB SSD</td>\n",
       "      <td>Windows 10 Home) XPS 9300 Thin and Light Laptop</td>\n",
       "      <td>Not Avaliable Info</td>\n",
       "    </tr>\n",
       "    <tr>\n",
       "      <th>1</th>\n",
       "      <td>3.8</td>\n",
       "      <td>34990</td>\n",
       "      <td>ASUS VivoBook 15 Core i3 10th Gen</td>\n",
       "      <td>4 GB</td>\n",
       "      <td>1 TB HDD</td>\n",
       "      <td>Windows 10 Home) X515JA-BR381T Thin and Light ...</td>\n",
       "      <td>Not Avaliable Info</td>\n",
       "    </tr>\n",
       "    <tr>\n",
       "      <th>11</th>\n",
       "      <td>0.0</td>\n",
       "      <td>69990</td>\n",
       "      <td>DELL Inspiron 7000 Core i5 10th Gen</td>\n",
       "      <td>8 GB</td>\n",
       "      <td>512 GB SSD</td>\n",
       "      <td>Windows 10 Home</td>\n",
       "      <td>2 GB Graphics) 7490 Thin and Li...</td>\n",
       "    </tr>\n",
       "    <tr>\n",
       "      <th>15</th>\n",
       "      <td>4.0</td>\n",
       "      <td>37379</td>\n",
       "      <td>DELL Vostro Core i3 10th Gen</td>\n",
       "      <td>8 GB</td>\n",
       "      <td>1 TB HDD</td>\n",
       "      <td>Windows 10 Home) Vostro 3401 Thin and Light La...</td>\n",
       "      <td>Not Avaliable Info</td>\n",
       "    </tr>\n",
       "    <tr>\n",
       "      <th>23</th>\n",
       "      <td>4.0</td>\n",
       "      <td>129990</td>\n",
       "      <td>acer Predator Core i7 11th Gen</td>\n",
       "      <td>16 GB</td>\n",
       "      <td>1 TB SSD</td>\n",
       "      <td>Windows 10 Home</td>\n",
       "      <td>6 GB Graphics/NVIDIA GeForce RTX 3060...</td>\n",
       "    </tr>\n",
       "  </tbody>\n",
       "</table>\n",
       "</div>"
      ],
      "text/plain": [
       "    rating   price                                 model    RAM     Storage  \\\n",
       "0      0.0  119990            DELL XPS Core i5 10th Gen    8 GB  512 GB SSD   \n",
       "1      3.8   34990    ASUS VivoBook 15 Core i3 10th Gen    4 GB    1 TB HDD   \n",
       "11     0.0   69990  DELL Inspiron 7000 Core i5 10th Gen    8 GB  512 GB SSD   \n",
       "15     4.0   37379         DELL Vostro Core i3 10th Gen    8 GB    1 TB HDD   \n",
       "23     4.0  129990       acer Predator Core i7 11th Gen   16 GB    1 TB SSD   \n",
       "\n",
       "                                               System  \\\n",
       "0     Windows 10 Home) XPS 9300 Thin and Light Laptop   \n",
       "1   Windows 10 Home) X515JA-BR381T Thin and Light ...   \n",
       "11                                    Windows 10 Home   \n",
       "15  Windows 10 Home) Vostro 3401 Thin and Light La...   \n",
       "23                                    Windows 10 Home   \n",
       "\n",
       "                                  Other_info  \n",
       "0                         Not Avaliable Info  \n",
       "1                         Not Avaliable Info  \n",
       "11        2 GB Graphics) 7490 Thin and Li...  \n",
       "15                        Not Avaliable Info  \n",
       "23  6 GB Graphics/NVIDIA GeForce RTX 3060...  "
      ]
     },
     "execution_count": 251,
     "metadata": {},
     "output_type": "execute_result"
    }
   ],
   "source": [
    "df.query('rating  <= 4')# & Age < 40 & JOB.str.startswith(\"C\").values')"
   ]
  },
  {
   "cell_type": "code",
   "execution_count": 252,
   "metadata": {},
   "outputs": [
    {
     "data": {
      "text/html": [
       "<div>\n",
       "<style scoped>\n",
       "    .dataframe tbody tr th:only-of-type {\n",
       "        vertical-align: middle;\n",
       "    }\n",
       "\n",
       "    .dataframe tbody tr th {\n",
       "        vertical-align: top;\n",
       "    }\n",
       "\n",
       "    .dataframe thead th {\n",
       "        text-align: right;\n",
       "    }\n",
       "</style>\n",
       "<table border=\"1\" class=\"dataframe\">\n",
       "  <thead>\n",
       "    <tr style=\"text-align: right;\">\n",
       "      <th></th>\n",
       "      <th>rating</th>\n",
       "      <th>price</th>\n",
       "      <th>model</th>\n",
       "      <th>RAM</th>\n",
       "      <th>Storage</th>\n",
       "      <th>System</th>\n",
       "      <th>Other_info</th>\n",
       "    </tr>\n",
       "  </thead>\n",
       "  <tbody>\n",
       "    <tr>\n",
       "      <th>10</th>\n",
       "      <td>4.3</td>\n",
       "      <td>39990</td>\n",
       "      <td>Lenovo IdeaPad 3 Core i3 10th Gen</td>\n",
       "      <td>8 GB</td>\n",
       "      <td>1 TB HDD</td>\n",
       "      <td>Windows 10 Home) 15IML05 Thin and Light Laptop</td>\n",
       "      <td>Not Avaliable Info</td>\n",
       "    </tr>\n",
       "    <tr>\n",
       "      <th>13</th>\n",
       "      <td>4.2</td>\n",
       "      <td>38499</td>\n",
       "      <td>HP 15s Ryzen 3 Dual Core 3250U</td>\n",
       "      <td>8 GB</td>\n",
       "      <td>1 TB HDD</td>\n",
       "      <td>Windows 10 Home) 15s-GR0011AU Thin and Light L...</td>\n",
       "      <td>Not Avaliable Info</td>\n",
       "    </tr>\n",
       "    <tr>\n",
       "      <th>14</th>\n",
       "      <td>4.2</td>\n",
       "      <td>36057</td>\n",
       "      <td>DELL Vostro Core i3 10th Gen</td>\n",
       "      <td>4 GB</td>\n",
       "      <td>256 GB SSD</td>\n",
       "      <td>Windows 10 Home) Vostro 3401 Thin and Light La...</td>\n",
       "      <td>Not Avaliable Info</td>\n",
       "    </tr>\n",
       "    <tr>\n",
       "      <th>15</th>\n",
       "      <td>4.0</td>\n",
       "      <td>37379</td>\n",
       "      <td>DELL Vostro Core i3 10th Gen</td>\n",
       "      <td>8 GB</td>\n",
       "      <td>1 TB HDD</td>\n",
       "      <td>Windows 10 Home) Vostro 3401 Thin and Light La...</td>\n",
       "      <td>Not Avaliable Info</td>\n",
       "    </tr>\n",
       "  </tbody>\n",
       "</table>\n",
       "</div>"
      ],
      "text/plain": [
       "    rating  price                               model   RAM     Storage  \\\n",
       "10     4.3  39990  Lenovo IdeaPad 3 Core i3 10th Gen   8 GB    1 TB HDD   \n",
       "13     4.2  38499     HP 15s Ryzen 3 Dual Core 3250U   8 GB    1 TB HDD   \n",
       "14     4.2  36057       DELL Vostro Core i3 10th Gen   4 GB  256 GB SSD   \n",
       "15     4.0  37379       DELL Vostro Core i3 10th Gen   8 GB    1 TB HDD   \n",
       "\n",
       "                                               System          Other_info  \n",
       "10     Windows 10 Home) 15IML05 Thin and Light Laptop  Not Avaliable Info  \n",
       "13  Windows 10 Home) 15s-GR0011AU Thin and Light L...  Not Avaliable Info  \n",
       "14  Windows 10 Home) Vostro 3401 Thin and Light La...  Not Avaliable Info  \n",
       "15  Windows 10 Home) Vostro 3401 Thin and Light La...  Not Avaliable Info  "
      ]
     },
     "execution_count": 252,
     "metadata": {},
     "output_type": "execute_result"
    }
   ],
   "source": [
    "df.query('rating  >= 4 & (price>=30000 & price<=40000)')"
   ]
  },
  {
   "cell_type": "code",
   "execution_count": null,
   "metadata": {},
   "outputs": [],
   "source": []
  },
  {
   "cell_type": "markdown",
   "metadata": {},
   "source": [
    "---------\n",
    "\n",
    "### Visualización de los datos"
   ]
  },
  {
   "cell_type": "markdown",
   "metadata": {},
   "source": [
    "Realizaremos una gráfica de barras de precio vs rating"
   ]
  },
  {
   "cell_type": "code",
   "execution_count": 307,
   "metadata": {},
   "outputs": [
    {
     "data": {
      "text/plain": [
       "<AxesSubplot:title={'center':'Price vs Rating'}, xlabel='price'>"
      ]
     },
     "execution_count": 307,
     "metadata": {},
     "output_type": "execute_result"
    },
    {
     "data": {
      "image/png": "[encoded data removed]",
      "text/plain": [
       "<Figure size 1440x720 with 1 Axes>"
      ]
     },
     "metadata": {
      "needs_background": "light"
     },
     "output_type": "display_data"
    }
   ],
   "source": [
    "df.plot(x=\"price\", y=\"rating\", kind=\"bar\", title='Price vs Rating', figsize=(20,10), colormap=\"Paired\", width=0.8)\n"
   ]
  },
  {
   "cell_type": "code",
   "execution_count": 377,
   "metadata": {},
   "outputs": [
    {
     "data": {
      "text/plain": [
       "<AxesSubplot:title={'center':'Rating vs Price'}, xlabel='rating'>"
      ]
     },
     "execution_count": 377,
     "metadata": {},
     "output_type": "execute_result"
    },
    {
     "data": {
      "image/png": "[encoded data removed]",
      "text/plain": [
       "<Figure size 1440x720 with 1 Axes>"
      ]
     },
     "metadata": {
      "needs_background": "light"
     },
     "output_type": "display_data"
    }
   ],
   "source": [
    "df.plot(x=\"rating\", y=\"price\", kind=\"bar\", title='Rating vs Price', figsize=(20,10), color=\"green\", width=0.8)\n"
   ]
  },
  {
   "cell_type": "code",
   "execution_count": 414,
   "metadata": {},
   "outputs": [
    {
     "data": {
      "image/png": "[encoded data removed]",
      "text/plain": [
       "<Figure size 1440x720 with 1 Axes>"
      ]
     },
     "metadata": {
      "needs_background": "light"
     },
     "output_type": "display_data"
    }
   ],
   "source": [
    "fig = plt.figure(2,figsize=(20, 10))\n",
    "\n",
    "ax = fig.add_subplot(223)\n",
    "ax.set_title('Box Plot Price')\n",
    "# creando el grafico de cajas\n",
    "bp = ax.boxplot(df['price'], vert=False, patch_artist=True, widths=0.8)\n",
    "\n",
    "for flier in bp['fliers']:\n",
    "    flier.set(marker='v', color='red')"
   ]
  },
  {
   "cell_type": "markdown",
   "metadata": {},
   "source": [
    "Podemos concluir a partir de aquí que los productos con precios más altos tienen calificaciones más altas hasta cierto punto."
   ]
  },
  {
   "cell_type": "markdown",
   "metadata": {},
   "source": [
    "## ¿Les ha salido algún discordante visual a ustedes?"
   ]
  },
  {
   "cell_type": "code",
   "execution_count": 415,
   "metadata": {},
   "outputs": [
    {
     "data": {
      "text/html": [
       "<div>\n",
       "<style scoped>\n",
       "    .dataframe tbody tr th:only-of-type {\n",
       "        vertical-align: middle;\n",
       "    }\n",
       "\n",
       "    .dataframe tbody tr th {\n",
       "        vertical-align: top;\n",
       "    }\n",
       "\n",
       "    .dataframe thead th {\n",
       "        text-align: right;\n",
       "    }\n",
       "</style>\n",
       "<table border=\"1\" class=\"dataframe\">\n",
       "  <thead>\n",
       "    <tr style=\"text-align: right;\">\n",
       "      <th></th>\n",
       "      <th>rating</th>\n",
       "      <th>price</th>\n",
       "      <th>model</th>\n",
       "      <th>RAM</th>\n",
       "      <th>Storage</th>\n",
       "      <th>System</th>\n",
       "      <th>Other_info</th>\n",
       "    </tr>\n",
       "  </thead>\n",
       "  <tbody>\n",
       "    <tr>\n",
       "      <th>0</th>\n",
       "      <td>0.0</td>\n",
       "      <td>119990</td>\n",
       "      <td>DELL XPS Core i5 10th Gen</td>\n",
       "      <td>8 GB</td>\n",
       "      <td>512 GB SSD</td>\n",
       "      <td>Windows 10 Home) XPS 9300 Thin and Light Laptop</td>\n",
       "      <td>Not Avaliable Info</td>\n",
       "    </tr>\n",
       "    <tr>\n",
       "      <th>1</th>\n",
       "      <td>3.8</td>\n",
       "      <td>34990</td>\n",
       "      <td>ASUS VivoBook 15 Core i3 10th Gen</td>\n",
       "      <td>4 GB</td>\n",
       "      <td>1 TB HDD</td>\n",
       "      <td>Windows 10 Home) X515JA-BR381T Thin and Light ...</td>\n",
       "      <td>Not Avaliable Info</td>\n",
       "    </tr>\n",
       "    <tr>\n",
       "      <th>2</th>\n",
       "      <td>4.4</td>\n",
       "      <td>41990</td>\n",
       "      <td>HP 14s Core i3 11th Gen</td>\n",
       "      <td>8 GB</td>\n",
       "      <td>256 GB SSD</td>\n",
       "      <td>Windows 10 Home) 14s- DY2501TU Thin and Light ...</td>\n",
       "      <td>Not Avaliable Info</td>\n",
       "    </tr>\n",
       "    <tr>\n",
       "      <th>3</th>\n",
       "      <td>4.5</td>\n",
       "      <td>64056</td>\n",
       "      <td>HP Pavilion Ryzen 5 Hexa Core 5600H</td>\n",
       "      <td>8 GB</td>\n",
       "      <td>512 GB SSD</td>\n",
       "      <td>Windows 10 Home</td>\n",
       "      <td>4 GB Graphics/NVIDIA GeForce GT...</td>\n",
       "    </tr>\n",
       "    <tr>\n",
       "      <th>4</th>\n",
       "      <td>4.5</td>\n",
       "      <td>56990</td>\n",
       "      <td>acer Aspire 7 Ryzen 5 Hexa Core 5500U</td>\n",
       "      <td>8 GB</td>\n",
       "      <td>512 GB SSD</td>\n",
       "      <td>Windows 10 Home</td>\n",
       "      <td>4 GB Graphics/NVIDIA GeForce ...</td>\n",
       "    </tr>\n",
       "  </tbody>\n",
       "</table>\n",
       "</div>"
      ],
      "text/plain": [
       "   rating   price                                   model   RAM     Storage  \\\n",
       "0     0.0  119990              DELL XPS Core i5 10th Gen   8 GB  512 GB SSD   \n",
       "1     3.8   34990      ASUS VivoBook 15 Core i3 10th Gen   4 GB    1 TB HDD   \n",
       "2     4.4   41990                HP 14s Core i3 11th Gen   8 GB  256 GB SSD   \n",
       "3     4.5   64056    HP Pavilion Ryzen 5 Hexa Core 5600H   8 GB  512 GB SSD   \n",
       "4     4.5   56990  acer Aspire 7 Ryzen 5 Hexa Core 5500U   8 GB  512 GB SSD   \n",
       "\n",
       "                                              System  \\\n",
       "0    Windows 10 Home) XPS 9300 Thin and Light Laptop   \n",
       "1  Windows 10 Home) X515JA-BR381T Thin and Light ...   \n",
       "2  Windows 10 Home) 14s- DY2501TU Thin and Light ...   \n",
       "3                                    Windows 10 Home   \n",
       "4                                    Windows 10 Home   \n",
       "\n",
       "                           Other_info  \n",
       "0                  Not Avaliable Info  \n",
       "1                  Not Avaliable Info  \n",
       "2                  Not Avaliable Info  \n",
       "3  4 GB Graphics/NVIDIA GeForce GT...  \n",
       "4    4 GB Graphics/NVIDIA GeForce ...  "
      ]
     },
     "execution_count": 415,
     "metadata": {},
     "output_type": "execute_result"
    }
   ],
   "source": [
    "df.head()"
   ]
  },
  {
   "cell_type": "markdown",
   "metadata": {},
   "source": [
    "### ¿Para ustedes, cuáles fueron las computadoras más caras?"
   ]
  },
  {
   "cell_type": "markdown",
   "metadata": {},
   "source": [
    "Las predator"
   ]
  },
  {
   "cell_type": "markdown",
   "metadata": {},
   "source": [
    "----\n",
    "----\n",
    "----\n",
    "\n",
    "<h1><center>Monte Carlo</center><h1>\n",
    "\n",
    "### ¿Por qué la casa siempre gana?\n",
    "\n",
    "¿Cómo ganan dinero los casinos? El truco es sencillo: \"Cuanto más juegas, más ganan\". Echemos un vistazo a cómo funciona esto con un ejemplo simple de simulación de Monte Carlo.\n",
    "\n",
    "----\n",
    "\n",
    "Considere un juego imaginario en el que un jugador tiene que elegir una ficha de una bolsa de fichas.\n",
    "\n",
    "Reglas:\n",
    " * Hay fichas que contienen números que van del 1 al 100 en una bolsa.\n",
    " * Los usuarios pueden apostar en fichas pares o impares.\n",
    " * En este juego, el 10 y el 11 son números especiales. Si apostamos a pares, entonces 10 se contará como un número impar, y si apostamos a los impares, entonces 11 se contará como un número par.\n",
    " * Si apostamos a números pares y obtenemos 10, perdemos.\n",
    " * Si apostamos a números impares y obtenemos 11, perdemos."
   ]
  },
  {
   "cell_type": "markdown",
   "metadata": {},
   "source": [
    "Si apostamos por las probabilidades, la probabilidad de que ganemos es de 49/100. \n",
    "\n",
    "---\n",
    "\n",
    "La probabilidad de que la casa gane es de 51/100. \n",
    "\n",
    "---"
   ]
  },
  {
   "cell_type": "markdown",
   "metadata": {},
   "source": [
    "### Importamos librerías"
   ]
  },
  {
   "cell_type": "code",
   "execution_count": 564,
   "metadata": {},
   "outputs": [],
   "source": [
    "import random\n",
    "import matplotlib.pyplot as plt"
   ]
  },
  {
   "cell_type": "markdown",
   "metadata": {},
   "source": [
    "### Creación de las apuestas del jugador"
   ]
  },
  {
   "cell_type": "code",
   "execution_count": 565,
   "metadata": {},
   "outputs": [
    {
     "ename": "KeyboardInterrupt",
     "evalue": "Interrupted by user",
     "output_type": "error",
     "traceback": [
      "\u001b[0;31m----------------------------------------------------------------\u001b[0m",
      "\u001b[0;31mKeyboardInterrupt\u001b[0m              Traceback (most recent call last)",
      "\u001b[0;32m<ipython-input-565-b84f7efb0af5>\u001b[0m in \u001b[0;36m<module>\u001b[0;34m\u001b[0m\n\u001b[1;32m      1\u001b[0m \u001b[0;31m#Player bet\u001b[0m\u001b[0;34m\u001b[0m\u001b[0;34m\u001b[0m\u001b[0;34m\u001b[0m\u001b[0m\n\u001b[0;32m----> 2\u001b[0;31m \u001b[0mchoice\u001b[0m \u001b[0;34m=\u001b[0m \u001b[0minput\u001b[0m\u001b[0;34m(\u001b[0m\u001b[0;34m\"Deseas apostar a pares o impares? \\n\"\u001b[0m\u001b[0;34m)\u001b[0m\u001b[0;34m\u001b[0m\u001b[0;34m\u001b[0m\u001b[0m\n\u001b[0m\u001b[1;32m      3\u001b[0m \u001b[0;31m#Pares\u001b[0m\u001b[0;34m\u001b[0m\u001b[0;34m\u001b[0m\u001b[0;34m\u001b[0m\u001b[0m\n\u001b[1;32m      4\u001b[0m \u001b[0;32mif\u001b[0m \u001b[0mchoice\u001b[0m \u001b[0;34m==\u001b[0m \u001b[0;34m\"Par\"\u001b[0m\u001b[0;34m:\u001b[0m\u001b[0;34m\u001b[0m\u001b[0;34m\u001b[0m\u001b[0m\n\u001b[1;32m      5\u001b[0m     \u001b[0;32mdef\u001b[0m \u001b[0mpickNote\u001b[0m\u001b[0;34m(\u001b[0m\u001b[0;34m)\u001b[0m\u001b[0;34m:\u001b[0m\u001b[0;34m\u001b[0m\u001b[0;34m\u001b[0m\u001b[0m\n",
      "\u001b[0;32m/usr/local/Cellar/jupyterlab/3.0.14/libexec/lib/python3.9/site-packages/ipykernel/kernelbase.py\u001b[0m in \u001b[0;36mraw_input\u001b[0;34m(self, prompt)\u001b[0m\n\u001b[1;32m    846\u001b[0m                 \u001b[0;34m\"raw_input was called, but this frontend does not support input requests.\"\u001b[0m\u001b[0;34m\u001b[0m\u001b[0;34m\u001b[0m\u001b[0m\n\u001b[1;32m    847\u001b[0m             )\n\u001b[0;32m--> 848\u001b[0;31m         return self._input_request(str(prompt),\n\u001b[0m\u001b[1;32m    849\u001b[0m             \u001b[0mself\u001b[0m\u001b[0;34m.\u001b[0m\u001b[0m_parent_ident\u001b[0m\u001b[0;34m,\u001b[0m\u001b[0;34m\u001b[0m\u001b[0;34m\u001b[0m\u001b[0m\n\u001b[1;32m    850\u001b[0m             \u001b[0mself\u001b[0m\u001b[0;34m.\u001b[0m\u001b[0m_parent_header\u001b[0m\u001b[0;34m,\u001b[0m\u001b[0;34m\u001b[0m\u001b[0;34m\u001b[0m\u001b[0m\n",
      "\u001b[0;32m/usr/local/Cellar/jupyterlab/3.0.14/libexec/lib/python3.9/site-packages/ipykernel/kernelbase.py\u001b[0m in \u001b[0;36m_input_request\u001b[0;34m(self, prompt, ident, parent, password)\u001b[0m\n\u001b[1;32m    890\u001b[0m             \u001b[0;32mexcept\u001b[0m \u001b[0mKeyboardInterrupt\u001b[0m\u001b[0;34m:\u001b[0m\u001b[0;34m\u001b[0m\u001b[0;34m\u001b[0m\u001b[0m\n\u001b[1;32m    891\u001b[0m                 \u001b[0;31m# re-raise KeyboardInterrupt, to truncate traceback\u001b[0m\u001b[0;34m\u001b[0m\u001b[0;34m\u001b[0m\u001b[0;34m\u001b[0m\u001b[0m\n\u001b[0;32m--> 892\u001b[0;31m                 \u001b[0;32mraise\u001b[0m \u001b[0mKeyboardInterrupt\u001b[0m\u001b[0;34m(\u001b[0m\u001b[0;34m\"Interrupted by user\"\u001b[0m\u001b[0;34m)\u001b[0m \u001b[0;32mfrom\u001b[0m \u001b[0;32mNone\u001b[0m\u001b[0;34m\u001b[0m\u001b[0;34m\u001b[0m\u001b[0m\n\u001b[0m\u001b[1;32m    893\u001b[0m             \u001b[0;32mexcept\u001b[0m \u001b[0mException\u001b[0m \u001b[0;32mas\u001b[0m \u001b[0me\u001b[0m\u001b[0;34m:\u001b[0m\u001b[0;34m\u001b[0m\u001b[0;34m\u001b[0m\u001b[0m\n\u001b[1;32m    894\u001b[0m                 \u001b[0mself\u001b[0m\u001b[0;34m.\u001b[0m\u001b[0mlog\u001b[0m\u001b[0;34m.\u001b[0m\u001b[0mwarning\u001b[0m\u001b[0;34m(\u001b[0m\u001b[0;34m\"Invalid Message:\"\u001b[0m\u001b[0;34m,\u001b[0m \u001b[0mexc_info\u001b[0m\u001b[0;34m=\u001b[0m\u001b[0;32mTrue\u001b[0m\u001b[0;34m)\u001b[0m\u001b[0;34m\u001b[0m\u001b[0;34m\u001b[0m\u001b[0m\n",
      "\u001b[0;31mKeyboardInterrupt\u001b[0m: Interrupted by user"
     ]
    }
   ],
   "source": [
    "\n",
    "#Player bet\n",
    "choice = input(\"Deseas apostar a pares o impares? \\n\")\n",
    "#Pares\n",
    "if choice == \"Par\":\n",
    "    def pickNote():\n",
    "        note = random.randint(1,100) \n",
    "        if note == 10:\n",
    "            return False\n",
    "        elif (note%2)==0:\n",
    "            return True\n",
    "        else:\n",
    "            return False\n",
    "\n",
    "elif choice == \"Odd\":\n",
    "    def pickNote():\n",
    "        note = random.randint(1,100)\n",
    "        if note == 11:\n",
    "            return False\n",
    "        elif (note%2)==0:\n",
    "            return False\n",
    "        else:\n",
    "            return True"
   ]
  },
  {
   "cell_type": "markdown",
   "metadata": {},
   "source": [
    "### Función principal"
   ]
  },
  {
   "cell_type": "code",
   "execution_count": null,
   "metadata": {},
   "outputs": [],
   "source": [
    "def play(total_money, bet_money, total_plays):\n",
    "    num_plays=[]\n",
    "    money=[]\n",
    "\n",
    "    play = 1\n",
    "    \n",
    "    for play in range(total_plays):\n",
    "        if pickNote():\n",
    "            total_money= total_money + bet_money\n",
    "            num_plays.append(play)\n",
    "            money.append(total_money)\n",
    "        else:\n",
    "            total_money= total_money - bet_money\n",
    "            num_plays.append(play)\n",
    "            money.append(total_money)\n",
    "  \n",
    "    \n",
    "    plt.ylabel(\"Dinero en $\")\n",
    "    plt.xlabel(\"Numero de apuestas\")\n",
    "    plt.plot(num_plays, money)\n",
    "    \n",
    "    final_funds.append(money[-1])\n",
    "    return(final_funds)"
   ]
  },
  {
   "cell_type": "markdown",
   "metadata": {},
   "source": [
    "### Resultado final"
   ]
  },
  {
   "cell_type": "code",
   "execution_count": 590,
   "metadata": {},
   "outputs": [
    {
     "name": "stdout",
     "output_type": "stream",
     "text": [
      "[9000]\n",
      "9000\n",
      "El jugador empezó con $ 10,000\n",
      "El jugador se fue con $ 9000.0\n"
     ]
    },
    {
     "data": {
      "image/png": "[encoded data removed]",
      "text/plain": [
       "<Figure size 432x288 with 1 Axes>"
      ]
     },
     "metadata": {
      "needs_background": "light"
     },
     "output_type": "display_data"
    }
   ],
   "source": [
    "final_funds = []\n",
    "\n",
    "ending_fund = play(10000, 100, 50)\n",
    "    \n",
    "print(ending_fund)\n",
    "print(sum(ending_fund))\n",
    "\n",
    "print(\"El jugador empezó con $ 10,000\")\n",
    "print(\"El jugador se fue con $\", str(sum(ending_fund)/len(ending_fund)))"
   ]
  },
  {
   "cell_type": "markdown",
   "metadata": {},
   "source": [
    "## Ahora, para un total de apuestas de 5, 10 y 1000...."
   ]
  },
  {
   "cell_type": "markdown",
   "metadata": {},
   "source": [
    "### Ahora para mil iteraciones"
   ]
  },
  {
   "cell_type": "code",
   "execution_count": 591,
   "metadata": {},
   "outputs": [],
   "source": [
    "def start_beting(bets):\n",
    "    final_funds = []\n",
    "    ending_fund = 0\n",
    "    for i in range(1000):\n",
    "        ending_fund = play(10000, 100, bets)\n",
    "\n",
    "    print(\"El jugador empezó con $ 10,000\")\n",
    "    print(\"El jugador se fue con $\", str(sum(ending_fund)/len(ending_fund)))"
   ]
  },
  {
   "cell_type": "code",
   "execution_count": 592,
   "metadata": {},
   "outputs": [
    {
     "name": "stdout",
     "output_type": "stream",
     "text": [
      "El jugador empezó con $ 10,000\n",
      "El jugador se fue con $ 9985.014985014985\n"
     ]
    },
    {
     "data": {
      "image/png": "[encoded data removed]",
      "text/plain": [
       "<Figure size 432x288 with 1 Axes>"
      ]
     },
     "metadata": {
      "needs_background": "light"
     },
     "output_type": "display_data"
    }
   ],
   "source": [
    "start_beting(5)"
   ]
  },
  {
   "cell_type": "code",
   "execution_count": 593,
   "metadata": {},
   "outputs": [
    {
     "name": "stdout",
     "output_type": "stream",
     "text": [
      "El jugador empezó con $ 10,000\n",
      "El jugador se fue con $ 9984.907546226887\n"
     ]
    },
    {
     "data": {
      "image/png": "[encoded data removed]",
      "text/plain": [
       "<Figure size 432x288 with 1 Axes>"
      ]
     },
     "metadata": {
      "needs_background": "light"
     },
     "output_type": "display_data"
    }
   ],
   "source": [
    "start_beting(10)"
   ]
  },
  {
   "cell_type": "code",
   "execution_count": 598,
   "metadata": {},
   "outputs": [
    {
     "name": "stdout",
     "output_type": "stream",
     "text": [
      "El jugador empezó con $ 10,000\n",
      "El jugador se fue con $ 5952.035423510927\n"
     ]
    },
    {
     "data": {
      "image/png": "[encoded data removed]",
      "text/plain": [
       "<Figure size 432x288 with 1 Axes>"
      ]
     },
     "metadata": {
      "needs_background": "light"
     },
     "output_type": "display_data"
    }
   ],
   "source": [
    "start_beting(1000)"
   ]
  },
  {
   "cell_type": "code",
   "execution_count": 597,
   "metadata": {},
   "outputs": [
    {
     "name": "stdout",
     "output_type": "stream",
     "text": [
      "El jugador empezó con $ 10,000\n",
      "El jugador se fue con $ 5598.633561073155\n"
     ]
    },
    {
     "data": {
      "image/png": "[encoded data removed]",
      "text/plain": [
       "<Figure size 432x288 with 1 Axes>"
      ]
     },
     "metadata": {
      "needs_background": "light"
     },
     "output_type": "display_data"
    }
   ],
   "source": [
    "start_beting(10000)"
   ]
  },
  {
   "cell_type": "markdown",
   "metadata": {},
   "source": [
    "### ¿Qué conclusiones puedes inferir a partir del ejercicio anterior?"
   ]
  },
  {
   "cell_type": "markdown",
   "metadata": {},
   "source": [
    "Mientras el jugador haga menos apuestas, tiene más probabilidad de obtener una ganancia o perder menos dinero, en cambio, cuando más número de apuestas hace el jugador, e"
   ]
  },
  {
   "cell_type": "markdown",
   "metadata": {},
   "source": [
    "----\n",
    "\n",
    "Tenga en cuenta que estos porcentajes son para nuestro juego figurativo y pueden modificarse....\n",
    "\n",
    "\n",
    "-------\n",
    "\n",
    "Al igual que con cualquier modelo de pronóstico, la simulación solo será tan buena como las estimaciones que hagamos. Es importante recordar que la simulación de Monte Carlo solo representa probabilidades y no certeza. Sin embargo, la simulación de Monte Carlo puede ser una herramienta valiosa a la hora de pronosticar un futuro desconocido."
   ]
  },
  {
   "cell_type": "code",
   "execution_count": null,
   "metadata": {},
   "outputs": [],
   "source": []
  },
  {
   "cell_type": "code",
   "execution_count": null,
   "metadata": {},
   "outputs": [],
   "source": []
  }
 ],
 "metadata": {
  "kernelspec": {
   "display_name": "Python 3",
   "language": "python",
   "name": "python3"
  },
  "language_info": {
   "codemirror_mode": {
    "name": "ipython",
    "version": 3
   },
   "file_extension": ".py",
   "mimetype": "text/x-python",
   "name": "python",
   "nbconvert_exporter": "python",
   "pygments_lexer": "ipython3",
   "version": "3.9.6"
  }
 },
 "nbformat": 4,
 "nbformat_minor": 4
}
