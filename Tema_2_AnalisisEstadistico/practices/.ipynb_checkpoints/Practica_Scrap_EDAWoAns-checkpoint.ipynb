{
 "cells": [
  {
   "cell_type": "markdown",
   "metadata": {},
   "source": [
    "[![Open In Colab](https://colab.research.google.com/assets/colab-badge.svg)](https://colab.research.google.com/github/MauricioRR-Tec/AprendizajeAutomatico/blob/master/Tema_2_AnalisisEstadistico/notebook/exercises/Practica_Scrap_EDAWoAns.ipynb)"
   ]
  },
  {
   "cell_type": "markdown",
   "metadata": {},
   "source": [
    "<h1><center>Práctica de Módulo 2</center><h1>"
   ]
  },
  {
   "cell_type": "markdown",
   "metadata": {},
   "source": [
    "## ¿Qué es web scrapping?\n",
    "\n",
    "Es una técnica para recuperar grandes cantidades de datos de Internet.\n",
    "\n",
    "-----\n",
    "\n",
    "Existen diferentes técnicas como Scrappy, BeautifulSoup, etc. La librería más común es BeautifulSoup. \n",
    "\n",
    "Extrae la página Html de cualquier sitio web. Los datos almacenados por web Scrapping son un formato no estructurado. Convertimos los datos no estructurados en estructurados para el análisis y la exploración de datos.\n",
    "\n",
    "------\n",
    "\n",
    "### Bibliotecas utilizadas para Web Scraping\n",
    "\n",
    "Como sabemos, Python se usa para varias aplicaciones y existen diferentes bibliotecas para diferentes propósitos. En nuestra demostración adicional, usaremos las siguientes bibliotecas:\n",
    "\n",
    "   * BeautifulSoup: Beautiful Soup es un paquete de Python para analizar documentos HTML y XML. Crea árboles de análisis que son útiles para extraer los datos fácilmente.\n",
    "   * Pandas: Pandas es una biblioteca que se utiliza para la manipulación y el análisis de datos. Se utiliza para extraer los datos y almacenarlos en el formato deseado.\n",
    "   * Utilice matplotlib y seaborn para la visualización de datos"
   ]
  },
  {
   "cell_type": "markdown",
   "metadata": {},
   "source": [
    "------\n",
    "### ¿Cómo funciona el Web Scraping?\n",
    "\n",
    "Cuando ejecuta el código para web scraping, se envía una solicitud a la URL que ha mencionado. Como respuesta a la solicitud, el servidor envía los datos y le permite leer la página HTML o XML. Luego, el código analiza la página HTML o XML, encuentra los datos y los extrae.\n",
    "\n",
    "Para extraer datos utilizando web scraping con Python, debe seguir estos pasos básicos:\n",
    "\n",
    "   * Busque la URL que desea raspar\n",
    "   * Inspecciona la página\n",
    "   * Encuentra los datos que quieres extraer\n",
    "   * Escribe el codigo\n",
    "   * Ejecute el código y extraiga los datos\n",
    "   * Almacene los datos en el formato requerido\n",
    "\n",
    "------"
   ]
  },
  {
   "cell_type": "markdown",
   "metadata": {},
   "source": [
    "-------\n",
    "\n",
    "### Datos del sitio web de Flipkart\n",
    "\n",
    "Para comprobar cuál debería ser el precio óptimo de nuestro producto, estos precios pueden variar mucho. Entonces, vamos a mostrar cómo podemos obtener información relacionada con un producto en particular (computadora portátil).\n",
    "\n",
    "Primero, importemos todas las bibliotecas necesarias:"
   ]
  },
  {
   "cell_type": "code",
   "execution_count": 2,
   "metadata": {},
   "outputs": [],
   "source": [
    "import requests\n",
    "import pandas as pd\n",
    "from bs4 import BeautifulSoup\n",
    "import csv"
   ]
  },
  {
   "cell_type": "markdown",
   "metadata": {},
   "source": [
    "Los datos que extraemos son datos no estructurados. Por eso, crearemos listas vacías para almacenarlas de forma estructurada"
   ]
  },
  {
   "cell_type": "code",
   "execution_count": 3,
   "metadata": {},
   "outputs": [],
   "source": [
    "name=[]\n",
    "prices=[]\n",
    "ratings=[]\n",
    "df = pd.DataFrame()"
   ]
  },
  {
   "cell_type": "markdown",
   "metadata": {},
   "source": [
    "## Paso 1: busque la URL\n",
    "\n",
    "Para este ejemplo, vamos a **raspar** (Scrap) el sitio web de **Flipkart** para extraer el nombre, el precio y la calificación de las computadoras portátiles. La URL de esta página es:\n",
    "\n",
    "[Flipkart](https://www.flipkart.com/search?q=laptops&otracker=search&otracker1=search&marketplace=FLIPKART&as-show=on&as=off&as-pos=1&as-type=HISTORY.)"
   ]
  },
  {
   "cell_type": "code",
   "execution_count": 4,
   "metadata": {},
   "outputs": [],
   "source": [
    "# Dirección de la página web\n",
    "url = \"https://www.flipkart.com/search?q=laptops&otracker=search&otracker1=search&marketplace=FLIPKART&as-show=on&as=off&as-pos=1&as-type=HISTORY.\""
   ]
  },
  {
   "cell_type": "code",
   "execution_count": 5,
   "metadata": {},
   "outputs": [],
   "source": [
    "# Ejecutar GET-Request\n",
    "response = requests.get(url)"
   ]
  },
  {
   "cell_type": "code",
   "execution_count": 6,
   "metadata": {},
   "outputs": [],
   "source": [
    "# Analizar sintácticamente el archivo HTML de BeautifulSoup del texto fuente\n",
    "soup = BeautifulSoup(response.text, 'html.parser')"
   ]
  },
  {
   "cell_type": "markdown",
   "metadata": {},
   "source": [
    "### Paso 2: inspección de la página\n",
    "\n",
    "Los datos suelen estar anidados en etiquetas. Entonces, inspeccionamos la página para ver, bajo qué etiqueta están anidados los datos que queremos raspar. Para inspeccionar la página, simplemente haga clic derecho en el elemento y haga clic en \"Inspeccionar\" (o F12)."
   ]
  },
  {
   "cell_type": "markdown",
   "metadata": {},
   "source": [
    "![img](https://miro.medium.com/max/571/0*TF2VBxPanqhxb-hY.png)"
   ]
  },
  {
   "cell_type": "markdown",
   "metadata": {},
   "source": [
    "### Paso 3: busque los datos que desea extraer\n",
    "\n",
    "Extraigamos el nombre, precio y calificación que están anidados en la etiqueta \"div\" respectivamente.\n",
    "\n",
    "Por lo general, nos confundiremos sobre qué etiqueta necesitamos copiar para esta computadora portátil. Podemos usar https://webformatter.com/ para filtrar la etiqueta por el nombre, el precio y la calificación, y podemos copiar fácilmente con esta herramienta.\n",
    "\n",
    "Ahora que hemos escrito el código para abrir la URL, es hora de extraer los datos del sitio web. Como se mencionó anteriormente, los datos que queremos extraer están anidados en etiquetas <div>. Entonces, encontraremos las etiquetas div con esos respectivos nombres de clase, extraeremos y almacenaremos los datos en una variable. Consulte el código a continuación:"
   ]
  },
  {
   "cell_type": "code",
   "execution_count": 26,
   "metadata": {},
   "outputs": [],
   "source": [
    "main_box = soup.find_all(\"div\", {\"class\":\"_13oc-S\"})"
   ]
  },
  {
   "cell_type": "code",
   "execution_count": 27,
   "metadata": {},
   "outputs": [
    {
     "data": {
      "text/plain": [
       "24"
      ]
     },
     "execution_count": 27,
     "metadata": {},
     "output_type": "execute_result"
    }
   ],
   "source": [
    "len(main_box)"
   ]
  },
  {
   "cell_type": "code",
   "execution_count": 28,
   "metadata": {},
   "outputs": [],
   "source": [
    "box = main_box[0]"
   ]
  },
  {
   "cell_type": "code",
   "execution_count": 29,
   "metadata": {},
   "outputs": [
    {
     "data": {
      "text/plain": [
       "<div class=\"_13oc-S\"><div data-id=\"COMFTC4YBSK8WZQC\" style=\"width:100%\"><div class=\"_2kHMtA\"><div class=\"_2tfzpE\"><span>Ad</span></div><a class=\"_1fQZEK\" href=\"/dell-xps-core-i5-10th-gen-8-gb-512-gb-ssd-windows-10-home-9300-thin-light-laptop/p/itm7de8623c77dff?pid=COMFTC4YBSK8WZQC&amp;lid=LSTCOMFTC4YBSK8WZQCYL4O3P&amp;marketplace=FLIPKART&amp;q=laptops&amp;store=6bo%2Fb5g&amp;srno=s_1_1&amp;otracker=search&amp;otracker1=search&amp;fm=organic&amp;iid=en_cCrGhDq2QdcZjD11%2F%2FhV%2BXoSsAwhqdoiPKpcaNDjSC2jsfkzZA%2FPMBM%2BI%2BzABoJ8Cqm2arMdVhYnMMXr4AQI%2Fg%3D%3D&amp;ppt=None&amp;ppn=None&amp;ssid=d2l2hyyj400000001631659202277&amp;qH=c06ea84a1e3dc3c6\" rel=\"noopener noreferrer\" target=\"_blank\"><div class=\"MIXNux\"><div class=\"_2QcLo-\"><div><div class=\"CXW8mj\" style=\"height:200px;width:200px\"><img alt=\"DELL XPS Core i5 10th Gen - (8 GB/512 GB SSD/Windows 10 Home) XPS 9300 Thin and Light Laptop\" class=\"_396cs4 _3exPp9\" src=\"https://rukminim1.flixcart.com/image/312/312/kf2v3ww0/computer/h/t/m/dell-original-imafvm5ymhkzvdqu.jpeg?q=70\"/></div></div></div><div class=\"_3wLduG\"><div class=\"_3PzNI-\"><span class=\"f3A4_V\"><label class=\"_2iDkf8\"><input class=\"_30VH1S\" readonly=\"\" type=\"checkbox\"/><div class=\"_24_Dny\"></div></label></span><label class=\"_6Up2sF\"><span>Add to Compare</span></label></div></div><div class=\"_2hVSre _3nq8ih\"><div class=\"_36FSn5\"><svg class=\"_1l0elc\" height=\"16\" viewbox=\"0 0 20 16\" width=\"16\" xmlns=\"http://www.w3.org/2000/svg\"><path class=\"eX72wL\" d=\"M8.695 16.682C4.06 12.382 1 9.536 1 6.065 1 3.219 3.178 1 5.95 1c1.566 0 3.069.746 4.05 1.915C10.981 1.745 12.484 1 14.05 1 16.822 1 19 3.22 19 6.065c0 3.471-3.06 6.316-7.695 10.617L10 17.897l-1.305-1.215z\" fill=\"#2874F0\" fill-rule=\"evenodd\" opacity=\".9\" stroke=\"#FFF\"></path></svg></div></div></div><div class=\"_3pLy-c row\"><div class=\"col col-7-12\"><div class=\"_4rR01T\">DELL XPS Core i5 10th Gen - (8 GB/512 GB SSD/Windows 10 Home) XPS 9300 Thin and Light Laptop</div><div class=\"fMghEO\"><ul class=\"_1xgFaf\"><li class=\"rgWa7D\">Intel Core i5 Processor (10th Gen)</li><li class=\"rgWa7D\">8 GB LPDDR4X RAM</li><li class=\"rgWa7D\">64 bit Windows 10 Operating System</li><li class=\"rgWa7D\">512 GB SSD</li><li class=\"rgWa7D\">33.78 cm (13.3 inch) Display</li><li class=\"rgWa7D\">Microsoft Office 365</li><li class=\"rgWa7D\">1 Year Limited Hardware Warranty, In Home Service After Remote Diagnosis - Retail</li></ul></div></div><div class=\"col col-5-12 nlI3QM\"><div class=\"_3tbKJL\"><div class=\"_25b18c\"><div class=\"_30jeq3 _1_WHN1\">₹1,19,990</div><div class=\"_3I9_wc _27UcVY\">₹<!-- -->1,54,446</div><div class=\"_3Ay6Sb\"><span>22% off</span></div></div></div><div class=\"_13J9qT\"><img height=\"21\" src=\"//static-assets-web.flixcart.com/www/linchpin/fk-cp-zion/img/fa_62673a.png\"/></div><div class=\"_2ZdXDB\"><div class=\"_3xFhiH\"><div class=\"_2Tpdn3 _18hQoS\" style=\"color:#000000;font-size:12px;font-style:normal;font-weight:400\">No Cost EMI from ₹19,999/month</div></div></div></div></div></a></div></div></div>"
      ]
     },
     "execution_count": 29,
     "metadata": {},
     "output_type": "execute_result"
    }
   ],
   "source": [
    "box"
   ]
  },
  {
   "cell_type": "code",
   "execution_count": 42,
   "metadata": {},
   "outputs": [],
   "source": [
    "# Limpiar los rating cuando su valor es nulo\n",
    "def clean_rating(box, class_type):\n",
    "    is_null = box.find(attrs={'class': class_type})\n",
    "    return is_null.text.strip() if (is_null is not None) else \"0.0\""
   ]
  },
  {
   "cell_type": "code",
   "execution_count": 43,
   "metadata": {},
   "outputs": [],
   "source": [
    "# Extraer todos los nombres, precios y ratings del archivo HTML\n",
    "title = box.find('div', attrs={'class':\"_4rR01T\"}).text.strip()\n",
    "price = box.find('div', attrs={'class':\"_30jeq3 _1_WHN1\"}).text.strip()\n",
    "rating = clean_rating(box,\"_3LWZlK\")"
   ]
  },
  {
   "cell_type": "code",
   "execution_count": 44,
   "metadata": {},
   "outputs": [
    {
     "name": "stdout",
     "output_type": "stream",
     "text": [
      "DELL XPS Core i5 10th Gen - (8 GB/512 GB SSD/Windows 10 Home) XPS 9300 Thin and Light Laptop ₹1,19,990 0.0\n"
     ]
    }
   ],
   "source": [
    "print(title,price,rating)"
   ]
  },
  {
   "cell_type": "code",
   "execution_count": 52,
   "metadata": {},
   "outputs": [],
   "source": [
    "name_html = soup.find_all('div', attrs={'class':\"_4rR01T\"})\n",
    "price_html = soup.find_all('div', attrs={'class':\"_30jeq3 _1_WHN1\"})\n",
    "rating_html = soup.find_all('div', attrs={'class':\"_3LWZlK\"})\n",
    "\n",
    "for name_obj in name_html:\n",
    "    name.append(name_obj.text)\n",
    "for price_obj in price_html:\n",
    "    prices.append(price_obj.text)\n",
    "for rating_obj in rating_html:\n",
    "    ratings.append(rating_obj.text)"
   ]
  },
  {
   "cell_type": "code",
   "execution_count": 76,
   "metadata": {},
   "outputs": [],
   "source": [
    "data_list=[]\n",
    "for box in main_box:\n",
    "    temp_dict={}\n",
    "    #completa\n",
    "    temp_dict['name'] = box.find('div', attrs={'class':\"_4rR01T\"}).text.strip()\n",
    "    temp_dict['rating'] = rating = clean_rating(box,\"_3LWZlK\")\n",
    "    temp_dict['price'] = box.find('div', attrs={'class':\"_30jeq3 _1_WHN1\"}).text.strip()\n",
    "    data_list.append(temp_dict)"
   ]
  },
  {
   "cell_type": "code",
   "execution_count": 77,
   "metadata": {},
   "outputs": [
    {
     "name": "stdout",
     "output_type": "stream",
     "text": [
      "{'name': 'DELL XPS Core i5 10th Gen - (8 GB/512 GB SSD/Windows 10 Home) XPS 9300 Thin and Light Laptop', 'rating': '0.0', 'price': '₹1,19,990'}\n"
     ]
    }
   ],
   "source": [
    "print(data_list[0])"
   ]
  },
  {
   "cell_type": "markdown",
   "metadata": {},
   "source": [
    "### Paso 4: Crear un dataframe y guardar los datos en csv\n",
    "\n",
    "Después de extraer los datos, es posible que desee almacenarlos en un formato. Este formato varía según sus necesidades. Para este ejemplo, almacenaremos los datos extraídos en formato CSV (valores separados por comas). Para hacer esto, agregaré las siguientes líneas a mi código:"
   ]
  },
  {
   "cell_type": "code",
   "execution_count": 78,
   "metadata": {},
   "outputs": [],
   "source": [
    "#To show products that only have price and rating\n",
    "headers = [\"Product Name\", \"Prices\", \"Ratings\"]\n",
    "\n",
    "with open('./zitate.csv', 'w') as csv_file:\n",
    "    csv_writer = csv.writer(csv_file, dialect='excel')\n",
    "    csv_writer.writerow(headers)\n",
    "    csv_writer.writerows(zip(name, prices, ratings))"
   ]
  },
  {
   "cell_type": "code",
   "execution_count": 79,
   "metadata": {},
   "outputs": [],
   "source": [
    "#To show all products even if they dont have price or rating\n",
    "dataset = {'Product Name':name, 'Price':prices, 'Rating':ratings}\n",
    "df = pd.DataFrame.from_dict(dataset, orient='index')\n",
    "df.transpose()\n",
    "df.to_csv('products.csv', index=True, encoding='utf-8')"
   ]
  },
  {
   "cell_type": "code",
   "execution_count": 80,
   "metadata": {},
   "outputs": [],
   "source": [
    "#FALTA 1\n",
    "#completa(\"datos_compus.csv\", index=False, encoding='utf-8')\n",
    "laptops = pd.DataFrame(data_list)"
   ]
  },
  {
   "cell_type": "code",
   "execution_count": 81,
   "metadata": {},
   "outputs": [
    {
     "data": {
      "text/html": [
       "<div>\n",
       "<style scoped>\n",
       "    .dataframe tbody tr th:only-of-type {\n",
       "        vertical-align: middle;\n",
       "    }\n",
       "\n",
       "    .dataframe tbody tr th {\n",
       "        vertical-align: top;\n",
       "    }\n",
       "\n",
       "    .dataframe thead th {\n",
       "        text-align: right;\n",
       "    }\n",
       "</style>\n",
       "<table border=\"1\" class=\"dataframe\">\n",
       "  <thead>\n",
       "    <tr style=\"text-align: right;\">\n",
       "      <th></th>\n",
       "      <th>name</th>\n",
       "      <th>rating</th>\n",
       "      <th>price</th>\n",
       "    </tr>\n",
       "  </thead>\n",
       "  <tbody>\n",
       "    <tr>\n",
       "      <th>0</th>\n",
       "      <td>DELL XPS Core i5 10th Gen - (8 GB/512 GB SSD/W...</td>\n",
       "      <td>0.0</td>\n",
       "      <td>₹1,19,990</td>\n",
       "    </tr>\n",
       "    <tr>\n",
       "      <th>1</th>\n",
       "      <td>ALIENWARE Core i9 10th Gen - (32 GB/1 TB SSD/W...</td>\n",
       "      <td>4.6</td>\n",
       "      <td>₹3,19,990</td>\n",
       "    </tr>\n",
       "    <tr>\n",
       "      <th>2</th>\n",
       "      <td>HP 14s Core i3 11th Gen - (8 GB/256 GB SSD/Win...</td>\n",
       "      <td>4.4</td>\n",
       "      <td>₹41,990</td>\n",
       "    </tr>\n",
       "    <tr>\n",
       "      <th>3</th>\n",
       "      <td>HP Pavilion Ryzen 5 Hexa Core 5600H - (8 GB/51...</td>\n",
       "      <td>4.5</td>\n",
       "      <td>₹64,056</td>\n",
       "    </tr>\n",
       "    <tr>\n",
       "      <th>4</th>\n",
       "      <td>acer Aspire 7 Ryzen 5 Hexa Core 5500U - (8 GB/...</td>\n",
       "      <td>4.5</td>\n",
       "      <td>₹56,990</td>\n",
       "    </tr>\n",
       "    <tr>\n",
       "      <th>5</th>\n",
       "      <td>Lenovo APU Dual Core A9 A99425 - (4 GB/1 TB HD...</td>\n",
       "      <td>4.6</td>\n",
       "      <td>₹28,000</td>\n",
       "    </tr>\n",
       "    <tr>\n",
       "      <th>6</th>\n",
       "      <td>acer Aspire 7 Core i5 10th Gen - (8 GB/512 GB ...</td>\n",
       "      <td>4.4</td>\n",
       "      <td>₹56,990</td>\n",
       "    </tr>\n",
       "    <tr>\n",
       "      <th>7</th>\n",
       "      <td>ASUS VivoBook 15 Core i3 10th Gen - (4 GB/1 TB...</td>\n",
       "      <td>3.8</td>\n",
       "      <td>₹34,990</td>\n",
       "    </tr>\n",
       "    <tr>\n",
       "      <th>8</th>\n",
       "      <td>Lenovo IdeaPad Slim 3i (2021) Core i3 11th Gen...</td>\n",
       "      <td>4.4</td>\n",
       "      <td>₹45,990</td>\n",
       "    </tr>\n",
       "    <tr>\n",
       "      <th>9</th>\n",
       "      <td>HP 15s Ryzen 3 Dual Core 3250U - (8 GB/1 TB HD...</td>\n",
       "      <td>4.2</td>\n",
       "      <td>₹38,499</td>\n",
       "    </tr>\n",
       "    <tr>\n",
       "      <th>10</th>\n",
       "      <td>HP 15-ec1105AX Ryzen 5 Hexa Core 4600H - (8 GB...</td>\n",
       "      <td>4.5</td>\n",
       "      <td>₹59,990</td>\n",
       "    </tr>\n",
       "    <tr>\n",
       "      <th>11</th>\n",
       "      <td>DELL Vostro Core i3 10th Gen - (8 GB/1 TB HDD/...</td>\n",
       "      <td>4</td>\n",
       "      <td>₹37,379</td>\n",
       "    </tr>\n",
       "    <tr>\n",
       "      <th>12</th>\n",
       "      <td>Lenovo IdeaPad 3 Core i3 10th Gen - (8 GB/1 TB...</td>\n",
       "      <td>4.3</td>\n",
       "      <td>₹39,990</td>\n",
       "    </tr>\n",
       "    <tr>\n",
       "      <th>13</th>\n",
       "      <td>HP Ryzen 5 Quad Core 3500U - (8 GB/1 TB HDD/25...</td>\n",
       "      <td>4.4</td>\n",
       "      <td>₹47,990</td>\n",
       "    </tr>\n",
       "    <tr>\n",
       "      <th>14</th>\n",
       "      <td>ASUS VivoBook Flip Ryzen 5 Hexa Core - (8 GB/5...</td>\n",
       "      <td>4.4</td>\n",
       "      <td>₹59,990</td>\n",
       "    </tr>\n",
       "    <tr>\n",
       "      <th>15</th>\n",
       "      <td>DELL Inspiron 7000 Core i5 10th Gen - (8 GB/51...</td>\n",
       "      <td>0.0</td>\n",
       "      <td>₹69,990</td>\n",
       "    </tr>\n",
       "    <tr>\n",
       "      <th>16</th>\n",
       "      <td>DELL Vostro Core i3 10th Gen - (4 GB/256 GB SS...</td>\n",
       "      <td>4.2</td>\n",
       "      <td>₹36,057</td>\n",
       "    </tr>\n",
       "    <tr>\n",
       "      <th>17</th>\n",
       "      <td>ASUS TUF Gaming A17 Ryzen 7 Octa Core 4800H - ...</td>\n",
       "      <td>4.6</td>\n",
       "      <td>₹88,990</td>\n",
       "    </tr>\n",
       "    <tr>\n",
       "      <th>18</th>\n",
       "      <td>HP Pavilion Core i5 11th Gen - (16 GB/512 GB S...</td>\n",
       "      <td>4.5</td>\n",
       "      <td>₹66,990</td>\n",
       "    </tr>\n",
       "    <tr>\n",
       "      <th>19</th>\n",
       "      <td>DELL Inspiron Ryzen 5 Quad Core 3450U - (8 GB/...</td>\n",
       "      <td>4.2</td>\n",
       "      <td>₹42,890</td>\n",
       "    </tr>\n",
       "    <tr>\n",
       "      <th>20</th>\n",
       "      <td>Lenovo IdeaPad Core i3 10th Gen - (8 GB/256 GB...</td>\n",
       "      <td>4.2</td>\n",
       "      <td>₹39,990</td>\n",
       "    </tr>\n",
       "    <tr>\n",
       "      <th>21</th>\n",
       "      <td>MSI GF65 Thin Hexa Core i5 10th Gen - (16 GB/5...</td>\n",
       "      <td>4.6</td>\n",
       "      <td>₹74,990</td>\n",
       "    </tr>\n",
       "    <tr>\n",
       "      <th>22</th>\n",
       "      <td>DELL Inspiron Core i5 11th Gen - (8 GB/512 GB ...</td>\n",
       "      <td>4.7</td>\n",
       "      <td>₹69,990</td>\n",
       "    </tr>\n",
       "    <tr>\n",
       "      <th>23</th>\n",
       "      <td>Lenovo Core i5 9th Gen - (8 GB/1 TB HDD/Window...</td>\n",
       "      <td>4.1</td>\n",
       "      <td>₹49,990</td>\n",
       "    </tr>\n",
       "  </tbody>\n",
       "</table>\n",
       "</div>"
      ],
      "text/plain": [
       "                                                 name rating      price\n",
       "0   DELL XPS Core i5 10th Gen - (8 GB/512 GB SSD/W...    0.0  ₹1,19,990\n",
       "1   ALIENWARE Core i9 10th Gen - (32 GB/1 TB SSD/W...    4.6  ₹3,19,990\n",
       "2   HP 14s Core i3 11th Gen - (8 GB/256 GB SSD/Win...    4.4    ₹41,990\n",
       "3   HP Pavilion Ryzen 5 Hexa Core 5600H - (8 GB/51...    4.5    ₹64,056\n",
       "4   acer Aspire 7 Ryzen 5 Hexa Core 5500U - (8 GB/...    4.5    ₹56,990\n",
       "5   Lenovo APU Dual Core A9 A99425 - (4 GB/1 TB HD...    4.6    ₹28,000\n",
       "6   acer Aspire 7 Core i5 10th Gen - (8 GB/512 GB ...    4.4    ₹56,990\n",
       "7   ASUS VivoBook 15 Core i3 10th Gen - (4 GB/1 TB...    3.8    ₹34,990\n",
       "8   Lenovo IdeaPad Slim 3i (2021) Core i3 11th Gen...    4.4    ₹45,990\n",
       "9   HP 15s Ryzen 3 Dual Core 3250U - (8 GB/1 TB HD...    4.2    ₹38,499\n",
       "10  HP 15-ec1105AX Ryzen 5 Hexa Core 4600H - (8 GB...    4.5    ₹59,990\n",
       "11  DELL Vostro Core i3 10th Gen - (8 GB/1 TB HDD/...      4    ₹37,379\n",
       "12  Lenovo IdeaPad 3 Core i3 10th Gen - (8 GB/1 TB...    4.3    ₹39,990\n",
       "13  HP Ryzen 5 Quad Core 3500U - (8 GB/1 TB HDD/25...    4.4    ₹47,990\n",
       "14  ASUS VivoBook Flip Ryzen 5 Hexa Core - (8 GB/5...    4.4    ₹59,990\n",
       "15  DELL Inspiron 7000 Core i5 10th Gen - (8 GB/51...    0.0    ₹69,990\n",
       "16  DELL Vostro Core i3 10th Gen - (4 GB/256 GB SS...    4.2    ₹36,057\n",
       "17  ASUS TUF Gaming A17 Ryzen 7 Octa Core 4800H - ...    4.6    ₹88,990\n",
       "18  HP Pavilion Core i5 11th Gen - (16 GB/512 GB S...    4.5    ₹66,990\n",
       "19  DELL Inspiron Ryzen 5 Quad Core 3450U - (8 GB/...    4.2    ₹42,890\n",
       "20  Lenovo IdeaPad Core i3 10th Gen - (8 GB/256 GB...    4.2    ₹39,990\n",
       "21  MSI GF65 Thin Hexa Core i5 10th Gen - (16 GB/5...    4.6    ₹74,990\n",
       "22  DELL Inspiron Core i5 11th Gen - (8 GB/512 GB ...    4.7    ₹69,990\n",
       "23  Lenovo Core i5 9th Gen - (8 GB/1 TB HDD/Window...    4.1    ₹49,990"
      ]
     },
     "execution_count": 81,
     "metadata": {},
     "output_type": "execute_result"
    }
   ],
   "source": [
    "laptops"
   ]
  },
  {
   "cell_type": "code",
   "execution_count": 82,
   "metadata": {},
   "outputs": [],
   "source": [
    "laptops.to_csv(\"datos_compus.csv\", index=False, encoding='utf-8')"
   ]
  },
  {
   "cell_type": "markdown",
   "metadata": {},
   "source": [
    "### Paso 5: Un poco de EDA y visualización de este archivo"
   ]
  },
  {
   "cell_type": "code",
   "execution_count": 119,
   "metadata": {},
   "outputs": [
    {
     "data": {
      "text/html": [
       "<div>\n",
       "<style scoped>\n",
       "    .dataframe tbody tr th:only-of-type {\n",
       "        vertical-align: middle;\n",
       "    }\n",
       "\n",
       "    .dataframe tbody tr th {\n",
       "        vertical-align: top;\n",
       "    }\n",
       "\n",
       "    .dataframe thead th {\n",
       "        text-align: right;\n",
       "    }\n",
       "</style>\n",
       "<table border=\"1\" class=\"dataframe\">\n",
       "  <thead>\n",
       "    <tr style=\"text-align: right;\">\n",
       "      <th></th>\n",
       "      <th>name</th>\n",
       "      <th>rating</th>\n",
       "      <th>price</th>\n",
       "    </tr>\n",
       "  </thead>\n",
       "  <tbody>\n",
       "    <tr>\n",
       "      <th>0</th>\n",
       "      <td>DELL XPS Core i5 10th Gen - (8 GB/512 GB SSD/W...</td>\n",
       "      <td>0.0</td>\n",
       "      <td>₹1,19,990</td>\n",
       "    </tr>\n",
       "    <tr>\n",
       "      <th>1</th>\n",
       "      <td>ALIENWARE Core i9 10th Gen - (32 GB/1 TB SSD/W...</td>\n",
       "      <td>4.6</td>\n",
       "      <td>₹3,19,990</td>\n",
       "    </tr>\n",
       "    <tr>\n",
       "      <th>2</th>\n",
       "      <td>HP 14s Core i3 11th Gen - (8 GB/256 GB SSD/Win...</td>\n",
       "      <td>4.4</td>\n",
       "      <td>₹41,990</td>\n",
       "    </tr>\n",
       "    <tr>\n",
       "      <th>3</th>\n",
       "      <td>HP Pavilion Ryzen 5 Hexa Core 5600H - (8 GB/51...</td>\n",
       "      <td>4.5</td>\n",
       "      <td>₹64,056</td>\n",
       "    </tr>\n",
       "    <tr>\n",
       "      <th>4</th>\n",
       "      <td>acer Aspire 7 Ryzen 5 Hexa Core 5500U - (8 GB/...</td>\n",
       "      <td>4.5</td>\n",
       "      <td>₹56,990</td>\n",
       "    </tr>\n",
       "    <tr>\n",
       "      <th>5</th>\n",
       "      <td>Lenovo APU Dual Core A9 A99425 - (4 GB/1 TB HD...</td>\n",
       "      <td>4.6</td>\n",
       "      <td>₹28,000</td>\n",
       "    </tr>\n",
       "    <tr>\n",
       "      <th>6</th>\n",
       "      <td>acer Aspire 7 Core i5 10th Gen - (8 GB/512 GB ...</td>\n",
       "      <td>4.4</td>\n",
       "      <td>₹56,990</td>\n",
       "    </tr>\n",
       "    <tr>\n",
       "      <th>7</th>\n",
       "      <td>ASUS VivoBook 15 Core i3 10th Gen - (4 GB/1 TB...</td>\n",
       "      <td>3.8</td>\n",
       "      <td>₹34,990</td>\n",
       "    </tr>\n",
       "    <tr>\n",
       "      <th>8</th>\n",
       "      <td>Lenovo IdeaPad Slim 3i (2021) Core i3 11th Gen...</td>\n",
       "      <td>4.4</td>\n",
       "      <td>₹45,990</td>\n",
       "    </tr>\n",
       "    <tr>\n",
       "      <th>9</th>\n",
       "      <td>HP 15s Ryzen 3 Dual Core 3250U - (8 GB/1 TB HD...</td>\n",
       "      <td>4.2</td>\n",
       "      <td>₹38,499</td>\n",
       "    </tr>\n",
       "    <tr>\n",
       "      <th>10</th>\n",
       "      <td>HP 15-ec1105AX Ryzen 5 Hexa Core 4600H - (8 GB...</td>\n",
       "      <td>4.5</td>\n",
       "      <td>₹59,990</td>\n",
       "    </tr>\n",
       "    <tr>\n",
       "      <th>11</th>\n",
       "      <td>DELL Vostro Core i3 10th Gen - (8 GB/1 TB HDD/...</td>\n",
       "      <td>4.0</td>\n",
       "      <td>₹37,379</td>\n",
       "    </tr>\n",
       "    <tr>\n",
       "      <th>12</th>\n",
       "      <td>Lenovo IdeaPad 3 Core i3 10th Gen - (8 GB/1 TB...</td>\n",
       "      <td>4.3</td>\n",
       "      <td>₹39,990</td>\n",
       "    </tr>\n",
       "    <tr>\n",
       "      <th>13</th>\n",
       "      <td>HP Ryzen 5 Quad Core 3500U - (8 GB/1 TB HDD/25...</td>\n",
       "      <td>4.4</td>\n",
       "      <td>₹47,990</td>\n",
       "    </tr>\n",
       "    <tr>\n",
       "      <th>14</th>\n",
       "      <td>ASUS VivoBook Flip Ryzen 5 Hexa Core - (8 GB/5...</td>\n",
       "      <td>4.4</td>\n",
       "      <td>₹59,990</td>\n",
       "    </tr>\n",
       "    <tr>\n",
       "      <th>15</th>\n",
       "      <td>DELL Inspiron 7000 Core i5 10th Gen - (8 GB/51...</td>\n",
       "      <td>0.0</td>\n",
       "      <td>₹69,990</td>\n",
       "    </tr>\n",
       "    <tr>\n",
       "      <th>16</th>\n",
       "      <td>DELL Vostro Core i3 10th Gen - (4 GB/256 GB SS...</td>\n",
       "      <td>4.2</td>\n",
       "      <td>₹36,057</td>\n",
       "    </tr>\n",
       "    <tr>\n",
       "      <th>17</th>\n",
       "      <td>ASUS TUF Gaming A17 Ryzen 7 Octa Core 4800H - ...</td>\n",
       "      <td>4.6</td>\n",
       "      <td>₹88,990</td>\n",
       "    </tr>\n",
       "    <tr>\n",
       "      <th>18</th>\n",
       "      <td>HP Pavilion Core i5 11th Gen - (16 GB/512 GB S...</td>\n",
       "      <td>4.5</td>\n",
       "      <td>₹66,990</td>\n",
       "    </tr>\n",
       "    <tr>\n",
       "      <th>19</th>\n",
       "      <td>DELL Inspiron Ryzen 5 Quad Core 3450U - (8 GB/...</td>\n",
       "      <td>4.2</td>\n",
       "      <td>₹42,890</td>\n",
       "    </tr>\n",
       "    <tr>\n",
       "      <th>20</th>\n",
       "      <td>Lenovo IdeaPad Core i3 10th Gen - (8 GB/256 GB...</td>\n",
       "      <td>4.2</td>\n",
       "      <td>₹39,990</td>\n",
       "    </tr>\n",
       "    <tr>\n",
       "      <th>21</th>\n",
       "      <td>MSI GF65 Thin Hexa Core i5 10th Gen - (16 GB/5...</td>\n",
       "      <td>4.6</td>\n",
       "      <td>₹74,990</td>\n",
       "    </tr>\n",
       "    <tr>\n",
       "      <th>22</th>\n",
       "      <td>DELL Inspiron Core i5 11th Gen - (8 GB/512 GB ...</td>\n",
       "      <td>4.7</td>\n",
       "      <td>₹69,990</td>\n",
       "    </tr>\n",
       "    <tr>\n",
       "      <th>23</th>\n",
       "      <td>Lenovo Core i5 9th Gen - (8 GB/1 TB HDD/Window...</td>\n",
       "      <td>4.1</td>\n",
       "      <td>₹49,990</td>\n",
       "    </tr>\n",
       "  </tbody>\n",
       "</table>\n",
       "</div>"
      ],
      "text/plain": [
       "                                                 name  rating      price\n",
       "0   DELL XPS Core i5 10th Gen - (8 GB/512 GB SSD/W...     0.0  ₹1,19,990\n",
       "1   ALIENWARE Core i9 10th Gen - (32 GB/1 TB SSD/W...     4.6  ₹3,19,990\n",
       "2   HP 14s Core i3 11th Gen - (8 GB/256 GB SSD/Win...     4.4    ₹41,990\n",
       "3   HP Pavilion Ryzen 5 Hexa Core 5600H - (8 GB/51...     4.5    ₹64,056\n",
       "4   acer Aspire 7 Ryzen 5 Hexa Core 5500U - (8 GB/...     4.5    ₹56,990\n",
       "5   Lenovo APU Dual Core A9 A99425 - (4 GB/1 TB HD...     4.6    ₹28,000\n",
       "6   acer Aspire 7 Core i5 10th Gen - (8 GB/512 GB ...     4.4    ₹56,990\n",
       "7   ASUS VivoBook 15 Core i3 10th Gen - (4 GB/1 TB...     3.8    ₹34,990\n",
       "8   Lenovo IdeaPad Slim 3i (2021) Core i3 11th Gen...     4.4    ₹45,990\n",
       "9   HP 15s Ryzen 3 Dual Core 3250U - (8 GB/1 TB HD...     4.2    ₹38,499\n",
       "10  HP 15-ec1105AX Ryzen 5 Hexa Core 4600H - (8 GB...     4.5    ₹59,990\n",
       "11  DELL Vostro Core i3 10th Gen - (8 GB/1 TB HDD/...     4.0    ₹37,379\n",
       "12  Lenovo IdeaPad 3 Core i3 10th Gen - (8 GB/1 TB...     4.3    ₹39,990\n",
       "13  HP Ryzen 5 Quad Core 3500U - (8 GB/1 TB HDD/25...     4.4    ₹47,990\n",
       "14  ASUS VivoBook Flip Ryzen 5 Hexa Core - (8 GB/5...     4.4    ₹59,990\n",
       "15  DELL Inspiron 7000 Core i5 10th Gen - (8 GB/51...     0.0    ₹69,990\n",
       "16  DELL Vostro Core i3 10th Gen - (4 GB/256 GB SS...     4.2    ₹36,057\n",
       "17  ASUS TUF Gaming A17 Ryzen 7 Octa Core 4800H - ...     4.6    ₹88,990\n",
       "18  HP Pavilion Core i5 11th Gen - (16 GB/512 GB S...     4.5    ₹66,990\n",
       "19  DELL Inspiron Ryzen 5 Quad Core 3450U - (8 GB/...     4.2    ₹42,890\n",
       "20  Lenovo IdeaPad Core i3 10th Gen - (8 GB/256 GB...     4.2    ₹39,990\n",
       "21  MSI GF65 Thin Hexa Core i5 10th Gen - (16 GB/5...     4.6    ₹74,990\n",
       "22  DELL Inspiron Core i5 11th Gen - (8 GB/512 GB ...     4.7    ₹69,990\n",
       "23  Lenovo Core i5 9th Gen - (8 GB/1 TB HDD/Window...     4.1    ₹49,990"
      ]
     },
     "execution_count": 119,
     "metadata": {},
     "output_type": "execute_result"
    }
   ],
   "source": [
    "df = pd.read_csv(\"datos_compus.csv\", sep=None, thousands=',', engine='python')\n",
    "df"
   ]
  },
  {
   "cell_type": "code",
   "execution_count": 120,
   "metadata": {},
   "outputs": [
    {
     "data": {
      "text/plain": [
       "(24, 3)"
      ]
     },
     "execution_count": 120,
     "metadata": {},
     "output_type": "execute_result"
    }
   ],
   "source": [
    "df.shape"
   ]
  },
  {
   "cell_type": "code",
   "execution_count": 121,
   "metadata": {},
   "outputs": [
    {
     "data": {
      "text/plain": [
       "name       object\n",
       "rating    float64\n",
       "price      object\n",
       "dtype: object"
      ]
     },
     "execution_count": 121,
     "metadata": {},
     "output_type": "execute_result"
    }
   ],
   "source": [
    "df.dtypes"
   ]
  },
  {
   "cell_type": "markdown",
   "metadata": {},
   "source": [
    "Quiero dividir el título debido a todas las especificaciones y nombres de portátiles en una fila.\n",
    "\n",
    "Lo dividiremos en diferentes columnas por separado usando la opción split ()"
   ]
  },
  {
   "cell_type": "code",
   "execution_count": 122,
   "metadata": {},
   "outputs": [
    {
     "data": {
      "text/html": [
       "<div>\n",
       "<style scoped>\n",
       "    .dataframe tbody tr th:only-of-type {\n",
       "        vertical-align: middle;\n",
       "    }\n",
       "\n",
       "    .dataframe tbody tr th {\n",
       "        vertical-align: top;\n",
       "    }\n",
       "\n",
       "    .dataframe thead th {\n",
       "        text-align: right;\n",
       "    }\n",
       "</style>\n",
       "<table border=\"1\" class=\"dataframe\">\n",
       "  <thead>\n",
       "    <tr style=\"text-align: right;\">\n",
       "      <th></th>\n",
       "      <th>rating</th>\n",
       "      <th>price</th>\n",
       "      <th>model</th>\n",
       "      <th>spec</th>\n",
       "    </tr>\n",
       "  </thead>\n",
       "  <tbody>\n",
       "    <tr>\n",
       "      <th>0</th>\n",
       "      <td>0.0</td>\n",
       "      <td>₹1,19,990</td>\n",
       "      <td>DELL XPS Core i5 10th Gen</td>\n",
       "      <td>(8 GB/512 GB SSD/Windows 10 Home) XPS 9300 Th...</td>\n",
       "    </tr>\n",
       "    <tr>\n",
       "      <th>1</th>\n",
       "      <td>4.6</td>\n",
       "      <td>₹3,19,990</td>\n",
       "      <td>ALIENWARE Core i9 10th Gen</td>\n",
       "      <td>(32 GB/1 TB SSD/Windows 10 Home/8 GB Graphics...</td>\n",
       "    </tr>\n",
       "    <tr>\n",
       "      <th>2</th>\n",
       "      <td>4.4</td>\n",
       "      <td>₹41,990</td>\n",
       "      <td>HP 14s Core i3 11th Gen</td>\n",
       "      <td>(8 GB/256 GB SSD/Windows 10 Home) 14s- DY2501...</td>\n",
       "    </tr>\n",
       "    <tr>\n",
       "      <th>3</th>\n",
       "      <td>4.5</td>\n",
       "      <td>₹64,056</td>\n",
       "      <td>HP Pavilion Ryzen 5 Hexa Core 5600H</td>\n",
       "      <td>(8 GB/512 GB SSD/Windows 10 Home/4 GB Graphic...</td>\n",
       "    </tr>\n",
       "    <tr>\n",
       "      <th>4</th>\n",
       "      <td>4.5</td>\n",
       "      <td>₹56,990</td>\n",
       "      <td>acer Aspire 7 Ryzen 5 Hexa Core 5500U</td>\n",
       "      <td>(8 GB/512 GB SSD/Windows 10 Home/4 GB Graphic...</td>\n",
       "    </tr>\n",
       "  </tbody>\n",
       "</table>\n",
       "</div>"
      ],
      "text/plain": [
       "   rating      price                                   model  \\\n",
       "0     0.0  ₹1,19,990              DELL XPS Core i5 10th Gen    \n",
       "1     4.6  ₹3,19,990             ALIENWARE Core i9 10th Gen    \n",
       "2     4.4    ₹41,990                HP 14s Core i3 11th Gen    \n",
       "3     4.5    ₹64,056    HP Pavilion Ryzen 5 Hexa Core 5600H    \n",
       "4     4.5    ₹56,990  acer Aspire 7 Ryzen 5 Hexa Core 5500U    \n",
       "\n",
       "                                                spec  \n",
       "0   (8 GB/512 GB SSD/Windows 10 Home) XPS 9300 Th...  \n",
       "1   (32 GB/1 TB SSD/Windows 10 Home/8 GB Graphics...  \n",
       "2   (8 GB/256 GB SSD/Windows 10 Home) 14s- DY2501...  \n",
       "3   (8 GB/512 GB SSD/Windows 10 Home/4 GB Graphic...  \n",
       "4   (8 GB/512 GB SSD/Windows 10 Home/4 GB Graphic...  "
      ]
     },
     "execution_count": 122,
     "metadata": {},
     "output_type": "execute_result"
    }
   ],
   "source": [
    "df[['model','spec']] = df['name'].str.split('-', n=1, expand=True)\n",
    "del df['name']\n",
    "df.head()"
   ]
  },
  {
   "cell_type": "markdown",
   "metadata": {},
   "source": [
    "Usamos esta opción dividida (split \"-\") para separar del título y crear una columna separada como modelo y especificación y eliminar el título"
   ]
  },
  {
   "cell_type": "code",
   "execution_count": 123,
   "metadata": {},
   "outputs": [
    {
     "data": {
      "text/html": [
       "<div>\n",
       "<style scoped>\n",
       "    .dataframe tbody tr th:only-of-type {\n",
       "        vertical-align: middle;\n",
       "    }\n",
       "\n",
       "    .dataframe tbody tr th {\n",
       "        vertical-align: top;\n",
       "    }\n",
       "\n",
       "    .dataframe thead th {\n",
       "        text-align: right;\n",
       "    }\n",
       "</style>\n",
       "<table border=\"1\" class=\"dataframe\">\n",
       "  <thead>\n",
       "    <tr style=\"text-align: right;\">\n",
       "      <th></th>\n",
       "      <th>rating</th>\n",
       "      <th>price</th>\n",
       "      <th>model</th>\n",
       "      <th>RAM</th>\n",
       "      <th>HDD</th>\n",
       "    </tr>\n",
       "  </thead>\n",
       "  <tbody>\n",
       "    <tr>\n",
       "      <th>0</th>\n",
       "      <td>0.0</td>\n",
       "      <td>₹1,19,990</td>\n",
       "      <td>DELL XPS Core i5 10th Gen</td>\n",
       "      <td></td>\n",
       "      <td>8 GB/512 GB SSD/Windows 10 Home) XPS 9300 Thin...</td>\n",
       "    </tr>\n",
       "    <tr>\n",
       "      <th>1</th>\n",
       "      <td>4.6</td>\n",
       "      <td>₹3,19,990</td>\n",
       "      <td>ALIENWARE Core i9 10th Gen</td>\n",
       "      <td></td>\n",
       "      <td>32 GB/1 TB SSD/Windows 10 Home/8 GB Graphics/N...</td>\n",
       "    </tr>\n",
       "    <tr>\n",
       "      <th>2</th>\n",
       "      <td>4.4</td>\n",
       "      <td>₹41,990</td>\n",
       "      <td>HP 14s Core i3 11th Gen</td>\n",
       "      <td></td>\n",
       "      <td>8 GB/256 GB SSD/Windows 10 Home) 14s- DY2501TU...</td>\n",
       "    </tr>\n",
       "    <tr>\n",
       "      <th>3</th>\n",
       "      <td>4.5</td>\n",
       "      <td>₹64,056</td>\n",
       "      <td>HP Pavilion Ryzen 5 Hexa Core 5600H</td>\n",
       "      <td></td>\n",
       "      <td>8 GB/512 GB SSD/Windows 10 Home/4 GB Graphics/...</td>\n",
       "    </tr>\n",
       "    <tr>\n",
       "      <th>4</th>\n",
       "      <td>4.5</td>\n",
       "      <td>₹56,990</td>\n",
       "      <td>acer Aspire 7 Ryzen 5 Hexa Core 5500U</td>\n",
       "      <td></td>\n",
       "      <td>8 GB/512 GB SSD/Windows 10 Home/4 GB Graphics/...</td>\n",
       "    </tr>\n",
       "  </tbody>\n",
       "</table>\n",
       "</div>"
      ],
      "text/plain": [
       "   rating      price                                   model RAM  \\\n",
       "0     0.0  ₹1,19,990              DELL XPS Core i5 10th Gen        \n",
       "1     4.6  ₹3,19,990             ALIENWARE Core i9 10th Gen        \n",
       "2     4.4    ₹41,990                HP 14s Core i3 11th Gen        \n",
       "3     4.5    ₹64,056    HP Pavilion Ryzen 5 Hexa Core 5600H        \n",
       "4     4.5    ₹56,990  acer Aspire 7 Ryzen 5 Hexa Core 5500U        \n",
       "\n",
       "                                                 HDD  \n",
       "0  8 GB/512 GB SSD/Windows 10 Home) XPS 9300 Thin...  \n",
       "1  32 GB/1 TB SSD/Windows 10 Home/8 GB Graphics/N...  \n",
       "2  8 GB/256 GB SSD/Windows 10 Home) 14s- DY2501TU...  \n",
       "3  8 GB/512 GB SSD/Windows 10 Home/4 GB Graphics/...  \n",
       "4  8 GB/512 GB SSD/Windows 10 Home/4 GB Graphics/...  "
      ]
     },
     "execution_count": 123,
     "metadata": {},
     "output_type": "execute_result"
    }
   ],
   "source": [
    "df[['RAM', 'HDD']] = df['spec'].str.split('(', n=1, expand=True)\n",
    "del df['spec']\n",
    "df.head()"
   ]
  },
  {
   "cell_type": "code",
   "execution_count": 124,
   "metadata": {},
   "outputs": [
    {
     "data": {
      "text/html": [
       "<div>\n",
       "<style scoped>\n",
       "    .dataframe tbody tr th:only-of-type {\n",
       "        vertical-align: middle;\n",
       "    }\n",
       "\n",
       "    .dataframe tbody tr th {\n",
       "        vertical-align: top;\n",
       "    }\n",
       "\n",
       "    .dataframe thead th {\n",
       "        text-align: right;\n",
       "    }\n",
       "</style>\n",
       "<table border=\"1\" class=\"dataframe\">\n",
       "  <thead>\n",
       "    <tr style=\"text-align: right;\">\n",
       "      <th></th>\n",
       "      <th>rating</th>\n",
       "      <th>price</th>\n",
       "      <th>model</th>\n",
       "      <th>RAM</th>\n",
       "      <th>Hard disk</th>\n",
       "    </tr>\n",
       "  </thead>\n",
       "  <tbody>\n",
       "    <tr>\n",
       "      <th>0</th>\n",
       "      <td>0.0</td>\n",
       "      <td>₹1,19,990</td>\n",
       "      <td>DELL XPS Core i5 10th Gen</td>\n",
       "      <td>8 GB</td>\n",
       "      <td>512 GB SSD/Windows 10 Home) XPS 9300 Thin and ...</td>\n",
       "    </tr>\n",
       "    <tr>\n",
       "      <th>1</th>\n",
       "      <td>4.6</td>\n",
       "      <td>₹3,19,990</td>\n",
       "      <td>ALIENWARE Core i9 10th Gen</td>\n",
       "      <td>32 GB</td>\n",
       "      <td>1 TB SSD/Windows 10 Home/8 GB Graphics/NVIDIA ...</td>\n",
       "    </tr>\n",
       "    <tr>\n",
       "      <th>2</th>\n",
       "      <td>4.4</td>\n",
       "      <td>₹41,990</td>\n",
       "      <td>HP 14s Core i3 11th Gen</td>\n",
       "      <td>8 GB</td>\n",
       "      <td>256 GB SSD/Windows 10 Home) 14s- DY2501TU Thin...</td>\n",
       "    </tr>\n",
       "    <tr>\n",
       "      <th>3</th>\n",
       "      <td>4.5</td>\n",
       "      <td>₹64,056</td>\n",
       "      <td>HP Pavilion Ryzen 5 Hexa Core 5600H</td>\n",
       "      <td>8 GB</td>\n",
       "      <td>512 GB SSD/Windows 10 Home/4 GB Graphics/NVIDI...</td>\n",
       "    </tr>\n",
       "    <tr>\n",
       "      <th>4</th>\n",
       "      <td>4.5</td>\n",
       "      <td>₹56,990</td>\n",
       "      <td>acer Aspire 7 Ryzen 5 Hexa Core 5500U</td>\n",
       "      <td>8 GB</td>\n",
       "      <td>512 GB SSD/Windows 10 Home/4 GB Graphics/NVIDI...</td>\n",
       "    </tr>\n",
       "  </tbody>\n",
       "</table>\n",
       "</div>"
      ],
      "text/plain": [
       "   rating      price                                   model    RAM  \\\n",
       "0     0.0  ₹1,19,990              DELL XPS Core i5 10th Gen    8 GB   \n",
       "1     4.6  ₹3,19,990             ALIENWARE Core i9 10th Gen   32 GB   \n",
       "2     4.4    ₹41,990                HP 14s Core i3 11th Gen    8 GB   \n",
       "3     4.5    ₹64,056    HP Pavilion Ryzen 5 Hexa Core 5600H    8 GB   \n",
       "4     4.5    ₹56,990  acer Aspire 7 Ryzen 5 Hexa Core 5500U    8 GB   \n",
       "\n",
       "                                           Hard disk  \n",
       "0  512 GB SSD/Windows 10 Home) XPS 9300 Thin and ...  \n",
       "1  1 TB SSD/Windows 10 Home/8 GB Graphics/NVIDIA ...  \n",
       "2  256 GB SSD/Windows 10 Home) 14s- DY2501TU Thin...  \n",
       "3  512 GB SSD/Windows 10 Home/4 GB Graphics/NVIDI...  \n",
       "4  512 GB SSD/Windows 10 Home/4 GB Graphics/NVIDI...  "
      ]
     },
     "execution_count": 124,
     "metadata": {},
     "output_type": "execute_result"
    }
   ],
   "source": [
    "df[['RAM', 'Hard disk']] = df['HDD'].str.split('/', n=1, expand=True)\n",
    "del df['HDD']\n",
    "df.head()"
   ]
  },
  {
   "cell_type": "markdown",
   "metadata": {},
   "source": [
    "Continuemos hasta conseguir lo siguiente..."
   ]
  },
  {
   "cell_type": "code",
   "execution_count": 125,
   "metadata": {},
   "outputs": [
    {
     "data": {
      "text/html": [
       "<div>\n",
       "<style scoped>\n",
       "    .dataframe tbody tr th:only-of-type {\n",
       "        vertical-align: middle;\n",
       "    }\n",
       "\n",
       "    .dataframe tbody tr th {\n",
       "        vertical-align: top;\n",
       "    }\n",
       "\n",
       "    .dataframe thead th {\n",
       "        text-align: right;\n",
       "    }\n",
       "</style>\n",
       "<table border=\"1\" class=\"dataframe\">\n",
       "  <thead>\n",
       "    <tr style=\"text-align: right;\">\n",
       "      <th></th>\n",
       "      <th>rating</th>\n",
       "      <th>price</th>\n",
       "      <th>model</th>\n",
       "      <th>RAM</th>\n",
       "      <th>Storage</th>\n",
       "      <th>OS</th>\n",
       "    </tr>\n",
       "  </thead>\n",
       "  <tbody>\n",
       "    <tr>\n",
       "      <th>0</th>\n",
       "      <td>0.0</td>\n",
       "      <td>₹1,19,990</td>\n",
       "      <td>DELL XPS Core i5 10th Gen</td>\n",
       "      <td>8 GB</td>\n",
       "      <td>512 GB SSD</td>\n",
       "      <td>Windows 10 Home) XPS 9300 Thin and Light Laptop</td>\n",
       "    </tr>\n",
       "    <tr>\n",
       "      <th>1</th>\n",
       "      <td>4.6</td>\n",
       "      <td>₹3,19,990</td>\n",
       "      <td>ALIENWARE Core i9 10th Gen</td>\n",
       "      <td>32 GB</td>\n",
       "      <td>1 TB SSD</td>\n",
       "      <td>Windows 10 Home/8 GB Graphics/NVIDIA GeForce R...</td>\n",
       "    </tr>\n",
       "    <tr>\n",
       "      <th>2</th>\n",
       "      <td>4.4</td>\n",
       "      <td>₹41,990</td>\n",
       "      <td>HP 14s Core i3 11th Gen</td>\n",
       "      <td>8 GB</td>\n",
       "      <td>256 GB SSD</td>\n",
       "      <td>Windows 10 Home) 14s- DY2501TU Thin and Light ...</td>\n",
       "    </tr>\n",
       "    <tr>\n",
       "      <th>3</th>\n",
       "      <td>4.5</td>\n",
       "      <td>₹64,056</td>\n",
       "      <td>HP Pavilion Ryzen 5 Hexa Core 5600H</td>\n",
       "      <td>8 GB</td>\n",
       "      <td>512 GB SSD</td>\n",
       "      <td>Windows 10 Home/4 GB Graphics/NVIDIA GeForce G...</td>\n",
       "    </tr>\n",
       "    <tr>\n",
       "      <th>4</th>\n",
       "      <td>4.5</td>\n",
       "      <td>₹56,990</td>\n",
       "      <td>acer Aspire 7 Ryzen 5 Hexa Core 5500U</td>\n",
       "      <td>8 GB</td>\n",
       "      <td>512 GB SSD</td>\n",
       "      <td>Windows 10 Home/4 GB Graphics/NVIDIA GeForce ...</td>\n",
       "    </tr>\n",
       "  </tbody>\n",
       "</table>\n",
       "</div>"
      ],
      "text/plain": [
       "   rating      price                                   model    RAM  \\\n",
       "0     0.0  ₹1,19,990              DELL XPS Core i5 10th Gen    8 GB   \n",
       "1     4.6  ₹3,19,990             ALIENWARE Core i9 10th Gen   32 GB   \n",
       "2     4.4    ₹41,990                HP 14s Core i3 11th Gen    8 GB   \n",
       "3     4.5    ₹64,056    HP Pavilion Ryzen 5 Hexa Core 5600H    8 GB   \n",
       "4     4.5    ₹56,990  acer Aspire 7 Ryzen 5 Hexa Core 5500U    8 GB   \n",
       "\n",
       "      Storage                                                 OS  \n",
       "0  512 GB SSD    Windows 10 Home) XPS 9300 Thin and Light Laptop  \n",
       "1    1 TB SSD  Windows 10 Home/8 GB Graphics/NVIDIA GeForce R...  \n",
       "2  256 GB SSD  Windows 10 Home) 14s- DY2501TU Thin and Light ...  \n",
       "3  512 GB SSD  Windows 10 Home/4 GB Graphics/NVIDIA GeForce G...  \n",
       "4  512 GB SSD   Windows 10 Home/4 GB Graphics/NVIDIA GeForce ...  "
      ]
     },
     "execution_count": 125,
     "metadata": {},
     "output_type": "execute_result"
    }
   ],
   "source": [
    "df[['Storage', 'OS']] = df['Hard disk'].str.split('/', n=1, expand=True)\n",
    "del df['Hard disk']\n",
    "df.head()"
   ]
  },
  {
   "cell_type": "code",
   "execution_count": 126,
   "metadata": {},
   "outputs": [
    {
     "data": {
      "text/html": [
       "<div>\n",
       "<style scoped>\n",
       "    .dataframe tbody tr th:only-of-type {\n",
       "        vertical-align: middle;\n",
       "    }\n",
       "\n",
       "    .dataframe tbody tr th {\n",
       "        vertical-align: top;\n",
       "    }\n",
       "\n",
       "    .dataframe thead th {\n",
       "        text-align: right;\n",
       "    }\n",
       "</style>\n",
       "<table border=\"1\" class=\"dataframe\">\n",
       "  <thead>\n",
       "    <tr style=\"text-align: right;\">\n",
       "      <th></th>\n",
       "      <th>rating</th>\n",
       "      <th>price</th>\n",
       "      <th>model</th>\n",
       "      <th>RAM</th>\n",
       "      <th>Storage</th>\n",
       "      <th>System</th>\n",
       "      <th>Other_info</th>\n",
       "    </tr>\n",
       "  </thead>\n",
       "  <tbody>\n",
       "    <tr>\n",
       "      <th>0</th>\n",
       "      <td>0.0</td>\n",
       "      <td>₹1,19,990</td>\n",
       "      <td>DELL XPS Core i5 10th Gen</td>\n",
       "      <td>8 GB</td>\n",
       "      <td>512 GB SSD</td>\n",
       "      <td>Windows 10 Home) XPS 9300 Thin and Light Laptop</td>\n",
       "      <td>None</td>\n",
       "    </tr>\n",
       "    <tr>\n",
       "      <th>1</th>\n",
       "      <td>4.6</td>\n",
       "      <td>₹3,19,990</td>\n",
       "      <td>ALIENWARE Core i9 10th Gen</td>\n",
       "      <td>32 GB</td>\n",
       "      <td>1 TB SSD</td>\n",
       "      <td>Windows 10 Home</td>\n",
       "      <td>8 GB Graphics/NVIDIA GeForce RTX 2080 wit...</td>\n",
       "    </tr>\n",
       "    <tr>\n",
       "      <th>2</th>\n",
       "      <td>4.4</td>\n",
       "      <td>₹41,990</td>\n",
       "      <td>HP 14s Core i3 11th Gen</td>\n",
       "      <td>8 GB</td>\n",
       "      <td>256 GB SSD</td>\n",
       "      <td>Windows 10 Home) 14s- DY2501TU Thin and Light ...</td>\n",
       "      <td>None</td>\n",
       "    </tr>\n",
       "    <tr>\n",
       "      <th>3</th>\n",
       "      <td>4.5</td>\n",
       "      <td>₹64,056</td>\n",
       "      <td>HP Pavilion Ryzen 5 Hexa Core 5600H</td>\n",
       "      <td>8 GB</td>\n",
       "      <td>512 GB SSD</td>\n",
       "      <td>Windows 10 Home</td>\n",
       "      <td>4 GB Graphics/NVIDIA GeForce GT...</td>\n",
       "    </tr>\n",
       "    <tr>\n",
       "      <th>4</th>\n",
       "      <td>4.5</td>\n",
       "      <td>₹56,990</td>\n",
       "      <td>acer Aspire 7 Ryzen 5 Hexa Core 5500U</td>\n",
       "      <td>8 GB</td>\n",
       "      <td>512 GB SSD</td>\n",
       "      <td>Windows 10 Home</td>\n",
       "      <td>4 GB Graphics/NVIDIA GeForce ...</td>\n",
       "    </tr>\n",
       "  </tbody>\n",
       "</table>\n",
       "</div>"
      ],
      "text/plain": [
       "   rating      price                                   model    RAM  \\\n",
       "0     0.0  ₹1,19,990              DELL XPS Core i5 10th Gen    8 GB   \n",
       "1     4.6  ₹3,19,990             ALIENWARE Core i9 10th Gen   32 GB   \n",
       "2     4.4    ₹41,990                HP 14s Core i3 11th Gen    8 GB   \n",
       "3     4.5    ₹64,056    HP Pavilion Ryzen 5 Hexa Core 5600H    8 GB   \n",
       "4     4.5    ₹56,990  acer Aspire 7 Ryzen 5 Hexa Core 5500U    8 GB   \n",
       "\n",
       "      Storage                                             System  \\\n",
       "0  512 GB SSD    Windows 10 Home) XPS 9300 Thin and Light Laptop   \n",
       "1    1 TB SSD                                    Windows 10 Home   \n",
       "2  256 GB SSD  Windows 10 Home) 14s- DY2501TU Thin and Light ...   \n",
       "3  512 GB SSD                                    Windows 10 Home   \n",
       "4  512 GB SSD                                    Windows 10 Home   \n",
       "\n",
       "                                     Other_info  \n",
       "0                                          None  \n",
       "1  8 GB Graphics/NVIDIA GeForce RTX 2080 wit...  \n",
       "2                                          None  \n",
       "3            4 GB Graphics/NVIDIA GeForce GT...  \n",
       "4              4 GB Graphics/NVIDIA GeForce ...  "
      ]
     },
     "execution_count": 126,
     "metadata": {},
     "output_type": "execute_result"
    }
   ],
   "source": [
    "df[['System', 'Other_info']] = df['OS'].str.split('/', n=1, expand=True)\n",
    "del df['OS']\n",
    "df.head()"
   ]
  },
  {
   "cell_type": "markdown",
   "metadata": {},
   "source": [
    "### Paso 6: Identificación de valores perdidos by \n",
    "\n",
    "\n",
    "Los métodos isnull () y notnull () son las formas más comunes de identificar valores perdidos.\n",
    "\n",
    "Mientras maneja los datos faltantes, primero debe identificar las filas y columnas que contienen los valores faltantes, contar el número de valores faltantes y luego decidir cómo desea tratarlos.\n",
    "\n",
    "Es importante que trate los valores faltantes en cada columna por separado, en lugar de implementar una única solución (por ejemplo, reemplazar los NaN por la media de una columna) para todas las columnas.\n",
    "\n",
    "isnull () devuelve un valor booleano (Verdadero / Falso) que luego se puede usar para encontrar las filas o columnas que contienen valores perdidos."
   ]
  },
  {
   "cell_type": "code",
   "execution_count": null,
   "metadata": {},
   "outputs": [],
   "source": [
    "#completa"
   ]
  },
  {
   "cell_type": "markdown",
   "metadata": {},
   "source": [
    "### Identificación de valores perdidos en columnas\n",
    "\n",
    "Primero calculemos el número total de valores faltantes en el marco de datos. Puede calcular el número de valores perdidos en cada columna mediante df.isnull().Sum()"
   ]
  },
  {
   "cell_type": "code",
   "execution_count": null,
   "metadata": {},
   "outputs": [],
   "source": [
    "#completa"
   ]
  },
  {
   "cell_type": "code",
   "execution_count": null,
   "metadata": {},
   "outputs": [],
   "source": [
    "#completa"
   ]
  },
  {
   "cell_type": "code",
   "execution_count": null,
   "metadata": {},
   "outputs": [],
   "source": [
    "#completa"
   ]
  },
  {
   "cell_type": "code",
   "execution_count": null,
   "metadata": {},
   "outputs": [],
   "source": [
    "#completa"
   ]
  },
  {
   "cell_type": "code",
   "execution_count": null,
   "metadata": {},
   "outputs": [],
   "source": [
    "#completa"
   ]
  },
  {
   "cell_type": "markdown",
   "metadata": {},
   "source": [
    "Ahora necesitamos filtrar las mejores computadoras portátiles con buenas especificaciones, precio y calificación de la lista"
   ]
  },
  {
   "cell_type": "markdown",
   "metadata": {},
   "source": [
    "Muestra los siguientes resultados:\n",
    " * Laptops en rating <= 4\n",
    " * Laptops con rating >= 3.5 y un precio entre 30 y 40 mil $"
   ]
  },
  {
   "cell_type": "code",
   "execution_count": null,
   "metadata": {},
   "outputs": [],
   "source": [
    "#completa"
   ]
  },
  {
   "cell_type": "code",
   "execution_count": null,
   "metadata": {},
   "outputs": [],
   "source": [
    "#completa"
   ]
  },
  {
   "cell_type": "markdown",
   "metadata": {},
   "source": [
    "---------\n",
    "\n",
    "### Visualización de los datos"
   ]
  },
  {
   "cell_type": "code",
   "execution_count": null,
   "metadata": {},
   "outputs": [],
   "source": [
    "#completa"
   ]
  },
  {
   "cell_type": "markdown",
   "metadata": {},
   "source": [
    "Realizaremos una gráfica de barras de precio vs rating"
   ]
  },
  {
   "cell_type": "code",
   "execution_count": null,
   "metadata": {},
   "outputs": [],
   "source": [
    "#completa"
   ]
  },
  {
   "cell_type": "code",
   "execution_count": null,
   "metadata": {},
   "outputs": [],
   "source": [
    "#completa"
   ]
  },
  {
   "cell_type": "markdown",
   "metadata": {},
   "source": [
    "Podemos concluir a partir de aquí que los productos con precios más altos tienen calificaciones más altas hasta cierto punto."
   ]
  },
  {
   "cell_type": "code",
   "execution_count": null,
   "metadata": {},
   "outputs": [],
   "source": [
    "#completa"
   ]
  },
  {
   "cell_type": "markdown",
   "metadata": {},
   "source": [
    "## ¿Les ha salido algún discordante visual a ustedes?"
   ]
  },
  {
   "cell_type": "code",
   "execution_count": null,
   "metadata": {},
   "outputs": [],
   "source": [
    "#completa"
   ]
  },
  {
   "cell_type": "markdown",
   "metadata": {},
   "source": [
    "### ¿Para ustedes, cuáles fueron las computadoras más caras?"
   ]
  },
  {
   "cell_type": "code",
   "execution_count": null,
   "metadata": {},
   "outputs": [],
   "source": []
  },
  {
   "cell_type": "markdown",
   "metadata": {},
   "source": [
    "----\n",
    "----\n",
    "----\n",
    "\n",
    "<h1><center>Monte Carlo</center><h1>\n",
    "\n",
    "### ¿Por qué la casa siempre gana?\n",
    "\n",
    "¿Cómo ganan dinero los casinos? El truco es sencillo: \"Cuanto más juegas, más ganan\". Echemos un vistazo a cómo funciona esto con un ejemplo simple de simulación de Monte Carlo.\n",
    "\n",
    "----\n",
    "\n",
    "Considere un juego imaginario en el que un jugador tiene que elegir una ficha de una bolsa de fichas.\n",
    "\n",
    "Reglas:\n",
    " * Hay fichas que contienen números que van del 1 al 100 en una bolsa.\n",
    " * Los usuarios pueden apostar en fichas pares o impares.\n",
    " * En este juego, el 10 y el 11 son números especiales. Si apostamos a pares, entonces 10 se contará como un número impar, y si apostamos a las probabilidades, entonces 11 se contará como un número par.\n",
    " * Si apostamos a números pares y obtenemos 10, perdemos.\n",
    " * Si apostamos a números impares y obtenemos 11, perdemos."
   ]
  },
  {
   "cell_type": "markdown",
   "metadata": {},
   "source": [
    "Si apostamos por las probabilidades, la probabilidad de que ganemos es de 49/100. \n",
    "\n",
    "---\n",
    "\n",
    "La probabilidad de que la casa gane es de 51/100. \n",
    "\n",
    "---"
   ]
  },
  {
   "cell_type": "markdown",
   "metadata": {},
   "source": [
    "### Importamos librerías"
   ]
  },
  {
   "cell_type": "code",
   "execution_count": null,
   "metadata": {},
   "outputs": [],
   "source": [
    "import random\n",
    "import matplotlib.pyplot as plt"
   ]
  },
  {
   "cell_type": "markdown",
   "metadata": {},
   "source": [
    "### Creación de las apuestas del jugador"
   ]
  },
  {
   "cell_type": "code",
   "execution_count": null,
   "metadata": {},
   "outputs": [],
   "source": [
    "#Player bet\n",
    "choice = input(\"Deseas apostar a pares o impares? \\n\")\n",
    "\n",
    "#Pares\n",
    "if choice == \"Par\":\n",
    "    def pickNote():\n",
    "        note = random.randint(1,100)\n",
    "        #completa\n",
    "            return False\n",
    "        #completa\n",
    "            return True\n",
    "\n",
    "elif choice == \"Odd\":\n",
    "    def pickNote():\n",
    "        #completa"
   ]
  },
  {
   "cell_type": "markdown",
   "metadata": {},
   "source": [
    "### Función principal"
   ]
  },
  {
   "cell_type": "code",
   "execution_count": null,
   "metadata": {},
   "outputs": [],
   "source": [
    "def play(total_money, bet_money, total_plays):\n",
    "    num_plays=[]\n",
    "    money=[]\n",
    "\n",
    "    play = 1\n",
    "    \n",
    "    for play in range(total_plays):\n",
    "        if pickNote():\n",
    "            total_money = total_money + bet_money\n",
    "            num_plays.#completa\n",
    "            money.append#completa\n",
    "            \n",
    "        else:\n",
    "            #completa\n",
    "    \n",
    "    plt.ylabel(\"Dinero en $\")\n",
    "    plt.xlabel(\"Numero de apuestas\")\n",
    "    plt.plot(#completa, #completa)\n",
    "    \n",
    "    final_funds.append(money[-1])\n",
    "    return(final_funds)"
   ]
  },
  {
   "cell_type": "markdown",
   "metadata": {},
   "source": [
    "### Resultado final"
   ]
  },
  {
   "cell_type": "code",
   "execution_count": null,
   "metadata": {},
   "outputs": [],
   "source": [
    "final_funds = []\n",
    "for i in range(10):\n",
    "    ending_fund = play(10000, 100, 50)\n",
    "    \n",
    "print(ending_fund)\n",
    "print(sum(ending_fund))\n",
    "\n",
    "print(\"El jugador empezó con $10,000\")\n",
    "print(\"El jugador se fue con $\", str(sum(ending_fund)/len(ending_fund)))"
   ]
  },
  {
   "cell_type": "markdown",
   "metadata": {},
   "source": [
    "## Ahora, para un total de apuestas de 5, 10 y 1000...."
   ]
  },
  {
   "cell_type": "markdown",
   "metadata": {},
   "source": [
    "### Ahora para mil iteraciones"
   ]
  },
  {
   "cell_type": "code",
   "execution_count": null,
   "metadata": {},
   "outputs": [],
   "source": [
    " #completa"
   ]
  },
  {
   "cell_type": "code",
   "execution_count": null,
   "metadata": {},
   "outputs": [],
   "source": [
    " #completa"
   ]
  },
  {
   "cell_type": "code",
   "execution_count": null,
   "metadata": {},
   "outputs": [],
   "source": [
    " #completa"
   ]
  },
  {
   "cell_type": "markdown",
   "metadata": {},
   "source": [
    "### ¿Qué conclusiones puedes inferir a partir del ejercicio anterior?"
   ]
  },
  {
   "cell_type": "code",
   "execution_count": null,
   "metadata": {},
   "outputs": [],
   "source": []
  },
  {
   "cell_type": "markdown",
   "metadata": {},
   "source": [
    "----\n",
    "\n",
    "Tenga en cuenta que estos porcentajes son para nuestro juego figurativo y pueden modificarse....\n",
    "\n",
    "\n",
    "-------\n",
    "\n",
    "Al igual que con cualquier modelo de pronóstico, la simulación solo será tan buena como las estimaciones que hagamos. Es importante recordar que la simulación de Monte Carlo solo representa probabilidades y no certeza. Sin embargo, la simulación de Monte Carlo puede ser una herramienta valiosa a la hora de pronosticar un futuro desconocido."
   ]
  }
 ],
 "metadata": {
  "kernelspec": {
   "display_name": "Python 3 (ipykernel)",
   "language": "python",
   "name": "python3"
  },
  "language_info": {
   "codemirror_mode": {
    "name": "ipython",
    "version": 3
   },
   "file_extension": ".py",
   "mimetype": "text/x-python",
   "name": "python",
   "nbconvert_exporter": "python",
   "pygments_lexer": "ipython3",
   "version": "3.8.5"
  }
 },
 "nbformat": 4,
 "nbformat_minor": 4
}
