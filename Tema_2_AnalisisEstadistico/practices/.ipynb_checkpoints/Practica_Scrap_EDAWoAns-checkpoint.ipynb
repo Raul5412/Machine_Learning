{
 "cells": [
  {
   "cell_type": "markdown",
   "metadata": {},
   "source": [
    "[![Open In Colab](https://colab.research.google.com/assets/colab-badge.svg)](https://colab.research.google.com/github/MauricioRR-Tec/AprendizajeAutomatico/blob/master/Tema_2_AnalisisEstadistico/notebook/exercises/Practica_Scrap_EDAWoAns.ipynb)"
   ]
  },
  {
   "cell_type": "markdown",
   "metadata": {},
   "source": [
    "<h1><center>Práctica de Módulo 2</center><h1>"
   ]
  },
  {
   "cell_type": "markdown",
   "metadata": {},
   "source": [
    "## ¿Qué es web scrapping?\n",
    "\n",
    "Es una técnica para recuperar grandes cantidades de datos de Internet.\n",
    "\n",
    "-----\n",
    "\n",
    "Existen diferentes técnicas como Scrappy, BeautifulSoup, etc. La librería más común es BeautifulSoup. \n",
    "\n",
    "Extrae la página Html de cualquier sitio web. Los datos almacenados por web Scrapping son un formato no estructurado. Convertimos los datos no estructurados en estructurados para el análisis y la exploración de datos.\n",
    "\n",
    "------\n",
    "\n",
    "### Bibliotecas utilizadas para Web Scraping\n",
    "\n",
    "Como sabemos, Python se usa para varias aplicaciones y existen diferentes bibliotecas para diferentes propósitos. En nuestra demostración adicional, usaremos las siguientes bibliotecas:\n",
    "\n",
    "   * BeautifulSoup: Beautiful Soup es un paquete de Python para analizar documentos HTML y XML. Crea árboles de análisis que son útiles para extraer los datos fácilmente.\n",
    "   * Pandas: Pandas es una biblioteca que se utiliza para la manipulación y el análisis de datos. Se utiliza para extraer los datos y almacenarlos en el formato deseado.\n",
    "   * Utilice matplotlib y seaborn para la visualización de datos"
   ]
  },
  {
   "cell_type": "markdown",
   "metadata": {},
   "source": [
    "------\n",
    "### ¿Cómo funciona el Web Scraping?\n",
    "\n",
    "Cuando ejecuta el código para web scraping, se envía una solicitud a la URL que ha mencionado. Como respuesta a la solicitud, el servidor envía los datos y le permite leer la página HTML o XML. Luego, el código analiza la página HTML o XML, encuentra los datos y los extrae.\n",
    "\n",
    "Para extraer datos utilizando web scraping con Python, debe seguir estos pasos básicos:\n",
    "\n",
    "   * Busque la URL que desea raspar\n",
    "   * Inspecciona la página\n",
    "   * Encuentra los datos que quieres extraer\n",
    "   * Escribe el codigo\n",
    "   * Ejecute el código y extraiga los datos\n",
    "   * Almacene los datos en el formato requerido\n",
    "\n",
    "------"
   ]
  },
  {
   "cell_type": "markdown",
   "metadata": {},
   "source": [
    "-------\n",
    "\n",
    "### Datos del sitio web de Flipkart\n",
    "\n",
    "Para comprobar cuál debería ser el precio óptimo de nuestro producto, estos precios pueden variar mucho. Entonces, vamos a mostrar cómo podemos obtener información relacionada con un producto en particular (computadora portátil).\n",
    "\n",
    "Primero, importemos todas las bibliotecas necesarias:"
   ]
  },
  {
   "cell_type": "code",
   "execution_count": 26,
   "metadata": {},
   "outputs": [],
   "source": [
    "import requests\n",
    "import pandas as pd\n",
    "from bs4 import BeautifulSoup\n",
    "import csv"
   ]
  },
  {
   "cell_type": "markdown",
   "metadata": {},
   "source": [
    "Los datos que extraemos son datos no estructurados. Por eso, crearemos listas vacías para almacenarlas de forma estructurada"
   ]
  },
  {
   "cell_type": "code",
   "execution_count": 27,
   "metadata": {},
   "outputs": [],
   "source": [
    "name=[]\n",
    "prices=[]\n",
    "ratings=[]\n",
    "df = pd.DataFrame()"
   ]
  },
  {
   "cell_type": "markdown",
   "metadata": {},
   "source": [
    "## Paso 1: busque la URL\n",
    "\n",
    "Para este ejemplo, vamos a **raspar** (Scrap) el sitio web de **Flipkart** para extraer el nombre, el precio y la calificación de las computadoras portátiles. La URL de esta página es:\n",
    "\n",
    "[Flipkart](https://www.flipkart.com/search?q=laptops&otracker=search&otracker1=search&marketplace=FLIPKART&as-show=on&as=off&as-pos=1&as-type=HISTORY.)"
   ]
  },
  {
   "cell_type": "code",
   "execution_count": 28,
   "metadata": {},
   "outputs": [],
   "source": [
    "# Dirección de la página web\n",
    "url = \"https://www.flipkart.com/search?q=laptops&otracker=search&otracker1=search&marketplace=FLIPKART&as-show=on&as=off&as-pos=1&as-type=HISTORY.\""
   ]
  },
  {
   "cell_type": "code",
   "execution_count": 29,
   "metadata": {},
   "outputs": [],
   "source": [
    "# Ejecutar GET-Request\n",
    "response = requests.get(url)"
   ]
  },
  {
   "cell_type": "code",
   "execution_count": 30,
   "metadata": {},
   "outputs": [],
   "source": [
    "# Analizar sintácticamente el archivo HTML de BeautifulSoup del texto fuente\n",
    "soup = BeautifulSoup(response.text, 'html.parser')"
   ]
  },
  {
   "cell_type": "markdown",
   "metadata": {},
   "source": [
    "### Paso 2: inspección de la página\n",
    "\n",
    "Los datos suelen estar anidados en etiquetas. Entonces, inspeccionamos la página para ver, bajo qué etiqueta están anidados los datos que queremos raspar. Para inspeccionar la página, simplemente haga clic derecho en el elemento y haga clic en \"Inspeccionar\" (o F12)."
   ]
  },
  {
   "cell_type": "markdown",
   "metadata": {},
   "source": [
    "![img](https://miro.medium.com/max/571/0*TF2VBxPanqhxb-hY.png)"
   ]
  },
  {
   "cell_type": "markdown",
   "metadata": {},
   "source": [
    "### Paso 3: busque los datos que desea extraer\n",
    "\n",
    "Extraigamos el nombre, precio y calificación que están anidados en la etiqueta \"div\" respectivamente.\n",
    "\n",
    "Por lo general, nos confundiremos sobre qué etiqueta necesitamos copiar para esta computadora portátil. Podemos usar https://webformatter.com/ para filtrar la etiqueta por el nombre, el precio y la calificación, y podemos copiar fácilmente con esta herramienta.\n",
    "\n",
    "Ahora que hemos escrito el código para abrir la URL, es hora de extraer los datos del sitio web. Como se mencionó anteriormente, los datos que queremos extraer están anidados en etiquetas <div>. Entonces, encontraremos las etiquetas div con esos respectivos nombres de clase, extraeremos y almacenaremos los datos en una variable. Consulte el código a continuación:"
   ]
  },
  {
   "cell_type": "code",
   "execution_count": 31,
   "metadata": {},
   "outputs": [],
   "source": [
    "main_box = soup.find_all()"
   ]
  },
  {
   "cell_type": "code",
   "execution_count": 32,
   "metadata": {},
   "outputs": [
    {
     "data": {
      "text/plain": [
       "2265"
      ]
     },
     "execution_count": 32,
     "metadata": {},
     "output_type": "execute_result"
    }
   ],
   "source": [
    "len(main_box)"
   ]
  },
  {
   "cell_type": "code",
   "execution_count": 33,
   "metadata": {},
   "outputs": [],
   "source": [
    "box = main_box[0]"
   ]
  },
  {
   "cell_type": "code",
   "execution_count": 34,
   "metadata": {},
   "outputs": [],
   "source": [
    "#box"
   ]
  },
  {
   "cell_type": "code",
   "execution_count": 35,
   "metadata": {},
   "outputs": [],
   "source": [
    "# Extraer todos los nombres, precios y ratings del archivo HTML\n",
    "title = box.find('div', attrs={'class':\"_4rR01T\"}).text\n",
    "price = box.find('div', attrs={'class':\"_30jeq3 _1_WHN1\"}).text\n",
    "rating = box.find('div', attrs={'class':\"_3LWZlK\"}).text"
   ]
  },
  {
   "cell_type": "code",
   "execution_count": 36,
   "metadata": {},
   "outputs": [
    {
     "name": "stdout",
     "output_type": "stream",
     "text": [
      "Lenovo Core i5 9th Gen - (8 GB/1 TB HDD/Windows 10 Home/3 GB Graphics/NVIDIA GeForce GTX 1050) L340-15... ₹49,990 4.1\n"
     ]
    }
   ],
   "source": [
    "print(title,price,rating)"
   ]
  },
  {
   "cell_type": "code",
   "execution_count": 37,
   "metadata": {},
   "outputs": [],
   "source": [
    "name_html = soup.find_all('div', attrs={'class':\"_4rR01T\"})\n",
    "price_html = soup.find_all('div', attrs={'class':\"_30jeq3 _1_WHN1\"})\n",
    "rating_html = soup.find_all('div', attrs={'class':\"_3LWZlK\"})\n",
    "\n",
    "for name_obj in name_html:\n",
    "    name.append(name_obj.text)\n",
    "for price_obj in price_html:\n",
    "    prices.append(price_obj.text)\n",
    "for rating_obj in rating_html:\n",
    "    ratings.append(rating_obj.text)"
   ]
  },
  {
   "cell_type": "code",
   "execution_count": 38,
   "metadata": {},
   "outputs": [],
   "source": [
    "data_list=[]\n",
    "for box in main_box:\n",
    "    temp_dict={}\n",
    "    #completa\n",
    "    temp_dict['name'] = name\n",
    "    temp_dict['price'] = prices\n",
    "    temp_dict['rating'] = ratings\n",
    "    data_list.append(temp_dict)"
   ]
  },
  {
   "cell_type": "code",
   "execution_count": 250,
   "metadata": {},
   "outputs": [
    {
     "name": "stdout",
     "output_type": "stream",
     "text": [
      "{'name': ['HP 14s Core i3 11th Gen - (8 GB/256 GB SSD/Windows 10 Home) 14s- DY2501TU Thin and Light Laptop', 'HP 15-ec1105AX Ryzen 5 Hexa Core 4600H - (8 GB/512 GB SSD/Windows 10 Home/4 GB Graphics/NVIDIA GeForce...', 'HP Pavilion Ryzen 5 Hexa Core 5600H - (8 GB/512 GB SSD/Windows 10 Home/4 GB Graphics/NVIDIA GeForce GT...', 'acer Aspire 7 Ryzen 5 Hexa Core 5500U - (8 GB/512 GB SSD/Windows 10 Home/4 GB Graphics/NVIDIA GeForce ...', 'Lenovo IdeaPad Slim 3i (2021) Core i3 11th Gen - (8 GB/512 GB SSD/Windows 10 Home) 14ITL6 Thin and Lig...', 'Lenovo APU Dual Core A9 A99425 - (4 GB/1 TB HDD/Windows 10) E41-45 Notebook', 'Lenovo Ideapad 3 Dual Core 3020e - (4 GB/1 TB HDD/Windows 10 Home) 15ADA05 Laptop', 'acer Aspire 7 Core i5 10th Gen - (8 GB/512 GB SSD/Windows 10 Home/4 GB Graphics/NVIDIA GeForce GTX 165...', 'acer Aspire 5 Core i3 11th Gen - (4 GB/256 GB SSD/Windows 10 Home) A515-56 Thin and Light Laptop', 'Lenovo IdeaPad 3 Core i3 10th Gen - (8 GB/1 TB HDD/Windows 10 Home) 15IML05 Thin and Light Laptop', 'Lenovo IdeaPad Core i3 10th Gen - (8 GB/256 GB SSD/Windows 10 Home) 14 IML 05 Thin and Light Laptop', 'ASUS VivoBook Flip Ryzen 5 Hexa Core - (8 GB/512 GB SSD/Windows 10 Home) TM420UA-EC501TS 2 in 1 Laptop', 'HP Ryzen 5 Quad Core 3500U - (8 GB/1 TB HDD/256 GB SSD/Windows 10 Home) 14s-dk0501AU Thin and Light La...', 'ASUS Core i5 10th Gen - (8 GB + 32 GB Optane/512 GB SSD/Windows 10 Home) X515JA-EJ562TS Thin and Light...', 'DELL Vostro Core i3 10th Gen - (4 GB/256 GB SSD/Windows 10 Home) Vostro 3401 Thin and Light Laptop', 'DELL Inspiron Core i5 11th Gen - (8 GB/1 TB HDD/256 GB SSD/Windows 10) INSPIRON 3501 Thin and Light La...', 'Lenovo IdeaPad 3 Core i3 11th Gen - (8 GB/512 GB SSD/Windows 10 Home) 15ITL6 Thin and Light Laptop', 'DELL Inspiron Ryzen 5 Quad Core 3450U - (8 GB/256 GB SSD/Windows 10) Inspiron 3505 Laptop', 'HP Pavilion Core i5 11th Gen - (16 GB/512 GB SSD/Windows 10 Home) 14-dv0054TU Thin and Light Laptop', 'DELL Inspiron Core i5 11th Gen - (8 GB/512 GB SSD/Windows 10) Inspiron 5410 2 in 1 Laptop', 'DELL Inspiron Ryzen 3 Dual Core 3250U - (8 GB/256 GB SSD/Windows 10) INSPIRON 3505 Laptop', 'ASUS Core i3 10th Gen - (4 GB + 32 GB Optane/512 GB SSD/Windows 10 Home) X515JA-EJ372TS Thin and Light...', 'MSI Bravo Ryzen 5 Hexa Core 5600H - (8 GB/512 GB SSD/Windows 10 Home/4 GB Graphics/AMD Radeon RX5500M/...', 'DELL Inspiron Core i3 11th Gen - (4 GB/512 GB SSD/Windows 10) Inspiron 3501 Thin and Light Laptop', 'HP 14s Core i3 11th Gen - (8 GB/256 GB SSD/Windows 10 Home) 14s- DY2501TU Thin and Light Laptop', 'HP 15-ec1105AX Ryzen 5 Hexa Core 4600H - (8 GB/512 GB SSD/Windows 10 Home/4 GB Graphics/NVIDIA GeForce...', 'HP Pavilion Ryzen 5 Hexa Core 5600H - (8 GB/512 GB SSD/Windows 10 Home/4 GB Graphics/NVIDIA GeForce GT...', 'acer Aspire 7 Ryzen 5 Hexa Core 5500U - (8 GB/512 GB SSD/Windows 10 Home/4 GB Graphics/NVIDIA GeForce ...', 'Lenovo IdeaPad Slim 3i (2021) Core i3 11th Gen - (8 GB/512 GB SSD/Windows 10 Home) 14ITL6 Thin and Lig...', 'Lenovo APU Dual Core A9 A99425 - (4 GB/1 TB HDD/Windows 10) E41-45 Notebook', 'Lenovo Ideapad 3 Dual Core 3020e - (4 GB/1 TB HDD/Windows 10 Home) 15ADA05 Laptop', 'acer Aspire 7 Core i5 10th Gen - (8 GB/512 GB SSD/Windows 10 Home/4 GB Graphics/NVIDIA GeForce GTX 165...', 'acer Aspire 5 Core i3 11th Gen - (4 GB/256 GB SSD/Windows 10 Home) A515-56 Thin and Light Laptop', 'Lenovo IdeaPad 3 Core i3 10th Gen - (8 GB/1 TB HDD/Windows 10 Home) 15IML05 Thin and Light Laptop', 'Lenovo IdeaPad Core i3 10th Gen - (8 GB/256 GB SSD/Windows 10 Home) 14 IML 05 Thin and Light Laptop', 'ASUS VivoBook Flip Ryzen 5 Hexa Core - (8 GB/512 GB SSD/Windows 10 Home) TM420UA-EC501TS 2 in 1 Laptop', 'HP Ryzen 5 Quad Core 3500U - (8 GB/1 TB HDD/256 GB SSD/Windows 10 Home) 14s-dk0501AU Thin and Light La...', 'ASUS Core i5 10th Gen - (8 GB + 32 GB Optane/512 GB SSD/Windows 10 Home) X515JA-EJ562TS Thin and Light...', 'DELL Vostro Core i3 10th Gen - (4 GB/256 GB SSD/Windows 10 Home) Vostro 3401 Thin and Light Laptop', 'DELL Inspiron Core i5 11th Gen - (8 GB/1 TB HDD/256 GB SSD/Windows 10) INSPIRON 3501 Thin and Light La...', 'Lenovo IdeaPad 3 Core i3 11th Gen - (8 GB/512 GB SSD/Windows 10 Home) 15ITL6 Thin and Light Laptop', 'DELL Inspiron Ryzen 5 Quad Core 3450U - (8 GB/256 GB SSD/Windows 10) Inspiron 3505 Laptop', 'HP Pavilion Core i5 11th Gen - (16 GB/512 GB SSD/Windows 10 Home) 14-dv0054TU Thin and Light Laptop', 'DELL Inspiron Core i5 11th Gen - (8 GB/512 GB SSD/Windows 10) Inspiron 5410 2 in 1 Laptop', 'DELL Inspiron Ryzen 3 Dual Core 3250U - (8 GB/256 GB SSD/Windows 10) INSPIRON 3505 Laptop', 'ASUS Core i3 10th Gen - (4 GB + 32 GB Optane/512 GB SSD/Windows 10 Home) X515JA-EJ372TS Thin and Light...', 'MSI Bravo Ryzen 5 Hexa Core 5600H - (8 GB/512 GB SSD/Windows 10 Home/4 GB Graphics/AMD Radeon RX5500M/...', 'DELL Inspiron Core i3 11th Gen - (4 GB/512 GB SSD/Windows 10) Inspiron 3501 Thin and Light Laptop', 'HP 14s Core i3 11th Gen - (8 GB/256 GB SSD/Windows 10 Home) 14s- DY2501TU Thin and Light Laptop', 'HP 15-ec1105AX Ryzen 5 Hexa Core 4600H - (8 GB/512 GB SSD/Windows 10 Home/4 GB Graphics/NVIDIA GeForce...', 'HP Pavilion Ryzen 5 Hexa Core 5600H - (8 GB/512 GB SSD/Windows 10 Home/4 GB Graphics/NVIDIA GeForce GT...', 'acer Aspire 7 Ryzen 5 Hexa Core 5500U - (8 GB/512 GB SSD/Windows 10 Home/4 GB Graphics/NVIDIA GeForce ...', 'Lenovo IdeaPad Slim 3i (2021) Core i3 11th Gen - (8 GB/512 GB SSD/Windows 10 Home) 14ITL6 Thin and Lig...', 'Lenovo APU Dual Core A9 A99425 - (4 GB/1 TB HDD/Windows 10) E41-45 Notebook', 'Lenovo Ideapad 3 Dual Core 3020e - (4 GB/1 TB HDD/Windows 10 Home) 15ADA05 Laptop', 'acer Aspire 7 Core i5 10th Gen - (8 GB/512 GB SSD/Windows 10 Home/4 GB Graphics/NVIDIA GeForce GTX 165...', 'acer Aspire 5 Core i3 11th Gen - (4 GB/256 GB SSD/Windows 10 Home) A515-56 Thin and Light Laptop', 'Lenovo IdeaPad 3 Core i3 10th Gen - (8 GB/1 TB HDD/Windows 10 Home) 15IML05 Thin and Light Laptop', 'Lenovo IdeaPad Core i3 10th Gen - (8 GB/256 GB SSD/Windows 10 Home) 14 IML 05 Thin and Light Laptop', 'ASUS VivoBook Flip Ryzen 5 Hexa Core - (8 GB/512 GB SSD/Windows 10 Home) TM420UA-EC501TS 2 in 1 Laptop', 'HP Ryzen 5 Quad Core 3500U - (8 GB/1 TB HDD/256 GB SSD/Windows 10 Home) 14s-dk0501AU Thin and Light La...', 'ASUS Core i5 10th Gen - (8 GB + 32 GB Optane/512 GB SSD/Windows 10 Home) X515JA-EJ562TS Thin and Light...', 'DELL Vostro Core i3 10th Gen - (4 GB/256 GB SSD/Windows 10 Home) Vostro 3401 Thin and Light Laptop', 'DELL Inspiron Core i5 11th Gen - (8 GB/1 TB HDD/256 GB SSD/Windows 10) INSPIRON 3501 Thin and Light La...', 'Lenovo IdeaPad 3 Core i3 11th Gen - (8 GB/512 GB SSD/Windows 10 Home) 15ITL6 Thin and Light Laptop', 'DELL Inspiron Ryzen 5 Quad Core 3450U - (8 GB/256 GB SSD/Windows 10) Inspiron 3505 Laptop', 'HP Pavilion Core i5 11th Gen - (16 GB/512 GB SSD/Windows 10 Home) 14-dv0054TU Thin and Light Laptop', 'DELL Inspiron Core i5 11th Gen - (8 GB/512 GB SSD/Windows 10) Inspiron 5410 2 in 1 Laptop', 'DELL Inspiron Ryzen 3 Dual Core 3250U - (8 GB/256 GB SSD/Windows 10) INSPIRON 3505 Laptop', 'ASUS Core i3 10th Gen - (4 GB + 32 GB Optane/512 GB SSD/Windows 10 Home) X515JA-EJ372TS Thin and Light...', 'MSI Bravo Ryzen 5 Hexa Core 5600H - (8 GB/512 GB SSD/Windows 10 Home/4 GB Graphics/AMD Radeon RX5500M/...', 'DELL Inspiron Core i3 11th Gen - (4 GB/512 GB SSD/Windows 10) Inspiron 3501 Thin and Light Laptop'], 'price': ['₹41,990', '₹59,990', '₹64,056', '₹56,990', '₹45,990', '₹28,000', '₹26,990', '₹56,990', '₹38,990', '₹39,990', '₹39,990', '₹59,990', '₹47,990', '₹53,990', '₹36,057', '₹59,290', '₹44,490', '₹42,890', '₹66,990', '₹69,990', '₹39,090', '₹39,990', '₹67,990', '₹43,850'], 'rating': ['4.4', '4.5', '4.5', '4.5', '4.4', '4.6', '4.1', '4.4', '4.3', '4.3', '4.2', '4.4', '4.4', '4.2', '4.2', '4.2', '4.3', '4.2', '4.5', '4.7', '4.2', '4.3', '4.9', '4.4', '4.4', '5', '3', '4.3', '5', '4', '4.2', '5', '1', '4.4', '5', '5', '4.3', '5', '3']}\n"
     ]
    }
   ],
   "source": [
    "print(data_list[0])"
   ]
  },
  {
   "cell_type": "markdown",
   "metadata": {},
   "source": [
    "### Paso 4: Crear un dataframe y guardar los datos en csv\n",
    "\n",
    "Después de extraer los datos, es posible que desee almacenarlos en un formato. Este formato varía según sus necesidades. Para este ejemplo, almacenaremos los datos extraídos en formato CSV (valores separados por comas). Para hacer esto, agregaré las siguientes líneas a mi código:"
   ]
  },
  {
   "cell_type": "code",
   "execution_count": 277,
   "metadata": {},
   "outputs": [],
   "source": [
    "#To show products that only have price and rating\n",
    "headers = [\"Product Name\", \"Prices\", \"Ratings\"]\n",
    "\n",
    "with open('./zitate.csv', 'w') as csv_file:\n",
    "    csv_writer = csv.writer(csv_file, dialect='excel')\n",
    "    csv_writer.writerow(headers)\n",
    "    csv_writer.writerows(zip(name, prices, ratings))"
   ]
  },
  {
   "cell_type": "code",
   "execution_count": 269,
   "metadata": {},
   "outputs": [],
   "source": [
    "#To show all products even if they dont have price or rating\n",
    "dataset = {'Product Name':name, 'Price':prices, 'Rating':ratings}\n",
    "df = pd.DataFrame.from_dict(dataset, orient='index')\n",
    "df.transpose()\n",
    "df.to_csv('products.csv', index=True, encoding='utf-8')"
   ]
  },
  {
   "cell_type": "code",
   "execution_count": 179,
   "metadata": {},
   "outputs": [],
   "source": [
    "#FALTA 1\n",
    "#completa(\"datos_compus.csv\", index=False, encoding='utf-8')"
   ]
  },
  {
   "cell_type": "markdown",
   "metadata": {},
   "source": [
    "### Paso 5: Un poco de EDA y visualización de este archivo"
   ]
  },
  {
   "cell_type": "code",
   "execution_count": 280,
   "metadata": {},
   "outputs": [
    {
     "name": "stdout",
     "output_type": "stream",
     "text": [
      "                                         Product Name   Prices  Ratings\n",
      "0   HP 14s Core i3 11th Gen - (8 GB/256 GB SSD/Win...  ₹41,990      4.4\n",
      "1   HP 15-ec1105AX Ryzen 5 Hexa Core 4600H - (8 GB...  ₹59,990      4.5\n",
      "2   HP Pavilion Ryzen 5 Hexa Core 5600H - (8 GB/51...  ₹64,056      4.5\n",
      "3   acer Aspire 7 Ryzen 5 Hexa Core 5500U - (8 GB/...  ₹56,990      4.5\n",
      "4   Lenovo IdeaPad Slim 3i (2021) Core i3 11th Gen...  ₹45,990      4.4\n",
      "5   Lenovo APU Dual Core A9 A99425 - (4 GB/1 TB HD...  ₹28,000      4.6\n",
      "6   Lenovo Ideapad 3 Dual Core 3020e - (4 GB/1 TB ...  ₹26,990      4.1\n",
      "7   acer Aspire 7 Core i5 10th Gen - (8 GB/512 GB ...  ₹56,990      4.4\n",
      "8   acer Aspire 5 Core i3 11th Gen - (4 GB/256 GB ...  ₹38,990      4.3\n",
      "9   Lenovo IdeaPad 3 Core i3 10th Gen - (8 GB/1 TB...  ₹39,990      4.3\n",
      "10  Lenovo IdeaPad Core i3 10th Gen - (8 GB/256 GB...  ₹39,990      4.2\n",
      "11  ASUS VivoBook Flip Ryzen 5 Hexa Core - (8 GB/5...  ₹59,990      4.4\n",
      "12  HP Ryzen 5 Quad Core 3500U - (8 GB/1 TB HDD/25...  ₹47,990      4.4\n",
      "13  ASUS Core i5 10th Gen - (8 GB + 32 GB Optane/5...  ₹53,990      4.2\n",
      "14  DELL Vostro Core i3 10th Gen - (4 GB/256 GB SS...  ₹36,057      4.2\n",
      "15  DELL Inspiron Core i5 11th Gen - (8 GB/1 TB HD...  ₹59,290      4.2\n",
      "16  Lenovo IdeaPad 3 Core i3 11th Gen - (8 GB/512 ...  ₹44,490      4.3\n",
      "17  DELL Inspiron Ryzen 5 Quad Core 3450U - (8 GB/...  ₹42,890      4.2\n",
      "18  HP Pavilion Core i5 11th Gen - (16 GB/512 GB S...  ₹66,990      4.5\n",
      "19  DELL Inspiron Core i5 11th Gen - (8 GB/512 GB ...  ₹69,990      4.7\n",
      "20  DELL Inspiron Ryzen 3 Dual Core 3250U - (8 GB/...  ₹39,090      4.2\n",
      "21  ASUS Core i3 10th Gen - (4 GB + 32 GB Optane/5...  ₹39,990      4.3\n",
      "22  MSI Bravo Ryzen 5 Hexa Core 5600H - (8 GB/512 ...  ₹67,990      4.9\n",
      "23  DELL Inspiron Core i3 11th Gen - (4 GB/512 GB ...  ₹43,850      4.4\n"
     ]
    }
   ],
   "source": [
    "df = pd.read_csv(\"zitate.csv\", sep=None, thousands=',', engine='python')\n",
    "print(df)"
   ]
  },
  {
   "cell_type": "code",
   "execution_count": 282,
   "metadata": {},
   "outputs": [
    {
     "name": "stdout",
     "output_type": "stream",
     "text": [
      "24 3\n"
     ]
    }
   ],
   "source": [
    "col_num = len(df)\n",
    "row_num = len(df.columns)\n",
    "print(col_num, row_num)"
   ]
  },
  {
   "cell_type": "code",
   "execution_count": 283,
   "metadata": {},
   "outputs": [
    {
     "name": "stdout",
     "output_type": "stream",
     "text": [
      "<class 'pandas.core.frame.DataFrame'>\n",
      "RangeIndex: 24 entries, 0 to 23\n",
      "Data columns (total 3 columns):\n",
      " #   Column        Non-Null Count  Dtype  \n",
      "---  ------        --------------  -----  \n",
      " 0   Product Name  24 non-null     object \n",
      " 1   Prices        24 non-null     object \n",
      " 2   Ratings       24 non-null     float64\n",
      "dtypes: float64(1), object(2)\n",
      "memory usage: 704.0+ bytes\n"
     ]
    }
   ],
   "source": [
    "df.info()"
   ]
  },
  {
   "cell_type": "markdown",
   "metadata": {},
   "source": [
    "Quiero dividir el título debido a todas las especificaciones y nombres de portátiles en una fila.\n",
    "\n",
    "Lo dividiremos en diferentes columnas por separado usando la opción split ()"
   ]
  },
  {
   "cell_type": "code",
   "execution_count": 298,
   "metadata": {},
   "outputs": [
    {
     "ename": "NameError",
     "evalue": "name 'laptop_df' is not defined",
     "output_type": "error",
     "traceback": [
      "\u001b[0;31m---------------------------------------------------------------------------\u001b[0m",
      "\u001b[0;31mNameError\u001b[0m                                 Traceback (most recent call last)",
      "\u001b[0;32m<ipython-input-298-0651590cc0ae>\u001b[0m in \u001b[0;36m<module>\u001b[0;34m\u001b[0m\n\u001b[0;32m----> 1\u001b[0;31m \u001b[0mlaptop_df\u001b[0m\u001b[0;34m[\u001b[0m\u001b[0;34m'model'\u001b[0m\u001b[0;34m]\u001b[0m\u001b[0;34m,\u001b[0m \u001b[0mlaptop_df\u001b[0m\u001b[0;34m[\u001b[0m\u001b[0;34m'spec'\u001b[0m\u001b[0;34m]\u001b[0m \u001b[0;34m=\u001b[0m \u001b[0mlaptop_df\u001b[0m\u001b[0;34m[\u001b[0m\u001b[0;34m'title'\u001b[0m\u001b[0;34m]\u001b[0m\u001b[0;34m.\u001b[0m\u001b[0mstr\u001b[0m\u001b[0;34m.\u001b[0m\u001b[0msplit\u001b[0m\u001b[0;34m(\u001b[0m\u001b[0;34m'-'\u001b[0m\u001b[0;34m,\u001b[0m \u001b[0;36m1\u001b[0m\u001b[0;34m)\u001b[0m\u001b[0;34m.\u001b[0m\u001b[0mstr\u001b[0m\u001b[0;34m\u001b[0m\u001b[0;34m\u001b[0m\u001b[0m\n\u001b[0m\u001b[1;32m      2\u001b[0m \u001b[0;32mdel\u001b[0m \u001b[0mlaptop_df\u001b[0m\u001b[0;34m[\u001b[0m\u001b[0;34m'title'\u001b[0m\u001b[0;34m]\u001b[0m\u001b[0;34m\u001b[0m\u001b[0;34m\u001b[0m\u001b[0m\n\u001b[1;32m      3\u001b[0m \u001b[0mlaptop_df\u001b[0m\u001b[0;34m.\u001b[0m\u001b[0mhead\u001b[0m\u001b[0;34m(\u001b[0m\u001b[0;34m)\u001b[0m\u001b[0;34m\u001b[0m\u001b[0;34m\u001b[0m\u001b[0m\n",
      "\u001b[0;31mNameError\u001b[0m: name 'laptop_df' is not defined"
     ]
    }
   ],
   "source": [
    "#FALTA 2\n",
    "laptop_df['model'], laptop_df['spec'] = laptop_df['title'].str.split('-', 1).str\n",
    "del laptop_df['title']\n",
    "laptop_df.head()"
   ]
  },
  {
   "cell_type": "markdown",
   "metadata": {},
   "source": [
    "Usamos esta opción dividida (split \"-\") para separar del título y crear una columna separada como modelo y especificación y eliminar el título"
   ]
  },
  {
   "cell_type": "code",
   "execution_count": null,
   "metadata": {},
   "outputs": [],
   "source": [
    "#RULAs\n",
    "#completa"
   ]
  },
  {
   "cell_type": "code",
   "execution_count": null,
   "metadata": {},
   "outputs": [],
   "source": [
    "#RULAs\n",
    "#completa"
   ]
  },
  {
   "cell_type": "markdown",
   "metadata": {},
   "source": [
    "Continuemos hasta conseguir lo siguiente..."
   ]
  },
  {
   "cell_type": "code",
   "execution_count": null,
   "metadata": {},
   "outputs": [],
   "source": [
    "#RULAs\n",
    "#completa"
   ]
  },
  {
   "cell_type": "code",
   "execution_count": null,
   "metadata": {},
   "outputs": [],
   "source": [
    "#RULAs\n",
    "#completa"
   ]
  },
  {
   "cell_type": "markdown",
   "metadata": {},
   "source": [
    "### Paso 6: Identificación de valores perdidos\n",
    "\n",
    "Los métodos isnull () y notnull () son las formas más comunes de identificar valores perdidos.\n",
    "\n",
    "Mientras maneja los datos faltantes, primero debe identificar las filas y columnas que contienen los valores faltantes, contar el número de valores faltantes y luego decidir cómo desea tratarlos.\n",
    "\n",
    "Es importante que trate los valores faltantes en cada columna por separado, en lugar de implementar una única solución (por ejemplo, reemplazar los NaN por la media de una columna) para todas las columnas.\n",
    "\n",
    "isnull () devuelve un valor booleano (Verdadero / Falso) que luego se puede usar para encontrar las filas o columnas que contienen valores perdidos."
   ]
  },
  {
   "cell_type": "code",
   "execution_count": null,
   "metadata": {},
   "outputs": [],
   "source": [
    "#completa"
   ]
  },
  {
   "cell_type": "markdown",
   "metadata": {},
   "source": [
    "### Identificación de valores perdidos en columnas\n",
    "\n",
    "Primero calculemos el número total de valores faltantes en el marco de datos. Puede calcular el número de valores perdidos en cada columna mediante df.isnull().Sum()"
   ]
  },
  {
   "cell_type": "code",
   "execution_count": null,
   "metadata": {},
   "outputs": [],
   "source": [
    "#completa"
   ]
  },
  {
   "cell_type": "code",
   "execution_count": null,
   "metadata": {},
   "outputs": [],
   "source": [
    "#completa"
   ]
  },
  {
   "cell_type": "code",
   "execution_count": null,
   "metadata": {},
   "outputs": [],
   "source": [
    "#completa"
   ]
  },
  {
   "cell_type": "code",
   "execution_count": null,
   "metadata": {},
   "outputs": [],
   "source": [
    "#completa"
   ]
  },
  {
   "cell_type": "code",
   "execution_count": null,
   "metadata": {},
   "outputs": [],
   "source": [
    "#completa"
   ]
  },
  {
   "cell_type": "markdown",
   "metadata": {},
   "source": [
    "Ahora necesitamos filtrar las mejores computadoras portátiles con buenas especificaciones, precio y calificación de la lista"
   ]
  },
  {
   "cell_type": "markdown",
   "metadata": {},
   "source": [
    "Muestra los siguientes resultados:\n",
    " * Laptops en rating <= 4\n",
    " * Laptops con rating >= 3.5 y un precio entre 30 y 40 mil $"
   ]
  },
  {
   "cell_type": "code",
   "execution_count": null,
   "metadata": {},
   "outputs": [],
   "source": [
    "#completa"
   ]
  },
  {
   "cell_type": "code",
   "execution_count": null,
   "metadata": {},
   "outputs": [],
   "source": [
    "#completa"
   ]
  },
  {
   "cell_type": "markdown",
   "metadata": {},
   "source": [
    "---------\n",
    "\n",
    "### Visualización de los datos"
   ]
  },
  {
   "cell_type": "code",
   "execution_count": null,
   "metadata": {},
   "outputs": [],
   "source": [
    "#completa"
   ]
  },
  {
   "cell_type": "markdown",
   "metadata": {},
   "source": [
    "Realizaremos una gráfica de barras de precio vs rating"
   ]
  },
  {
   "cell_type": "code",
   "execution_count": null,
   "metadata": {},
   "outputs": [],
   "source": [
    "#completa"
   ]
  },
  {
   "cell_type": "code",
   "execution_count": null,
   "metadata": {},
   "outputs": [],
   "source": [
    "#completa"
   ]
  },
  {
   "cell_type": "markdown",
   "metadata": {},
   "source": [
    "Podemos concluir a partir de aquí que los productos con precios más altos tienen calificaciones más altas hasta cierto punto."
   ]
  },
  {
   "cell_type": "code",
   "execution_count": null,
   "metadata": {},
   "outputs": [],
   "source": [
    "#completa"
   ]
  },
  {
   "cell_type": "markdown",
   "metadata": {},
   "source": [
    "## ¿Les ha salido algún discordante visual a ustedes?"
   ]
  },
  {
   "cell_type": "code",
   "execution_count": null,
   "metadata": {},
   "outputs": [],
   "source": [
    "#completa"
   ]
  },
  {
   "cell_type": "markdown",
   "metadata": {},
   "source": [
    "### ¿Para ustedes, cuáles fueron las computadoras más caras?"
   ]
  },
  {
   "cell_type": "code",
   "execution_count": null,
   "metadata": {},
   "outputs": [],
   "source": []
  },
  {
   "cell_type": "markdown",
   "metadata": {},
   "source": [
    "----\n",
    "----\n",
    "----\n",
    "\n",
    "<h1><center>Monte Carlo</center><h1>\n",
    "\n",
    "### ¿Por qué la casa siempre gana?\n",
    "\n",
    "¿Cómo ganan dinero los casinos? El truco es sencillo: \"Cuanto más juegas, más ganan\". Echemos un vistazo a cómo funciona esto con un ejemplo simple de simulación de Monte Carlo.\n",
    "\n",
    "----\n",
    "\n",
    "Considere un juego imaginario en el que un jugador tiene que elegir una ficha de una bolsa de fichas.\n",
    "\n",
    "Reglas:\n",
    " * Hay fichas que contienen números que van del 1 al 100 en una bolsa.\n",
    " * Los usuarios pueden apostar en fichas pares o impares.\n",
    " * En este juego, el 10 y el 11 son números especiales. Si apostamos a pares, entonces 10 se contará como un número impar, y si apostamos a las probabilidades, entonces 11 se contará como un número par.\n",
    " * Si apostamos a números pares y obtenemos 10, perdemos.\n",
    " * Si apostamos a números impares y obtenemos 11, perdemos."
   ]
  },
  {
   "cell_type": "markdown",
   "metadata": {},
   "source": [
    "Si apostamos por las probabilidades, la probabilidad de que ganemos es de 49/100. \n",
    "\n",
    "---\n",
    "\n",
    "La probabilidad de que la casa gane es de 51/100. \n",
    "\n",
    "---"
   ]
  },
  {
   "cell_type": "markdown",
   "metadata": {},
   "source": [
    "### Importamos librerías"
   ]
  },
  {
   "cell_type": "code",
   "execution_count": null,
   "metadata": {},
   "outputs": [],
   "source": [
    "import random\n",
    "import matplotlib.pyplot as plt"
   ]
  },
  {
   "cell_type": "markdown",
   "metadata": {},
   "source": [
    "### Creación de las apuestas del jugador"
   ]
  },
  {
   "cell_type": "code",
   "execution_count": null,
   "metadata": {},
   "outputs": [],
   "source": [
    "#Player bet\n",
    "choice = input(\"Deseas apostar a pares o impares? \\n\")\n",
    "\n",
    "#Pares\n",
    "if choice == \"Par\":\n",
    "    def pickNote():\n",
    "        note = random.randint(1,100)\n",
    "        #completa\n",
    "            return False\n",
    "        #completa\n",
    "            return True\n",
    "\n",
    "elif choice == \"Odd\":\n",
    "    def pickNote():\n",
    "        #completa"
   ]
  },
  {
   "cell_type": "markdown",
   "metadata": {},
   "source": [
    "### Función principal"
   ]
  },
  {
   "cell_type": "code",
   "execution_count": null,
   "metadata": {},
   "outputs": [],
   "source": [
    "def play(total_money, bet_money, total_plays):\n",
    "    num_plays=[]\n",
    "    money=[]\n",
    "\n",
    "    play = 1\n",
    "    \n",
    "    for play in range(total_plays):\n",
    "        if pickNote():\n",
    "            total_money = total_money + bet_money\n",
    "            num_plays.#completa\n",
    "            money.append#completa\n",
    "            \n",
    "        else:\n",
    "            #completa\n",
    "    \n",
    "    plt.ylabel(\"Dinero en $\")\n",
    "    plt.xlabel(\"Numero de apuestas\")\n",
    "    plt.plot(#completa, #completa)\n",
    "    \n",
    "    final_funds.append(money[-1])\n",
    "    return(final_funds)"
   ]
  },
  {
   "cell_type": "markdown",
   "metadata": {},
   "source": [
    "### Resultado final"
   ]
  },
  {
   "cell_type": "code",
   "execution_count": null,
   "metadata": {},
   "outputs": [],
   "source": [
    "final_funds = []\n",
    "for i in range(10):\n",
    "    ending_fund = play(10000, 100, 50)\n",
    "    \n",
    "print(ending_fund)\n",
    "print(sum(ending_fund))\n",
    "\n",
    "print(\"El jugador empezó con $10,000\")\n",
    "print(\"El jugador se fue con $\", str(sum(ending_fund)/len(ending_fund)))"
   ]
  },
  {
   "cell_type": "markdown",
   "metadata": {},
   "source": [
    "## Ahora, para un total de apuestas de 5, 10 y 1000...."
   ]
  },
  {
   "cell_type": "markdown",
   "metadata": {},
   "source": [
    "### Ahora para mil iteraciones"
   ]
  },
  {
   "cell_type": "code",
   "execution_count": null,
   "metadata": {},
   "outputs": [],
   "source": [
    " #completa"
   ]
  },
  {
   "cell_type": "code",
   "execution_count": null,
   "metadata": {},
   "outputs": [],
   "source": [
    " #completa"
   ]
  },
  {
   "cell_type": "code",
   "execution_count": null,
   "metadata": {},
   "outputs": [],
   "source": [
    " #completa"
   ]
  },
  {
   "cell_type": "markdown",
   "metadata": {},
   "source": [
    "### ¿Qué conclusiones puedes inferir a partir del ejercicio anterior?"
   ]
  },
  {
   "cell_type": "code",
   "execution_count": null,
   "metadata": {},
   "outputs": [],
   "source": []
  },
  {
   "cell_type": "markdown",
   "metadata": {},
   "source": [
    "----\n",
    "\n",
    "Tenga en cuenta que estos porcentajes son para nuestro juego figurativo y pueden modificarse....\n",
    "\n",
    "\n",
    "-------\n",
    "\n",
    "Al igual que con cualquier modelo de pronóstico, la simulación solo será tan buena como las estimaciones que hagamos. Es importante recordar que la simulación de Monte Carlo solo representa probabilidades y no certeza. Sin embargo, la simulación de Monte Carlo puede ser una herramienta valiosa a la hora de pronosticar un futuro desconocido."
   ]
  }
 ],
 "metadata": {
  "kernelspec": {
   "display_name": "Python 3",
   "language": "python",
   "name": "python3"
  },
  "language_info": {
   "codemirror_mode": {
    "name": "ipython",
    "version": 3
   },
   "file_extension": ".py",
   "mimetype": "text/x-python",
   "name": "python",
   "nbconvert_exporter": "python",
   "pygments_lexer": "ipython3",
   "version": "3.9.6"
  }
 },
 "nbformat": 4,
 "nbformat_minor": 4
}
